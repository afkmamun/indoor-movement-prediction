{
 "cells": [
  {
   "cell_type": "code",
   "execution_count": 281,
   "metadata": {},
   "outputs": [],
   "source": [
    "import numpy as np\n",
    "import pandas as pd\n",
    "import matplotlib.pyplot as plt\n",
    "\n",
    "import plotly.graph_objs as go\n",
    "from plotly.offline import download_plotlyjs, init_notebook_mode, plot, iplot\n",
    "import plotly_express as px"
   ]
  },
  {
   "cell_type": "code",
   "execution_count": 282,
   "metadata": {},
   "outputs": [],
   "source": [
    "input_path = '../data/MovementAAL/dataset/MovementAAL_RSS_'\n",
    "target_path = '../data/MovementAAL/dataset/MovementAAL_target.csv'\n",
    "\n",
    "### -------------------------------------------------------- loading files\n",
    "file_dfs = []\n",
    "file_lens = []\n",
    "\n",
    "for i in range(1,315):\n",
    "    file_path = input_path + str(i) + '.csv'\n",
    "    file_df = pd.read_csv(file_path, header=0).reset_index(drop=True)\n",
    "    file_df['_id'] = i\n",
    "    file_df = file_df.reset_index(drop=True)\n",
    "    \n",
    "   \n",
    "    file_dfs.append(file_df)\n",
    "    file_lens.append(file_df.shape[0])\n",
    "    \n",
    "\n",
    "input_df = pd.concat(file_dfs)\n",
    "target_df = pd.read_csv(target_path)[' class_label']\n",
    "group_df = pd.read_csv(group_path)[' dataset_ID']\n",
    "\n",
    "gr_li = []\n",
    "for idx, (id_num, target) in enumerate(zip(input_df['_id'].unique(), target_df)):\n",
    "    gr = input_df[input_df['_id'] == id_num]\n",
    "    gr = gr.reset_index(drop=True)\n",
    "    gr['target'] = [target]*gr.shape[0]\n",
    "    gr['time'] = np.arange(0, gr.shape[0]/8, 1/8)\n",
    "    gr_li.append(gr)\n",
    "\n"
   ]
  },
  {
   "cell_type": "code",
   "execution_count": 306,
   "metadata": {},
   "outputs": [],
   "source": [
    "df = pd.concat(gr_li)\n",
    "df = df.reset_index(drop=True)\n",
    "df.columns = ['RSS_anchor1', 'RSS_anchor2', 'RSS_anchor3', 'RSS_anchor4', '_id',\n",
    "        'target', 'time']\n",
    "df = df[['_id', 'time', 'RSS_anchor1', 'RSS_anchor2', 'RSS_anchor3', 'RSS_anchor4',\n",
    "        'target']]\n",
    "df['target_label'] = df['target'].apply(lambda x: 'Movement' if x==1 else 'Non-Movement')\n",
    "df.to_csv('../data/indoor_movement.csv', index = False)"
   ]
  },
  {
   "cell_type": "code",
   "execution_count": 307,
   "metadata": {},
   "outputs": [],
   "source": [
    "df_red = df[df['_id'].isin(np.arange(25, 30))]\n",
    "df_red.to_csv('../data/indoor_movement_red.csv', index = False)"
   ]
  },
  {
   "cell_type": "code",
   "execution_count": 323,
   "metadata": {},
   "outputs": [
    {
     "data": {
      "application/vnd.plotly.v1+json": {
       "config": {
        "linkText": "Export to plot.ly",
        "plotlyServerURL": "https://plot.ly",
        "showLink": false
       },
       "data": [
        {
         "hovertemplate": "<b>%{hovertext}</b><br><br>target_label=Movement<br>_id=25<br>_id=25<br>time=%{x}<br>RSS_anchor4=%{y}<extra></extra>",
         "hovertext": [
          1,
          1,
          1,
          1,
          1,
          1,
          1,
          1,
          1,
          1,
          1,
          1,
          1,
          1,
          1,
          1,
          1,
          1,
          1,
          1,
          1,
          1,
          1,
          1
         ],
         "legendgroup": "_id=25",
         "line": {
          "color": "#636efa",
          "dash": "solid",
          "shape": "linear"
         },
         "mode": "lines",
         "name": "_id=25",
         "showlegend": true,
         "type": "scatter",
         "uid": "0fda86da-ca06-4a43-8af8-84b283e694a8",
         "x": [
          0,
          0.125,
          0.25,
          0.375,
          0.5,
          0.625,
          0.75,
          0.875,
          1,
          1.125,
          1.25,
          1.375,
          1.5,
          1.625,
          1.75,
          1.875,
          2,
          2.125,
          2.25,
          2.375,
          2.5,
          2.625,
          2.75,
          2.875
         ],
         "xaxis": "x",
         "y": [
          0.8,
          0.65,
          0.8,
          0.55,
          0.35,
          0.5,
          0.15,
          0.15,
          0.3,
          0.35,
          0.25,
          0.2,
          0.1,
          0,
          0.15,
          -0.2,
          -0.2,
          0,
          -0.45,
          0.05,
          0.05,
          0.05,
          0.2,
          -0.05
         ],
         "yaxis": "y"
        },
        {
         "hovertemplate": "<b>%{hovertext}</b><br><br>target_label=Movement<br>_id=26<br>_id=26<br>time=%{x}<br>RSS_anchor4=%{y}<extra></extra>",
         "hovertext": [
          1,
          1,
          1,
          1,
          1,
          1,
          1,
          1,
          1,
          1,
          1,
          1,
          1,
          1,
          1,
          1,
          1,
          1,
          1,
          1,
          1,
          1,
          1,
          1,
          1,
          1
         ],
         "legendgroup": "_id=26",
         "line": {
          "color": "#EF553B",
          "dash": "solid",
          "shape": "linear"
         },
         "mode": "lines",
         "name": "_id=26",
         "showlegend": true,
         "type": "scatter",
         "uid": "b18e1d91-1980-492a-9c26-922b6ba215cf",
         "x": [
          0,
          0.125,
          0.25,
          0.375,
          0.5,
          0.625,
          0.75,
          0.875,
          1,
          1.125,
          1.25,
          1.375,
          1.5,
          1.625,
          1.75,
          1.875,
          2,
          2.125,
          2.25,
          2.375,
          2.5,
          2.625,
          2.75,
          2.875,
          3,
          3.125
         ],
         "xaxis": "x",
         "y": [
          0.35,
          0.55,
          0.4,
          0.55,
          0.65,
          0.75,
          0.8,
          0.55,
          0.65,
          0.35,
          0.2,
          0.35,
          0.15,
          0.35,
          0.35,
          -0.1,
          0.2,
          0.15,
          0.05,
          0.1,
          -0.25,
          -0.15,
          0.05,
          0.05,
          0,
          0.1
         ],
         "yaxis": "y"
        },
        {
         "hovertemplate": "<b>%{hovertext}</b><br><br>target_label=Non-Movement<br>_id=27<br>_id=27<br>time=%{x}<br>RSS_anchor4=%{y}<extra></extra>",
         "hovertext": [
          -1,
          -1,
          -1,
          -1,
          -1,
          -1,
          -1,
          -1,
          -1,
          -1,
          -1,
          -1,
          -1,
          -1,
          -1,
          -1,
          -1,
          -1,
          -1,
          -1,
          -1,
          -1,
          -1,
          -1,
          -1,
          -1,
          -1,
          -1,
          -1
         ],
         "legendgroup": "_id=27",
         "line": {
          "color": "#00cc96",
          "dash": "solid",
          "shape": "linear"
         },
         "mode": "lines",
         "name": "_id=27",
         "showlegend": true,
         "type": "scatter",
         "uid": "a3885661-9f1e-456a-93b5-2cc19f8eade9",
         "x": [
          0,
          0.125,
          0.25,
          0.375,
          0.5,
          0.625,
          0.75,
          0.875,
          1,
          1.125,
          1.25,
          1.375,
          1.5,
          1.625,
          1.75,
          1.875,
          2,
          2.125,
          2.25,
          2.375,
          2.5,
          2.625,
          2.75,
          2.875,
          3,
          3.125,
          3.25,
          3.375,
          3.5
         ],
         "xaxis": "x",
         "y": [
          -0.05,
          -0.15,
          0.05,
          -0.1,
          0.3,
          0.25,
          0.25,
          0.35,
          0,
          0.3,
          0.5,
          0.6,
          0.1,
          -0.05,
          0,
          -0.25,
          -0.6,
          0.15,
          -0.15,
          0.6,
          -0.05,
          0.2,
          0.05,
          0.35,
          -0.4,
          -0.4,
          -0.15,
          0.05,
          0.05
         ],
         "yaxis": "y2"
        },
        {
         "hovertemplate": "<b>%{hovertext}</b><br><br>target_label=Non-Movement<br>_id=28<br>_id=28<br>time=%{x}<br>RSS_anchor4=%{y}<extra></extra>",
         "hovertext": [
          -1,
          -1,
          -1,
          -1,
          -1,
          -1,
          -1,
          -1,
          -1,
          -1,
          -1,
          -1,
          -1,
          -1,
          -1,
          -1,
          -1,
          -1,
          -1,
          -1,
          -1,
          -1,
          -1,
          -1,
          -1,
          -1,
          -1,
          -1,
          -1
         ],
         "legendgroup": "_id=28",
         "line": {
          "color": "#ab63fa",
          "dash": "solid",
          "shape": "linear"
         },
         "mode": "lines",
         "name": "_id=28",
         "showlegend": true,
         "type": "scatter",
         "uid": "fe9c180b-f8a1-45da-b4e5-63588d342d3a",
         "x": [
          0,
          0.125,
          0.25,
          0.375,
          0.5,
          0.625,
          0.75,
          0.875,
          1,
          1.125,
          1.25,
          1.375,
          1.5,
          1.625,
          1.75,
          1.875,
          2,
          2.125,
          2.25,
          2.375,
          2.5,
          2.625,
          2.75,
          2.875,
          3,
          3.125,
          3.25,
          3.375,
          3.5
         ],
         "xaxis": "x",
         "y": [
          0.4,
          0.25,
          -0.2,
          0.45,
          0.1,
          0.05,
          0.2,
          -0.05,
          0.15,
          0.3,
          0,
          0.25,
          0.35,
          0.45,
          0.45,
          0.35,
          0,
          0,
          0.35,
          0.2,
          0.35,
          -0.1,
          0.5,
          0.65,
          0.65,
          0.2,
          -0.35,
          0.25,
          0.3
         ],
         "yaxis": "y2"
        },
        {
         "hovertemplate": "<b>%{hovertext}</b><br><br>target_label=Non-Movement<br>_id=29<br>_id=29<br>time=%{x}<br>RSS_anchor4=%{y}<extra></extra>",
         "hovertext": [
          -1,
          -1,
          -1,
          -1,
          -1,
          -1,
          -1,
          -1,
          -1,
          -1,
          -1,
          -1,
          -1,
          -1,
          -1,
          -1,
          -1,
          -1,
          -1,
          -1,
          -1,
          -1,
          -1,
          -1,
          -1
         ],
         "legendgroup": "_id=29",
         "line": {
          "color": "#19d3f3",
          "dash": "solid",
          "shape": "linear"
         },
         "mode": "lines",
         "name": "_id=29",
         "showlegend": true,
         "type": "scatter",
         "uid": "010d2ef8-d707-4b0b-b3d0-356ff6f65e82",
         "x": [
          0,
          0.125,
          0.25,
          0.375,
          0.5,
          0.625,
          0.75,
          0.875,
          1,
          1.125,
          1.25,
          1.375,
          1.5,
          1.625,
          1.75,
          1.875,
          2,
          2.125,
          2.25,
          2.375,
          2.5,
          2.625,
          2.75,
          2.875,
          3
         ],
         "xaxis": "x",
         "y": [
          0.3,
          0.3,
          0.35,
          0.35,
          0.2,
          0.05,
          -0.5,
          -0.3,
          -0.3,
          0.05,
          0.35,
          0.3,
          0.15,
          0.2,
          0.5,
          0.35,
          0.35,
          -0.3,
          0.2,
          0.25,
          0.2,
          0.2,
          -0.1,
          0.35,
          0.55
         ],
         "yaxis": "y2"
        }
       ],
       "layout": {
        "annotations": [
         {
          "showarrow": false,
          "text": "target_label=Movement",
          "textangle": 90,
          "x": 1.01,
          "xanchor": "center",
          "xref": "paper",
          "y": 0.763157894736842,
          "yanchor": "middle",
          "yref": "paper"
         },
         {
          "showarrow": false,
          "text": "target_label=Non-Movement",
          "textangle": 90,
          "x": 1.01,
          "xanchor": "center",
          "xref": "paper",
          "y": 0.23684210526315788,
          "yanchor": "middle",
          "yref": "paper"
         }
        ],
        "grid": {
         "xaxes": [
          "x"
         ],
         "xgap": 0.1,
         "xside": "bottom",
         "yaxes": [
          "y",
          "y2"
         ],
         "ygap": 0.1,
         "yside": "left"
        },
        "height": 600,
        "legend": {
         "tracegroupgap": 0
        },
        "margin": {
         "t": 60
        },
        "template": {
         "data": {
          "bar": [
           {
            "marker": {
             "line": {
              "color": "#E5ECF6",
              "width": 0.5
             }
            },
            "type": "bar"
           }
          ],
          "barpolar": [
           {
            "marker": {
             "line": {
              "color": "#E5ECF6",
              "width": 0.5
             }
            },
            "type": "barpolar"
           }
          ],
          "carpet": [
           {
            "aaxis": {
             "endlinecolor": "#2a3f5f",
             "gridcolor": "white",
             "linecolor": "white",
             "minorgridcolor": "white",
             "startlinecolor": "#2a3f5f"
            },
            "baxis": {
             "endlinecolor": "#2a3f5f",
             "gridcolor": "white",
             "linecolor": "white",
             "minorgridcolor": "white",
             "startlinecolor": "#2a3f5f"
            },
            "type": "carpet"
           }
          ],
          "choropleth": [
           {
            "colorbar": {
             "outlinewidth": 0,
             "ticks": ""
            },
            "type": "choropleth"
           }
          ],
          "contour": [
           {
            "autocolorscale": true,
            "colorbar": {
             "outlinewidth": 0,
             "ticks": ""
            },
            "type": "contour"
           }
          ],
          "contourcarpet": [
           {
            "colorbar": {
             "outlinewidth": 0,
             "ticks": ""
            },
            "type": "contourcarpet"
           }
          ],
          "heatmap": [
           {
            "autocolorscale": true,
            "colorbar": {
             "outlinewidth": 0,
             "ticks": ""
            },
            "type": "heatmap"
           }
          ],
          "heatmapgl": [
           {
            "colorbar": {
             "outlinewidth": 0,
             "ticks": ""
            },
            "type": "heatmapgl"
           }
          ],
          "histogram": [
           {
            "marker": {
             "colorbar": {
              "outlinewidth": 0,
              "ticks": ""
             }
            },
            "type": "histogram"
           }
          ],
          "histogram2d": [
           {
            "autocolorscale": true,
            "colorbar": {
             "outlinewidth": 0,
             "ticks": ""
            },
            "type": "histogram2d"
           }
          ],
          "histogram2dcontour": [
           {
            "autocolorscale": true,
            "colorbar": {
             "outlinewidth": 0,
             "ticks": ""
            },
            "type": "histogram2dcontour"
           }
          ],
          "mesh3d": [
           {
            "colorbar": {
             "outlinewidth": 0,
             "ticks": ""
            },
            "type": "mesh3d"
           }
          ],
          "parcoords": [
           {
            "line": {
             "colorbar": {
              "outlinewidth": 0,
              "ticks": ""
             }
            },
            "type": "parcoords"
           }
          ],
          "scatter": [
           {
            "marker": {
             "colorbar": {
              "outlinewidth": 0,
              "ticks": ""
             }
            },
            "type": "scatter"
           }
          ],
          "scatter3d": [
           {
            "marker": {
             "colorbar": {
              "outlinewidth": 0,
              "ticks": ""
             }
            },
            "type": "scatter3d"
           }
          ],
          "scattercarpet": [
           {
            "marker": {
             "colorbar": {
              "outlinewidth": 0,
              "ticks": ""
             }
            },
            "type": "scattercarpet"
           }
          ],
          "scattergeo": [
           {
            "marker": {
             "colorbar": {
              "outlinewidth": 0,
              "ticks": ""
             }
            },
            "type": "scattergeo"
           }
          ],
          "scattergl": [
           {
            "marker": {
             "colorbar": {
              "outlinewidth": 0,
              "ticks": ""
             }
            },
            "type": "scattergl"
           }
          ],
          "scattermapbox": [
           {
            "marker": {
             "colorbar": {
              "outlinewidth": 0,
              "ticks": ""
             }
            },
            "type": "scattermapbox"
           }
          ],
          "scatterpolar": [
           {
            "marker": {
             "colorbar": {
              "outlinewidth": 0,
              "ticks": ""
             }
            },
            "type": "scatterpolar"
           }
          ],
          "scatterpolargl": [
           {
            "marker": {
             "colorbar": {
              "outlinewidth": 0,
              "ticks": ""
             }
            },
            "type": "scatterpolargl"
           }
          ],
          "scatterternary": [
           {
            "marker": {
             "colorbar": {
              "outlinewidth": 0,
              "ticks": ""
             }
            },
            "type": "scatterternary"
           }
          ],
          "surface": [
           {
            "colorbar": {
             "outlinewidth": 0,
             "ticks": ""
            },
            "type": "surface"
           }
          ],
          "table": [
           {
            "cells": {
             "fill": {
              "color": "#EBF0F8"
             },
             "line": {
              "color": "white"
             }
            },
            "header": {
             "fill": {
              "color": "#C8D4E3"
             },
             "line": {
              "color": "white"
             }
            },
            "type": "table"
           }
          ]
         },
         "layout": {
          "annotationdefaults": {
           "arrowcolor": "#506784",
           "arrowhead": 0,
           "arrowwidth": 1
          },
          "colorscale": {
           "diverging": [
            [
             0,
             "#8e0152"
            ],
            [
             0.1,
             "#c51b7d"
            ],
            [
             0.2,
             "#de77ae"
            ],
            [
             0.3,
             "#f1b6da"
            ],
            [
             0.4,
             "#fde0ef"
            ],
            [
             0.5,
             "#f7f7f7"
            ],
            [
             0.6,
             "#e6f5d0"
            ],
            [
             0.7,
             "#b8e186"
            ],
            [
             0.8,
             "#7fbc41"
            ],
            [
             0.9,
             "#4d9221"
            ],
            [
             1,
             "#276419"
            ]
           ],
           "sequential": [
            [
             0,
             "#0508b8"
            ],
            [
             0.0893854748603352,
             "#1910d8"
            ],
            [
             0.1787709497206704,
             "#3c19f0"
            ],
            [
             0.2681564245810056,
             "#6b1cfb"
            ],
            [
             0.3575418994413408,
             "#981cfd"
            ],
            [
             0.44692737430167595,
             "#bf1cfd"
            ],
            [
             0.5363128491620112,
             "#dd2bfd"
            ],
            [
             0.6256983240223464,
             "#f246fe"
            ],
            [
             0.7150837988826816,
             "#fc67fd"
            ],
            [
             0.8044692737430168,
             "#fe88fc"
            ],
            [
             0.8938547486033519,
             "#fea5fd"
            ],
            [
             0.9832402234636871,
             "#febefe"
            ],
            [
             1,
             "#fec3fe"
            ]
           ],
           "sequentialminus": [
            [
             0,
             "#0508b8"
            ],
            [
             0.0893854748603352,
             "#1910d8"
            ],
            [
             0.1787709497206704,
             "#3c19f0"
            ],
            [
             0.2681564245810056,
             "#6b1cfb"
            ],
            [
             0.3575418994413408,
             "#981cfd"
            ],
            [
             0.44692737430167595,
             "#bf1cfd"
            ],
            [
             0.5363128491620112,
             "#dd2bfd"
            ],
            [
             0.6256983240223464,
             "#f246fe"
            ],
            [
             0.7150837988826816,
             "#fc67fd"
            ],
            [
             0.8044692737430168,
             "#fe88fc"
            ],
            [
             0.8938547486033519,
             "#fea5fd"
            ],
            [
             0.9832402234636871,
             "#febefe"
            ],
            [
             1,
             "#fec3fe"
            ]
           ]
          },
          "colorway": [
           "#636efa",
           "#EF553B",
           "#00cc96",
           "#ab63fa",
           "#19d3f3",
           "#e763fa",
           "#FECB52",
           "#FFA15A",
           "#FF6692",
           "#B6E880"
          ],
          "font": {
           "color": "#2a3f5f"
          },
          "geo": {
           "bgcolor": "white",
           "lakecolor": "white",
           "landcolor": "#E5ECF6",
           "showlakes": true,
           "showland": true,
           "subunitcolor": "white"
          },
          "hovermode": "closest",
          "mapbox": {
           "style": "light"
          },
          "paper_bgcolor": "white",
          "plot_bgcolor": "#E5ECF6",
          "polar": {
           "angularaxis": {
            "gridcolor": "white",
            "linecolor": "white",
            "ticks": ""
           },
           "bgcolor": "#E5ECF6",
           "radialaxis": {
            "gridcolor": "white",
            "linecolor": "white",
            "ticks": ""
           }
          },
          "scene": {
           "xaxis": {
            "backgroundcolor": "#E5ECF6",
            "gridcolor": "white",
            "gridwidth": 2,
            "linecolor": "white",
            "showbackground": true,
            "ticks": "",
            "zerolinecolor": "white"
           },
           "yaxis": {
            "backgroundcolor": "#E5ECF6",
            "gridcolor": "white",
            "gridwidth": 2,
            "linecolor": "white",
            "showbackground": true,
            "ticks": "",
            "zerolinecolor": "white"
           },
           "zaxis": {
            "backgroundcolor": "#E5ECF6",
            "gridcolor": "white",
            "gridwidth": 2,
            "linecolor": "white",
            "showbackground": true,
            "ticks": "",
            "zerolinecolor": "white"
           }
          },
          "shapedefaults": {
           "fillcolor": "#506784",
           "line": {
            "width": 0
           },
           "opacity": 0.4
          },
          "ternary": {
           "aaxis": {
            "gridcolor": "white",
            "linecolor": "white",
            "ticks": ""
           },
           "baxis": {
            "gridcolor": "white",
            "linecolor": "white",
            "ticks": ""
           },
           "bgcolor": "#E5ECF6",
           "caxis": {
            "gridcolor": "white",
            "linecolor": "white",
            "ticks": ""
           }
          },
          "title": {
           "x": 0.05
          },
          "xaxis": {
           "automargin": true,
           "gridcolor": "white",
           "linecolor": "white",
           "ticks": "",
           "zerolinecolor": "white",
           "zerolinewidth": 2
          },
          "yaxis": {
           "automargin": true,
           "gridcolor": "white",
           "linecolor": "white",
           "ticks": "",
           "zerolinecolor": "white",
           "zerolinewidth": 2
          }
         }
        },
        "xaxis": {
         "title": {
          "text": "time"
         }
        },
        "yaxis": {
         "title": {
          "text": "RSS_anchor4"
         }
        },
        "yaxis2": {
         "matches": "y",
         "title": {
          "text": "RSS_anchor4"
         }
        }
       }
      },
      "text/html": [
       "<div id=\"a691bfd8-c8fe-4fd2-bffc-fbb0eaa9161a\" style=\"height: 600px; width: 100%;\" class=\"plotly-graph-div\"></div><script type=\"text/javascript\">require([\"plotly\"], function(Plotly) { window.PLOTLYENV=window.PLOTLYENV || {};window.PLOTLYENV.BASE_URL=\"https://plot.ly\";\n",
       "if (document.getElementById(\"a691bfd8-c8fe-4fd2-bffc-fbb0eaa9161a\")) {\n",
       "    Plotly.newPlot(\"a691bfd8-c8fe-4fd2-bffc-fbb0eaa9161a\", [{\"hovertemplate\": \"<b>%{hovertext}</b><br><br>target_label=Movement<br>_id=25<br>_id=25<br>time=%{x}<br>RSS_anchor4=%{y}<extra></extra>\", \"hovertext\": [1.0, 1.0, 1.0, 1.0, 1.0, 1.0, 1.0, 1.0, 1.0, 1.0, 1.0, 1.0, 1.0, 1.0, 1.0, 1.0, 1.0, 1.0, 1.0, 1.0, 1.0, 1.0, 1.0, 1.0], \"legendgroup\": \"_id=25\", \"line\": {\"color\": \"#636efa\", \"dash\": \"solid\", \"shape\": \"linear\"}, \"mode\": \"lines\", \"name\": \"_id=25\", \"showlegend\": true, \"x\": [0.0, 0.125, 0.25, 0.375, 0.5, 0.625, 0.75, 0.875, 1.0, 1.125, 1.25, 1.375, 1.5, 1.625, 1.75, 1.875, 2.0, 2.125, 2.25, 2.375, 2.5, 2.625, 2.75, 2.875], \"xaxis\": \"x\", \"y\": [0.8, 0.65, 0.8, 0.55, 0.35, 0.5, 0.15, 0.15, 0.3, 0.35, 0.25, 0.2, 0.1, 0.0, 0.15, -0.2, -0.2, 0.0, -0.45, 0.05, 0.05, 0.05, 0.2, -0.05], \"yaxis\": \"y\", \"type\": \"scatter\", \"uid\": \"0fda86da-ca06-4a43-8af8-84b283e694a8\"}, {\"hovertemplate\": \"<b>%{hovertext}</b><br><br>target_label=Movement<br>_id=26<br>_id=26<br>time=%{x}<br>RSS_anchor4=%{y}<extra></extra>\", \"hovertext\": [1.0, 1.0, 1.0, 1.0, 1.0, 1.0, 1.0, 1.0, 1.0, 1.0, 1.0, 1.0, 1.0, 1.0, 1.0, 1.0, 1.0, 1.0, 1.0, 1.0, 1.0, 1.0, 1.0, 1.0, 1.0, 1.0], \"legendgroup\": \"_id=26\", \"line\": {\"color\": \"#EF553B\", \"dash\": \"solid\", \"shape\": \"linear\"}, \"mode\": \"lines\", \"name\": \"_id=26\", \"showlegend\": true, \"x\": [0.0, 0.125, 0.25, 0.375, 0.5, 0.625, 0.75, 0.875, 1.0, 1.125, 1.25, 1.375, 1.5, 1.625, 1.75, 1.875, 2.0, 2.125, 2.25, 2.375, 2.5, 2.625, 2.75, 2.875, 3.0, 3.125], \"xaxis\": \"x\", \"y\": [0.35, 0.55, 0.4, 0.55, 0.65, 0.75, 0.8, 0.55, 0.65, 0.35, 0.2, 0.35, 0.15, 0.35, 0.35, -0.1, 0.2, 0.15, 0.05, 0.1, -0.25, -0.15, 0.05, 0.05, 0.0, 0.1], \"yaxis\": \"y\", \"type\": \"scatter\", \"uid\": \"b18e1d91-1980-492a-9c26-922b6ba215cf\"}, {\"hovertemplate\": \"<b>%{hovertext}</b><br><br>target_label=Non-Movement<br>_id=27<br>_id=27<br>time=%{x}<br>RSS_anchor4=%{y}<extra></extra>\", \"hovertext\": [-1.0, -1.0, -1.0, -1.0, -1.0, -1.0, -1.0, -1.0, -1.0, -1.0, -1.0, -1.0, -1.0, -1.0, -1.0, -1.0, -1.0, -1.0, -1.0, -1.0, -1.0, -1.0, -1.0, -1.0, -1.0, -1.0, -1.0, -1.0, -1.0], \"legendgroup\": \"_id=27\", \"line\": {\"color\": \"#00cc96\", \"dash\": \"solid\", \"shape\": \"linear\"}, \"mode\": \"lines\", \"name\": \"_id=27\", \"showlegend\": true, \"x\": [0.0, 0.125, 0.25, 0.375, 0.5, 0.625, 0.75, 0.875, 1.0, 1.125, 1.25, 1.375, 1.5, 1.625, 1.75, 1.875, 2.0, 2.125, 2.25, 2.375, 2.5, 2.625, 2.75, 2.875, 3.0, 3.125, 3.25, 3.375, 3.5], \"xaxis\": \"x\", \"y\": [-0.05, -0.15, 0.05, -0.1, 0.3, 0.25, 0.25, 0.35, 0.0, 0.3, 0.5, 0.6, 0.1, -0.05, 0.0, -0.25, -0.6, 0.15, -0.15, 0.6, -0.05, 0.2, 0.05, 0.35, -0.4, -0.4, -0.15, 0.05, 0.05], \"yaxis\": \"y2\", \"type\": \"scatter\", \"uid\": \"a3885661-9f1e-456a-93b5-2cc19f8eade9\"}, {\"hovertemplate\": \"<b>%{hovertext}</b><br><br>target_label=Non-Movement<br>_id=28<br>_id=28<br>time=%{x}<br>RSS_anchor4=%{y}<extra></extra>\", \"hovertext\": [-1.0, -1.0, -1.0, -1.0, -1.0, -1.0, -1.0, -1.0, -1.0, -1.0, -1.0, -1.0, -1.0, -1.0, -1.0, -1.0, -1.0, -1.0, -1.0, -1.0, -1.0, -1.0, -1.0, -1.0, -1.0, -1.0, -1.0, -1.0, -1.0], \"legendgroup\": \"_id=28\", \"line\": {\"color\": \"#ab63fa\", \"dash\": \"solid\", \"shape\": \"linear\"}, \"mode\": \"lines\", \"name\": \"_id=28\", \"showlegend\": true, \"x\": [0.0, 0.125, 0.25, 0.375, 0.5, 0.625, 0.75, 0.875, 1.0, 1.125, 1.25, 1.375, 1.5, 1.625, 1.75, 1.875, 2.0, 2.125, 2.25, 2.375, 2.5, 2.625, 2.75, 2.875, 3.0, 3.125, 3.25, 3.375, 3.5], \"xaxis\": \"x\", \"y\": [0.4, 0.25, -0.2, 0.45, 0.1, 0.05, 0.2, -0.05, 0.15, 0.3, 0.0, 0.25, 0.35, 0.45, 0.45, 0.35, 0.0, 0.0, 0.35, 0.2, 0.35, -0.1, 0.5, 0.65, 0.65, 0.2, -0.35, 0.25, 0.3], \"yaxis\": \"y2\", \"type\": \"scatter\", \"uid\": \"fe9c180b-f8a1-45da-b4e5-63588d342d3a\"}, {\"hovertemplate\": \"<b>%{hovertext}</b><br><br>target_label=Non-Movement<br>_id=29<br>_id=29<br>time=%{x}<br>RSS_anchor4=%{y}<extra></extra>\", \"hovertext\": [-1.0, -1.0, -1.0, -1.0, -1.0, -1.0, -1.0, -1.0, -1.0, -1.0, -1.0, -1.0, -1.0, -1.0, -1.0, -1.0, -1.0, -1.0, -1.0, -1.0, -1.0, -1.0, -1.0, -1.0, -1.0], \"legendgroup\": \"_id=29\", \"line\": {\"color\": \"#19d3f3\", \"dash\": \"solid\", \"shape\": \"linear\"}, \"mode\": \"lines\", \"name\": \"_id=29\", \"showlegend\": true, \"x\": [0.0, 0.125, 0.25, 0.375, 0.5, 0.625, 0.75, 0.875, 1.0, 1.125, 1.25, 1.375, 1.5, 1.625, 1.75, 1.875, 2.0, 2.125, 2.25, 2.375, 2.5, 2.625, 2.75, 2.875, 3.0], \"xaxis\": \"x\", \"y\": [0.3, 0.3, 0.35, 0.35, 0.2, 0.05, -0.5, -0.3, -0.3, 0.05, 0.35, 0.3, 0.15, 0.2, 0.5, 0.35, 0.35, -0.3, 0.2, 0.25, 0.2, 0.2, -0.1, 0.35, 0.55], \"yaxis\": \"y2\", \"type\": \"scatter\", \"uid\": \"010d2ef8-d707-4b0b-b3d0-356ff6f65e82\"}], {\"height\": 600, \"legend\": {\"tracegroupgap\": 0}, \"margin\": {\"t\": 60}, \"template\": {\"data\": {\"barpolar\": [{\"marker\": {\"line\": {\"color\": \"#E5ECF6\", \"width\": 0.5}}, \"type\": \"barpolar\"}], \"bar\": [{\"marker\": {\"line\": {\"color\": \"#E5ECF6\", \"width\": 0.5}}, \"type\": \"bar\"}], \"carpet\": [{\"aaxis\": {\"endlinecolor\": \"#2a3f5f\", \"gridcolor\": \"white\", \"linecolor\": \"white\", \"minorgridcolor\": \"white\", \"startlinecolor\": \"#2a3f5f\"}, \"baxis\": {\"endlinecolor\": \"#2a3f5f\", \"gridcolor\": \"white\", \"linecolor\": \"white\", \"minorgridcolor\": \"white\", \"startlinecolor\": \"#2a3f5f\"}, \"type\": \"carpet\"}], \"choropleth\": [{\"colorbar\": {\"outlinewidth\": 0, \"ticks\": \"\"}, \"type\": \"choropleth\"}], \"contourcarpet\": [{\"colorbar\": {\"outlinewidth\": 0, \"ticks\": \"\"}, \"type\": \"contourcarpet\"}], \"contour\": [{\"autocolorscale\": true, \"colorbar\": {\"outlinewidth\": 0, \"ticks\": \"\"}, \"type\": \"contour\"}], \"heatmapgl\": [{\"colorbar\": {\"outlinewidth\": 0, \"ticks\": \"\"}, \"type\": \"heatmapgl\"}], \"heatmap\": [{\"autocolorscale\": true, \"colorbar\": {\"outlinewidth\": 0, \"ticks\": \"\"}, \"type\": \"heatmap\"}], \"histogram2dcontour\": [{\"autocolorscale\": true, \"colorbar\": {\"outlinewidth\": 0, \"ticks\": \"\"}, \"type\": \"histogram2dcontour\"}], \"histogram2d\": [{\"autocolorscale\": true, \"colorbar\": {\"outlinewidth\": 0, \"ticks\": \"\"}, \"type\": \"histogram2d\"}], \"histogram\": [{\"marker\": {\"colorbar\": {\"outlinewidth\": 0, \"ticks\": \"\"}}, \"type\": \"histogram\"}], \"mesh3d\": [{\"colorbar\": {\"outlinewidth\": 0, \"ticks\": \"\"}, \"type\": \"mesh3d\"}], \"parcoords\": [{\"line\": {\"colorbar\": {\"outlinewidth\": 0, \"ticks\": \"\"}}, \"type\": \"parcoords\"}], \"scatter3d\": [{\"marker\": {\"colorbar\": {\"outlinewidth\": 0, \"ticks\": \"\"}}, \"type\": \"scatter3d\"}], \"scattercarpet\": [{\"marker\": {\"colorbar\": {\"outlinewidth\": 0, \"ticks\": \"\"}}, \"type\": \"scattercarpet\"}], \"scattergeo\": [{\"marker\": {\"colorbar\": {\"outlinewidth\": 0, \"ticks\": \"\"}}, \"type\": \"scattergeo\"}], \"scattergl\": [{\"marker\": {\"colorbar\": {\"outlinewidth\": 0, \"ticks\": \"\"}}, \"type\": \"scattergl\"}], \"scattermapbox\": [{\"marker\": {\"colorbar\": {\"outlinewidth\": 0, \"ticks\": \"\"}}, \"type\": \"scattermapbox\"}], \"scatterpolargl\": [{\"marker\": {\"colorbar\": {\"outlinewidth\": 0, \"ticks\": \"\"}}, \"type\": \"scatterpolargl\"}], \"scatterpolar\": [{\"marker\": {\"colorbar\": {\"outlinewidth\": 0, \"ticks\": \"\"}}, \"type\": \"scatterpolar\"}], \"scatter\": [{\"marker\": {\"colorbar\": {\"outlinewidth\": 0, \"ticks\": \"\"}}, \"type\": \"scatter\"}], \"scatterternary\": [{\"marker\": {\"colorbar\": {\"outlinewidth\": 0, \"ticks\": \"\"}}, \"type\": \"scatterternary\"}], \"surface\": [{\"colorbar\": {\"outlinewidth\": 0, \"ticks\": \"\"}, \"type\": \"surface\"}], \"table\": [{\"cells\": {\"fill\": {\"color\": \"#EBF0F8\"}, \"line\": {\"color\": \"white\"}}, \"header\": {\"fill\": {\"color\": \"#C8D4E3\"}, \"line\": {\"color\": \"white\"}}, \"type\": \"table\"}]}, \"layout\": {\"annotationdefaults\": {\"arrowcolor\": \"#506784\", \"arrowhead\": 0, \"arrowwidth\": 1}, \"colorscale\": {\"diverging\": [[0, \"#8e0152\"], [0.1, \"#c51b7d\"], [0.2, \"#de77ae\"], [0.3, \"#f1b6da\"], [0.4, \"#fde0ef\"], [0.5, \"#f7f7f7\"], [0.6, \"#e6f5d0\"], [0.7, \"#b8e186\"], [0.8, \"#7fbc41\"], [0.9, \"#4d9221\"], [1, \"#276419\"]], \"sequential\": [[0.0, \"#0508b8\"], [0.0893854748603352, \"#1910d8\"], [0.1787709497206704, \"#3c19f0\"], [0.2681564245810056, \"#6b1cfb\"], [0.3575418994413408, \"#981cfd\"], [0.44692737430167595, \"#bf1cfd\"], [0.5363128491620112, \"#dd2bfd\"], [0.6256983240223464, \"#f246fe\"], [0.7150837988826816, \"#fc67fd\"], [0.8044692737430168, \"#fe88fc\"], [0.8938547486033519, \"#fea5fd\"], [0.9832402234636871, \"#febefe\"], [1.0, \"#fec3fe\"]], \"sequentialminus\": [[0.0, \"#0508b8\"], [0.0893854748603352, \"#1910d8\"], [0.1787709497206704, \"#3c19f0\"], [0.2681564245810056, \"#6b1cfb\"], [0.3575418994413408, \"#981cfd\"], [0.44692737430167595, \"#bf1cfd\"], [0.5363128491620112, \"#dd2bfd\"], [0.6256983240223464, \"#f246fe\"], [0.7150837988826816, \"#fc67fd\"], [0.8044692737430168, \"#fe88fc\"], [0.8938547486033519, \"#fea5fd\"], [0.9832402234636871, \"#febefe\"], [1.0, \"#fec3fe\"]]}, \"colorway\": [\"#636efa\", \"#EF553B\", \"#00cc96\", \"#ab63fa\", \"#19d3f3\", \"#e763fa\", \"#FECB52\", \"#FFA15A\", \"#FF6692\", \"#B6E880\"], \"font\": {\"color\": \"#2a3f5f\"}, \"geo\": {\"bgcolor\": \"white\", \"lakecolor\": \"white\", \"landcolor\": \"#E5ECF6\", \"showlakes\": true, \"showland\": true, \"subunitcolor\": \"white\"}, \"hovermode\": \"closest\", \"mapbox\": {\"style\": \"light\"}, \"paper_bgcolor\": \"white\", \"plot_bgcolor\": \"#E5ECF6\", \"polar\": {\"angularaxis\": {\"gridcolor\": \"white\", \"linecolor\": \"white\", \"ticks\": \"\"}, \"bgcolor\": \"#E5ECF6\", \"radialaxis\": {\"gridcolor\": \"white\", \"linecolor\": \"white\", \"ticks\": \"\"}}, \"scene\": {\"xaxis\": {\"backgroundcolor\": \"#E5ECF6\", \"gridcolor\": \"white\", \"gridwidth\": 2, \"linecolor\": \"white\", \"showbackground\": true, \"ticks\": \"\", \"zerolinecolor\": \"white\"}, \"yaxis\": {\"backgroundcolor\": \"#E5ECF6\", \"gridcolor\": \"white\", \"gridwidth\": 2, \"linecolor\": \"white\", \"showbackground\": true, \"ticks\": \"\", \"zerolinecolor\": \"white\"}, \"zaxis\": {\"backgroundcolor\": \"#E5ECF6\", \"gridcolor\": \"white\", \"gridwidth\": 2, \"linecolor\": \"white\", \"showbackground\": true, \"ticks\": \"\", \"zerolinecolor\": \"white\"}}, \"shapedefaults\": {\"fillcolor\": \"#506784\", \"line\": {\"width\": 0}, \"opacity\": 0.4}, \"ternary\": {\"aaxis\": {\"gridcolor\": \"white\", \"linecolor\": \"white\", \"ticks\": \"\"}, \"baxis\": {\"gridcolor\": \"white\", \"linecolor\": \"white\", \"ticks\": \"\"}, \"bgcolor\": \"#E5ECF6\", \"caxis\": {\"gridcolor\": \"white\", \"linecolor\": \"white\", \"ticks\": \"\"}}, \"title\": {\"x\": 0.05}, \"xaxis\": {\"automargin\": true, \"gridcolor\": \"white\", \"linecolor\": \"white\", \"ticks\": \"\", \"zerolinecolor\": \"white\", \"zerolinewidth\": 2}, \"yaxis\": {\"automargin\": true, \"gridcolor\": \"white\", \"linecolor\": \"white\", \"ticks\": \"\", \"zerolinecolor\": \"white\", \"zerolinewidth\": 2}}}, \"grid\": {\"xaxes\": [\"x\"], \"yaxes\": [\"y\", \"y2\"], \"xgap\": 0.1, \"ygap\": 0.1, \"xside\": \"bottom\", \"yside\": \"left\"}, \"yaxis2\": {\"title\": {\"text\": \"RSS_anchor4\"}, \"matches\": \"y\"}, \"annotations\": [{\"showarrow\": false, \"text\": \"target_label=Movement\", \"textangle\": 90, \"x\": 1.01, \"xanchor\": \"center\", \"xref\": \"paper\", \"y\": 0.763157894736842, \"yanchor\": \"middle\", \"yref\": \"paper\"}, {\"showarrow\": false, \"text\": \"target_label=Non-Movement\", \"textangle\": 90, \"x\": 1.01, \"xanchor\": \"center\", \"xref\": \"paper\", \"y\": 0.23684210526315788, \"yanchor\": \"middle\", \"yref\": \"paper\"}], \"xaxis\": {\"title\": {\"text\": \"time\"}}, \"yaxis\": {\"title\": {\"text\": \"RSS_anchor4\"}}}, {\"showLink\": false, \"linkText\": \"Export to plot.ly\", \"plotlyServerURL\": \"https://plot.ly\"}); \n",
       "}\n",
       "});</script><script type=\"text/javascript\">window.addEventListener(\"resize\", function(){if (document.getElementById(\"a691bfd8-c8fe-4fd2-bffc-fbb0eaa9161a\")) {window._Plotly.Plots.resize(document.getElementById(\"a691bfd8-c8fe-4fd2-bffc-fbb0eaa9161a\"));};})</script>"
      ],
      "text/vnd.plotly.v1+html": [
       "<div id=\"a691bfd8-c8fe-4fd2-bffc-fbb0eaa9161a\" style=\"height: 600px; width: 100%;\" class=\"plotly-graph-div\"></div><script type=\"text/javascript\">require([\"plotly\"], function(Plotly) { window.PLOTLYENV=window.PLOTLYENV || {};window.PLOTLYENV.BASE_URL=\"https://plot.ly\";\n",
       "if (document.getElementById(\"a691bfd8-c8fe-4fd2-bffc-fbb0eaa9161a\")) {\n",
       "    Plotly.newPlot(\"a691bfd8-c8fe-4fd2-bffc-fbb0eaa9161a\", [{\"hovertemplate\": \"<b>%{hovertext}</b><br><br>target_label=Movement<br>_id=25<br>_id=25<br>time=%{x}<br>RSS_anchor4=%{y}<extra></extra>\", \"hovertext\": [1.0, 1.0, 1.0, 1.0, 1.0, 1.0, 1.0, 1.0, 1.0, 1.0, 1.0, 1.0, 1.0, 1.0, 1.0, 1.0, 1.0, 1.0, 1.0, 1.0, 1.0, 1.0, 1.0, 1.0], \"legendgroup\": \"_id=25\", \"line\": {\"color\": \"#636efa\", \"dash\": \"solid\", \"shape\": \"linear\"}, \"mode\": \"lines\", \"name\": \"_id=25\", \"showlegend\": true, \"x\": [0.0, 0.125, 0.25, 0.375, 0.5, 0.625, 0.75, 0.875, 1.0, 1.125, 1.25, 1.375, 1.5, 1.625, 1.75, 1.875, 2.0, 2.125, 2.25, 2.375, 2.5, 2.625, 2.75, 2.875], \"xaxis\": \"x\", \"y\": [0.8, 0.65, 0.8, 0.55, 0.35, 0.5, 0.15, 0.15, 0.3, 0.35, 0.25, 0.2, 0.1, 0.0, 0.15, -0.2, -0.2, 0.0, -0.45, 0.05, 0.05, 0.05, 0.2, -0.05], \"yaxis\": \"y\", \"type\": \"scatter\", \"uid\": \"0fda86da-ca06-4a43-8af8-84b283e694a8\"}, {\"hovertemplate\": \"<b>%{hovertext}</b><br><br>target_label=Movement<br>_id=26<br>_id=26<br>time=%{x}<br>RSS_anchor4=%{y}<extra></extra>\", \"hovertext\": [1.0, 1.0, 1.0, 1.0, 1.0, 1.0, 1.0, 1.0, 1.0, 1.0, 1.0, 1.0, 1.0, 1.0, 1.0, 1.0, 1.0, 1.0, 1.0, 1.0, 1.0, 1.0, 1.0, 1.0, 1.0, 1.0], \"legendgroup\": \"_id=26\", \"line\": {\"color\": \"#EF553B\", \"dash\": \"solid\", \"shape\": \"linear\"}, \"mode\": \"lines\", \"name\": \"_id=26\", \"showlegend\": true, \"x\": [0.0, 0.125, 0.25, 0.375, 0.5, 0.625, 0.75, 0.875, 1.0, 1.125, 1.25, 1.375, 1.5, 1.625, 1.75, 1.875, 2.0, 2.125, 2.25, 2.375, 2.5, 2.625, 2.75, 2.875, 3.0, 3.125], \"xaxis\": \"x\", \"y\": [0.35, 0.55, 0.4, 0.55, 0.65, 0.75, 0.8, 0.55, 0.65, 0.35, 0.2, 0.35, 0.15, 0.35, 0.35, -0.1, 0.2, 0.15, 0.05, 0.1, -0.25, -0.15, 0.05, 0.05, 0.0, 0.1], \"yaxis\": \"y\", \"type\": \"scatter\", \"uid\": \"b18e1d91-1980-492a-9c26-922b6ba215cf\"}, {\"hovertemplate\": \"<b>%{hovertext}</b><br><br>target_label=Non-Movement<br>_id=27<br>_id=27<br>time=%{x}<br>RSS_anchor4=%{y}<extra></extra>\", \"hovertext\": [-1.0, -1.0, -1.0, -1.0, -1.0, -1.0, -1.0, -1.0, -1.0, -1.0, -1.0, -1.0, -1.0, -1.0, -1.0, -1.0, -1.0, -1.0, -1.0, -1.0, -1.0, -1.0, -1.0, -1.0, -1.0, -1.0, -1.0, -1.0, -1.0], \"legendgroup\": \"_id=27\", \"line\": {\"color\": \"#00cc96\", \"dash\": \"solid\", \"shape\": \"linear\"}, \"mode\": \"lines\", \"name\": \"_id=27\", \"showlegend\": true, \"x\": [0.0, 0.125, 0.25, 0.375, 0.5, 0.625, 0.75, 0.875, 1.0, 1.125, 1.25, 1.375, 1.5, 1.625, 1.75, 1.875, 2.0, 2.125, 2.25, 2.375, 2.5, 2.625, 2.75, 2.875, 3.0, 3.125, 3.25, 3.375, 3.5], \"xaxis\": \"x\", \"y\": [-0.05, -0.15, 0.05, -0.1, 0.3, 0.25, 0.25, 0.35, 0.0, 0.3, 0.5, 0.6, 0.1, -0.05, 0.0, -0.25, -0.6, 0.15, -0.15, 0.6, -0.05, 0.2, 0.05, 0.35, -0.4, -0.4, -0.15, 0.05, 0.05], \"yaxis\": \"y2\", \"type\": \"scatter\", \"uid\": \"a3885661-9f1e-456a-93b5-2cc19f8eade9\"}, {\"hovertemplate\": \"<b>%{hovertext}</b><br><br>target_label=Non-Movement<br>_id=28<br>_id=28<br>time=%{x}<br>RSS_anchor4=%{y}<extra></extra>\", \"hovertext\": [-1.0, -1.0, -1.0, -1.0, -1.0, -1.0, -1.0, -1.0, -1.0, -1.0, -1.0, -1.0, -1.0, -1.0, -1.0, -1.0, -1.0, -1.0, -1.0, -1.0, -1.0, -1.0, -1.0, -1.0, -1.0, -1.0, -1.0, -1.0, -1.0], \"legendgroup\": \"_id=28\", \"line\": {\"color\": \"#ab63fa\", \"dash\": \"solid\", \"shape\": \"linear\"}, \"mode\": \"lines\", \"name\": \"_id=28\", \"showlegend\": true, \"x\": [0.0, 0.125, 0.25, 0.375, 0.5, 0.625, 0.75, 0.875, 1.0, 1.125, 1.25, 1.375, 1.5, 1.625, 1.75, 1.875, 2.0, 2.125, 2.25, 2.375, 2.5, 2.625, 2.75, 2.875, 3.0, 3.125, 3.25, 3.375, 3.5], \"xaxis\": \"x\", \"y\": [0.4, 0.25, -0.2, 0.45, 0.1, 0.05, 0.2, -0.05, 0.15, 0.3, 0.0, 0.25, 0.35, 0.45, 0.45, 0.35, 0.0, 0.0, 0.35, 0.2, 0.35, -0.1, 0.5, 0.65, 0.65, 0.2, -0.35, 0.25, 0.3], \"yaxis\": \"y2\", \"type\": \"scatter\", \"uid\": \"fe9c180b-f8a1-45da-b4e5-63588d342d3a\"}, {\"hovertemplate\": \"<b>%{hovertext}</b><br><br>target_label=Non-Movement<br>_id=29<br>_id=29<br>time=%{x}<br>RSS_anchor4=%{y}<extra></extra>\", \"hovertext\": [-1.0, -1.0, -1.0, -1.0, -1.0, -1.0, -1.0, -1.0, -1.0, -1.0, -1.0, -1.0, -1.0, -1.0, -1.0, -1.0, -1.0, -1.0, -1.0, -1.0, -1.0, -1.0, -1.0, -1.0, -1.0], \"legendgroup\": \"_id=29\", \"line\": {\"color\": \"#19d3f3\", \"dash\": \"solid\", \"shape\": \"linear\"}, \"mode\": \"lines\", \"name\": \"_id=29\", \"showlegend\": true, \"x\": [0.0, 0.125, 0.25, 0.375, 0.5, 0.625, 0.75, 0.875, 1.0, 1.125, 1.25, 1.375, 1.5, 1.625, 1.75, 1.875, 2.0, 2.125, 2.25, 2.375, 2.5, 2.625, 2.75, 2.875, 3.0], \"xaxis\": \"x\", \"y\": [0.3, 0.3, 0.35, 0.35, 0.2, 0.05, -0.5, -0.3, -0.3, 0.05, 0.35, 0.3, 0.15, 0.2, 0.5, 0.35, 0.35, -0.3, 0.2, 0.25, 0.2, 0.2, -0.1, 0.35, 0.55], \"yaxis\": \"y2\", \"type\": \"scatter\", \"uid\": \"010d2ef8-d707-4b0b-b3d0-356ff6f65e82\"}], {\"height\": 600, \"legend\": {\"tracegroupgap\": 0}, \"margin\": {\"t\": 60}, \"template\": {\"data\": {\"barpolar\": [{\"marker\": {\"line\": {\"color\": \"#E5ECF6\", \"width\": 0.5}}, \"type\": \"barpolar\"}], \"bar\": [{\"marker\": {\"line\": {\"color\": \"#E5ECF6\", \"width\": 0.5}}, \"type\": \"bar\"}], \"carpet\": [{\"aaxis\": {\"endlinecolor\": \"#2a3f5f\", \"gridcolor\": \"white\", \"linecolor\": \"white\", \"minorgridcolor\": \"white\", \"startlinecolor\": \"#2a3f5f\"}, \"baxis\": {\"endlinecolor\": \"#2a3f5f\", \"gridcolor\": \"white\", \"linecolor\": \"white\", \"minorgridcolor\": \"white\", \"startlinecolor\": \"#2a3f5f\"}, \"type\": \"carpet\"}], \"choropleth\": [{\"colorbar\": {\"outlinewidth\": 0, \"ticks\": \"\"}, \"type\": \"choropleth\"}], \"contourcarpet\": [{\"colorbar\": {\"outlinewidth\": 0, \"ticks\": \"\"}, \"type\": \"contourcarpet\"}], \"contour\": [{\"autocolorscale\": true, \"colorbar\": {\"outlinewidth\": 0, \"ticks\": \"\"}, \"type\": \"contour\"}], \"heatmapgl\": [{\"colorbar\": {\"outlinewidth\": 0, \"ticks\": \"\"}, \"type\": \"heatmapgl\"}], \"heatmap\": [{\"autocolorscale\": true, \"colorbar\": {\"outlinewidth\": 0, \"ticks\": \"\"}, \"type\": \"heatmap\"}], \"histogram2dcontour\": [{\"autocolorscale\": true, \"colorbar\": {\"outlinewidth\": 0, \"ticks\": \"\"}, \"type\": \"histogram2dcontour\"}], \"histogram2d\": [{\"autocolorscale\": true, \"colorbar\": {\"outlinewidth\": 0, \"ticks\": \"\"}, \"type\": \"histogram2d\"}], \"histogram\": [{\"marker\": {\"colorbar\": {\"outlinewidth\": 0, \"ticks\": \"\"}}, \"type\": \"histogram\"}], \"mesh3d\": [{\"colorbar\": {\"outlinewidth\": 0, \"ticks\": \"\"}, \"type\": \"mesh3d\"}], \"parcoords\": [{\"line\": {\"colorbar\": {\"outlinewidth\": 0, \"ticks\": \"\"}}, \"type\": \"parcoords\"}], \"scatter3d\": [{\"marker\": {\"colorbar\": {\"outlinewidth\": 0, \"ticks\": \"\"}}, \"type\": \"scatter3d\"}], \"scattercarpet\": [{\"marker\": {\"colorbar\": {\"outlinewidth\": 0, \"ticks\": \"\"}}, \"type\": \"scattercarpet\"}], \"scattergeo\": [{\"marker\": {\"colorbar\": {\"outlinewidth\": 0, \"ticks\": \"\"}}, \"type\": \"scattergeo\"}], \"scattergl\": [{\"marker\": {\"colorbar\": {\"outlinewidth\": 0, \"ticks\": \"\"}}, \"type\": \"scattergl\"}], \"scattermapbox\": [{\"marker\": {\"colorbar\": {\"outlinewidth\": 0, \"ticks\": \"\"}}, \"type\": \"scattermapbox\"}], \"scatterpolargl\": [{\"marker\": {\"colorbar\": {\"outlinewidth\": 0, \"ticks\": \"\"}}, \"type\": \"scatterpolargl\"}], \"scatterpolar\": [{\"marker\": {\"colorbar\": {\"outlinewidth\": 0, \"ticks\": \"\"}}, \"type\": \"scatterpolar\"}], \"scatter\": [{\"marker\": {\"colorbar\": {\"outlinewidth\": 0, \"ticks\": \"\"}}, \"type\": \"scatter\"}], \"scatterternary\": [{\"marker\": {\"colorbar\": {\"outlinewidth\": 0, \"ticks\": \"\"}}, \"type\": \"scatterternary\"}], \"surface\": [{\"colorbar\": {\"outlinewidth\": 0, \"ticks\": \"\"}, \"type\": \"surface\"}], \"table\": [{\"cells\": {\"fill\": {\"color\": \"#EBF0F8\"}, \"line\": {\"color\": \"white\"}}, \"header\": {\"fill\": {\"color\": \"#C8D4E3\"}, \"line\": {\"color\": \"white\"}}, \"type\": \"table\"}]}, \"layout\": {\"annotationdefaults\": {\"arrowcolor\": \"#506784\", \"arrowhead\": 0, \"arrowwidth\": 1}, \"colorscale\": {\"diverging\": [[0, \"#8e0152\"], [0.1, \"#c51b7d\"], [0.2, \"#de77ae\"], [0.3, \"#f1b6da\"], [0.4, \"#fde0ef\"], [0.5, \"#f7f7f7\"], [0.6, \"#e6f5d0\"], [0.7, \"#b8e186\"], [0.8, \"#7fbc41\"], [0.9, \"#4d9221\"], [1, \"#276419\"]], \"sequential\": [[0.0, \"#0508b8\"], [0.0893854748603352, \"#1910d8\"], [0.1787709497206704, \"#3c19f0\"], [0.2681564245810056, \"#6b1cfb\"], [0.3575418994413408, \"#981cfd\"], [0.44692737430167595, \"#bf1cfd\"], [0.5363128491620112, \"#dd2bfd\"], [0.6256983240223464, \"#f246fe\"], [0.7150837988826816, \"#fc67fd\"], [0.8044692737430168, \"#fe88fc\"], [0.8938547486033519, \"#fea5fd\"], [0.9832402234636871, \"#febefe\"], [1.0, \"#fec3fe\"]], \"sequentialminus\": [[0.0, \"#0508b8\"], [0.0893854748603352, \"#1910d8\"], [0.1787709497206704, \"#3c19f0\"], [0.2681564245810056, \"#6b1cfb\"], [0.3575418994413408, \"#981cfd\"], [0.44692737430167595, \"#bf1cfd\"], [0.5363128491620112, \"#dd2bfd\"], [0.6256983240223464, \"#f246fe\"], [0.7150837988826816, \"#fc67fd\"], [0.8044692737430168, \"#fe88fc\"], [0.8938547486033519, \"#fea5fd\"], [0.9832402234636871, \"#febefe\"], [1.0, \"#fec3fe\"]]}, \"colorway\": [\"#636efa\", \"#EF553B\", \"#00cc96\", \"#ab63fa\", \"#19d3f3\", \"#e763fa\", \"#FECB52\", \"#FFA15A\", \"#FF6692\", \"#B6E880\"], \"font\": {\"color\": \"#2a3f5f\"}, \"geo\": {\"bgcolor\": \"white\", \"lakecolor\": \"white\", \"landcolor\": \"#E5ECF6\", \"showlakes\": true, \"showland\": true, \"subunitcolor\": \"white\"}, \"hovermode\": \"closest\", \"mapbox\": {\"style\": \"light\"}, \"paper_bgcolor\": \"white\", \"plot_bgcolor\": \"#E5ECF6\", \"polar\": {\"angularaxis\": {\"gridcolor\": \"white\", \"linecolor\": \"white\", \"ticks\": \"\"}, \"bgcolor\": \"#E5ECF6\", \"radialaxis\": {\"gridcolor\": \"white\", \"linecolor\": \"white\", \"ticks\": \"\"}}, \"scene\": {\"xaxis\": {\"backgroundcolor\": \"#E5ECF6\", \"gridcolor\": \"white\", \"gridwidth\": 2, \"linecolor\": \"white\", \"showbackground\": true, \"ticks\": \"\", \"zerolinecolor\": \"white\"}, \"yaxis\": {\"backgroundcolor\": \"#E5ECF6\", \"gridcolor\": \"white\", \"gridwidth\": 2, \"linecolor\": \"white\", \"showbackground\": true, \"ticks\": \"\", \"zerolinecolor\": \"white\"}, \"zaxis\": {\"backgroundcolor\": \"#E5ECF6\", \"gridcolor\": \"white\", \"gridwidth\": 2, \"linecolor\": \"white\", \"showbackground\": true, \"ticks\": \"\", \"zerolinecolor\": \"white\"}}, \"shapedefaults\": {\"fillcolor\": \"#506784\", \"line\": {\"width\": 0}, \"opacity\": 0.4}, \"ternary\": {\"aaxis\": {\"gridcolor\": \"white\", \"linecolor\": \"white\", \"ticks\": \"\"}, \"baxis\": {\"gridcolor\": \"white\", \"linecolor\": \"white\", \"ticks\": \"\"}, \"bgcolor\": \"#E5ECF6\", \"caxis\": {\"gridcolor\": \"white\", \"linecolor\": \"white\", \"ticks\": \"\"}}, \"title\": {\"x\": 0.05}, \"xaxis\": {\"automargin\": true, \"gridcolor\": \"white\", \"linecolor\": \"white\", \"ticks\": \"\", \"zerolinecolor\": \"white\", \"zerolinewidth\": 2}, \"yaxis\": {\"automargin\": true, \"gridcolor\": \"white\", \"linecolor\": \"white\", \"ticks\": \"\", \"zerolinecolor\": \"white\", \"zerolinewidth\": 2}}}, \"grid\": {\"xaxes\": [\"x\"], \"yaxes\": [\"y\", \"y2\"], \"xgap\": 0.1, \"ygap\": 0.1, \"xside\": \"bottom\", \"yside\": \"left\"}, \"yaxis2\": {\"title\": {\"text\": \"RSS_anchor4\"}, \"matches\": \"y\"}, \"annotations\": [{\"showarrow\": false, \"text\": \"target_label=Movement\", \"textangle\": 90, \"x\": 1.01, \"xanchor\": \"center\", \"xref\": \"paper\", \"y\": 0.763157894736842, \"yanchor\": \"middle\", \"yref\": \"paper\"}, {\"showarrow\": false, \"text\": \"target_label=Non-Movement\", \"textangle\": 90, \"x\": 1.01, \"xanchor\": \"center\", \"xref\": \"paper\", \"y\": 0.23684210526315788, \"yanchor\": \"middle\", \"yref\": \"paper\"}], \"xaxis\": {\"title\": {\"text\": \"time\"}}, \"yaxis\": {\"title\": {\"text\": \"RSS_anchor4\"}}}, {\"showLink\": false, \"linkText\": \"Export to plot.ly\", \"plotlyServerURL\": \"https://plot.ly\"}); \n",
       "}\n",
       "});</script><script type=\"text/javascript\">window.addEventListener(\"resize\", function(){if (document.getElementById(\"a691bfd8-c8fe-4fd2-bffc-fbb0eaa9161a\")) {window._Plotly.Plots.resize(document.getElementById(\"a691bfd8-c8fe-4fd2-bffc-fbb0eaa9161a\"));};})</script>"
      ]
     },
     "metadata": {},
     "output_type": "display_data"
    }
   ],
   "source": [
    "i = 4\n",
    "px.line(df_red, x=\"time\", y=\"RSS_anchor{}\".format(i), color=\"_id\", line_group=\"_id\", hover_name=\"target\", \n",
    "        line_shape=\"linear\", facet_row = 'target_label')\n"
   ]
  },
  {
   "cell_type": "code",
   "execution_count": null,
   "metadata": {},
   "outputs": [],
   "source": []
  },
  {
   "cell_type": "code",
   "execution_count": null,
   "metadata": {},
   "outputs": [],
   "source": []
  }
 ],
 "metadata": {
  "kernelspec": {
   "display_name": "Python 3",
   "language": "python",
   "name": "python3"
  },
  "language_info": {
   "codemirror_mode": {
    "name": "ipython",
    "version": 3
   },
   "file_extension": ".py",
   "mimetype": "text/x-python",
   "name": "python",
   "nbconvert_exporter": "python",
   "pygments_lexer": "ipython3",
   "version": "3.7.1"
  }
 },
 "nbformat": 4,
 "nbformat_minor": 2
}
