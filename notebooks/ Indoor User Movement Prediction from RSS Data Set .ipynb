{
 "cells": [
  {
   "cell_type": "code",
   "execution_count": 1,
   "metadata": {},
   "outputs": [],
   "source": [
    "import numpy as np\n",
    "import pandas as pd\n",
    "import matplotlib.pyplot as plt\n",
    "\n",
    "# plotly visualization library\n",
    "import plotly.graph_objs as go\n",
    "from plotly.offline import download_plotlyjs, init_notebook_mode, plot, iplot\n",
    "import plotly_express as px"
   ]
  },
  {
   "cell_type": "markdown",
   "metadata": {},
   "source": [
    "## Reading files and preprocessing"
   ]
  },
  {
   "cell_type": "code",
   "execution_count": 81,
   "metadata": {},
   "outputs": [],
   "source": [
    "input_path = '../data/MovementAAL/dataset/MovementAAL_RSS_'\n",
    "target_path = '../data/MovementAAL/dataset/MovementAAL_target.csv'\n",
    "group_path = '../data/MovementAAL/groups/MovementAAL_DatasetGroup.csv'\n",
    "\n",
    "### -------------------------------------------------------- loading files\n",
    "file_dfs = []\n",
    "file_lens = []\n",
    "\n",
    "for i in range(1,315):\n",
    "    file_path = input_path + str(i) + '.csv'\n",
    "    file_df = pd.read_csv(file_path, header=0).reset_index(drop=True)\n",
    "    file_df['_id'] = i\n",
    "    file_df = file_df.reset_index(drop=True)\n",
    "    \n",
    "   \n",
    "    file_dfs.append(file_df)\n",
    "    file_lens.append(file_df.shape[0])\n",
    "    \n",
    "\n",
    "input_df = pd.concat(file_dfs)\n",
    "target_df = pd.read_csv(target_path)[' class_label']\n",
    "group_df = pd.read_csv(group_path)[' dataset_ID']\n",
    "\n",
    "gr_li = []\n",
    "for idx, (id_num, target, group) in enumerate(zip(input_df['_id'].unique(), target_df, group_df)):\n",
    "    gr = input_df[input_df['_id'] == id_num]\n",
    "    gr = gr.reset_index(drop=True)\n",
    "    gr['target'] = [target]*gr.shape[0]\n",
    "    gr['group'] = [group]*gr.shape[0]\n",
    "    gr['time'] = np.arange(0, gr.shape[0]/8, 1/8)\n",
    "    gr_li.append(gr)\n",
    "\n",
    "\n",
    "df = pd.concat(gr_li)\n",
    "df = df.reset_index(drop=True)\n",
    "df.columns = ['RSS_anchor1', 'RSS_anchor2', 'RSS_anchor3', 'RSS_anchor4', '_id',\n",
    "        'target','group', 'time']\n",
    "df = df[['_id', 'time', 'RSS_anchor1', 'RSS_anchor2', 'RSS_anchor3', 'RSS_anchor4',\n",
    "        'target', 'group']]\n",
    "df['target_label'] = df['target'].apply(lambda x: 'Movement' if x==1 else 'Non-Movement')\n",
    "df.to_csv('../data/indoor_movement.csv', index = False)"
   ]
  },
  {
   "cell_type": "markdown",
   "metadata": {},
   "source": [
    "## Visualization"
   ]
  },
  {
   "cell_type": "code",
   "execution_count": 137,
   "metadata": {},
   "outputs": [
    {
     "data": {
      "application/vnd.plotly.v1+json": {
       "config": {
        "linkText": "Export to plot.ly",
        "plotlyServerURL": "https://plot.ly",
        "showLink": false
       },
       "data": [
        {
         "hovertemplate": "<b>%{hovertext}</b><br><br>target_label=Movement<br>_id=25<br>target_label=Movement<br>_id=25<br>time=%{x}<br>RSS_anchor1=%{y}<extra></extra>",
         "hovertext": [
          1,
          1,
          1,
          1,
          1,
          1,
          1,
          1,
          1,
          1,
          1,
          1,
          1,
          1,
          1,
          1,
          1,
          1,
          1,
          1,
          1,
          1,
          1,
          1
         ],
         "legendgroup": "target_label=Movement, _id=25",
         "line": {
          "color": "#AA0DFE",
          "dash": "solid",
          "shape": "linear"
         },
         "mode": "lines",
         "name": "target_label=Movement, _id=25",
         "showlegend": true,
         "type": "scatter",
         "uid": "ee13c3ea-ebe6-4f3d-a509-533725d32da8",
         "x": [
          0,
          0.125,
          0.25,
          0.375,
          0.5,
          0.625,
          0.75,
          0.875,
          1,
          1.125,
          1.25,
          1.375,
          1.5,
          1.625,
          1.75,
          1.875,
          2,
          2.125,
          2.25,
          2.375,
          2.5,
          2.625,
          2.75,
          2.875
         ],
         "xaxis": "x",
         "y": [
          -0.57143,
          -0.7619,
          -0.9523799999999999,
          -0.85714,
          -0.66667,
          -0.57143,
          -0.47618999999999995,
          -0.28570999999999996,
          -0.28570999999999996,
          -0.28570999999999996,
          -0.28570999999999996,
          -0.2381,
          -0.2381,
          -0.2381,
          -0.33333,
          -0.047619,
          -0.14286,
          -0.42857,
          -0.2381,
          -0.19047999999999998,
          -0.14286,
          0,
          0.047619,
          0.047619
         ],
         "yaxis": "y"
        },
        {
         "hovertemplate": "<b>%{hovertext}</b><br><br>target_label=Movement<br>_id=26<br>target_label=Movement<br>_id=26<br>time=%{x}<br>RSS_anchor1=%{y}<extra></extra>",
         "hovertext": [
          1,
          1,
          1,
          1,
          1,
          1,
          1,
          1,
          1,
          1,
          1,
          1,
          1,
          1,
          1,
          1,
          1,
          1,
          1,
          1,
          1,
          1,
          1,
          1,
          1,
          1
         ],
         "legendgroup": "target_label=Movement, _id=26",
         "line": {
          "color": "#AA0DFE",
          "dash": "dot",
          "shape": "linear"
         },
         "mode": "lines",
         "name": "target_label=Movement, _id=26",
         "showlegend": true,
         "type": "scatter",
         "uid": "437730cb-a148-44a5-a527-5df048bfb7df",
         "x": [
          0,
          0.125,
          0.25,
          0.375,
          0.5,
          0.625,
          0.75,
          0.875,
          1,
          1.125,
          1.25,
          1.375,
          1.5,
          1.625,
          1.75,
          1.875,
          2,
          2.125,
          2.25,
          2.375,
          2.5,
          2.625,
          2.75,
          2.875,
          3,
          3.125
         ],
         "xaxis": "x",
         "y": [
          -1,
          -1,
          -1,
          -0.80952,
          -1,
          -0.57143,
          -0.66667,
          -0.85714,
          -0.52381,
          -0.52381,
          -0.33333,
          -0.47618999999999995,
          -0.57143,
          -0.28570999999999996,
          -0.28570999999999996,
          -0.28570999999999996,
          -0.19047999999999998,
          -0.19047999999999998,
          -0.19047999999999998,
          -0.33333,
          -0.047619,
          -0.2381,
          -0.33333,
          -0.42857,
          -0.2381,
          -0.14286
         ],
         "yaxis": "y"
        },
        {
         "hovertemplate": "<b>%{hovertext}</b><br><br>target_label=Non-Movement<br>_id=27<br>target_label=Non-Movement<br>_id=27<br>time=%{x}<br>RSS_anchor1=%{y}<extra></extra>",
         "hovertext": [
          -1,
          -1,
          -1,
          -1,
          -1,
          -1,
          -1,
          -1,
          -1,
          -1,
          -1,
          -1,
          -1,
          -1,
          -1,
          -1,
          -1,
          -1,
          -1,
          -1,
          -1,
          -1,
          -1,
          -1,
          -1,
          -1,
          -1,
          -1,
          -1
         ],
         "legendgroup": "target_label=Non-Movement, _id=27",
         "line": {
          "color": "#3283FE",
          "dash": "dash",
          "shape": "linear"
         },
         "mode": "lines",
         "name": "target_label=Non-Movement, _id=27",
         "showlegend": true,
         "type": "scatter",
         "uid": "8be42993-8df3-4473-bb3f-f05f9fa96821",
         "x": [
          0,
          0.125,
          0.25,
          0.375,
          0.5,
          0.625,
          0.75,
          0.875,
          1,
          1.125,
          1.25,
          1.375,
          1.5,
          1.625,
          1.75,
          1.875,
          2,
          2.125,
          2.25,
          2.375,
          2.5,
          2.625,
          2.75,
          2.875,
          3,
          3.125,
          3.25,
          3.375,
          3.5
         ],
         "xaxis": "x",
         "y": [
          -0.57143,
          -0.57143,
          -0.57143,
          -0.52381,
          -0.90476,
          -0.85714,
          -0.66667,
          -0.42857,
          -0.28570999999999996,
          -0.2381,
          -0.52381,
          -0.61905,
          -0.52381,
          -0.28570999999999996,
          -0.38095,
          -0.57143,
          -0.80952,
          -0.52381,
          -0.57143,
          -1,
          -0.47618999999999995,
          -0.9523799999999999,
          -0.33333,
          -1,
          -0.28570999999999996,
          -0.095238,
          -0.2381,
          -0.42857,
          -0.38095
         ],
         "yaxis": "y2"
        },
        {
         "hovertemplate": "<b>%{hovertext}</b><br><br>target_label=Non-Movement<br>_id=28<br>target_label=Non-Movement<br>_id=28<br>time=%{x}<br>RSS_anchor1=%{y}<extra></extra>",
         "hovertext": [
          -1,
          -1,
          -1,
          -1,
          -1,
          -1,
          -1,
          -1,
          -1,
          -1,
          -1,
          -1,
          -1,
          -1,
          -1,
          -1,
          -1,
          -1,
          -1,
          -1,
          -1,
          -1,
          -1,
          -1,
          -1,
          -1,
          -1,
          -1,
          -1
         ],
         "legendgroup": "target_label=Non-Movement, _id=28",
         "line": {
          "color": "#3283FE",
          "dash": "longdash",
          "shape": "linear"
         },
         "mode": "lines",
         "name": "target_label=Non-Movement, _id=28",
         "showlegend": true,
         "type": "scatter",
         "uid": "f812c214-7c4a-4145-8d4f-97bec7d18223",
         "x": [
          0,
          0.125,
          0.25,
          0.375,
          0.5,
          0.625,
          0.75,
          0.875,
          1,
          1.125,
          1.25,
          1.375,
          1.5,
          1.625,
          1.75,
          1.875,
          2,
          2.125,
          2.25,
          2.375,
          2.5,
          2.625,
          2.75,
          2.875,
          3,
          3.125,
          3.25,
          3.375,
          3.5
         ],
         "xaxis": "x",
         "y": [
          -1,
          -1,
          -1,
          -1,
          -0.66667,
          -0.71429,
          -0.80952,
          -0.90476,
          -0.66667,
          -0.57143,
          -0.57143,
          -0.71429,
          -1,
          -1,
          -1,
          -1,
          -0.9523799999999999,
          -0.42857,
          -0.57143,
          -0.47618999999999995,
          -0.42857,
          -0.19047999999999998,
          -0.28570999999999996,
          -0.7619,
          -0.28570999999999996,
          -0.71429,
          -0.57143,
          -0.47618999999999995,
          -0.47618999999999995
         ],
         "yaxis": "y2"
        },
        {
         "hovertemplate": "<b>%{hovertext}</b><br><br>target_label=Non-Movement<br>_id=29<br>target_label=Non-Movement<br>_id=29<br>time=%{x}<br>RSS_anchor1=%{y}<extra></extra>",
         "hovertext": [
          -1,
          -1,
          -1,
          -1,
          -1,
          -1,
          -1,
          -1,
          -1,
          -1,
          -1,
          -1,
          -1,
          -1,
          -1,
          -1,
          -1,
          -1,
          -1,
          -1,
          -1,
          -1,
          -1,
          -1,
          -1
         ],
         "legendgroup": "target_label=Non-Movement, _id=29",
         "line": {
          "color": "#3283FE",
          "dash": "dashdot",
          "shape": "linear"
         },
         "mode": "lines",
         "name": "target_label=Non-Movement, _id=29",
         "showlegend": true,
         "type": "scatter",
         "uid": "5b5ac6df-218c-4ff2-97a0-2ce7d08838cd",
         "x": [
          0,
          0.125,
          0.25,
          0.375,
          0.5,
          0.625,
          0.75,
          0.875,
          1,
          1.125,
          1.25,
          1.375,
          1.5,
          1.625,
          1.75,
          1.875,
          2,
          2.125,
          2.25,
          2.375,
          2.5,
          2.625,
          2.75,
          2.875,
          3
         ],
         "xaxis": "x",
         "y": [
          -1,
          -0.66667,
          -0.66667,
          -0.85714,
          -0.71429,
          -0.71429,
          -0.61905,
          -0.52381,
          -0.57143,
          -0.57143,
          -0.85714,
          -0.9523799999999999,
          -1,
          -1,
          -0.85714,
          -0.85714,
          -0.66667,
          -0.52381,
          -0.57143,
          -0.85714,
          -0.47618999999999995,
          -0.42857,
          -0.28570999999999996,
          -0.28570999999999996,
          -0.71429
         ],
         "yaxis": "y2"
        }
       ],
       "layout": {
        "annotations": [
         {
          "showarrow": false,
          "text": "target_label=Movement",
          "textangle": 90,
          "x": 1.01,
          "xanchor": "center",
          "xref": "paper",
          "y": 0.763157894736842,
          "yanchor": "middle",
          "yref": "paper"
         },
         {
          "showarrow": false,
          "text": "target_label=Non-Movement",
          "textangle": 90,
          "x": 1.01,
          "xanchor": "center",
          "xref": "paper",
          "y": 0.23684210526315788,
          "yanchor": "middle",
          "yref": "paper"
         }
        ],
        "grid": {
         "xaxes": [
          "x"
         ],
         "xgap": 0.1,
         "xside": "bottom",
         "yaxes": [
          "y",
          "y2"
         ],
         "ygap": 0.1,
         "yside": "left"
        },
        "height": 550,
        "legend": {
         "tracegroupgap": 0
        },
        "margin": {
         "t": 60
        },
        "template": {
         "data": {
          "bar": [
           {
            "marker": {
             "line": {
              "color": "#E5ECF6",
              "width": 0.5
             }
            },
            "type": "bar"
           }
          ],
          "barpolar": [
           {
            "marker": {
             "line": {
              "color": "#E5ECF6",
              "width": 0.5
             }
            },
            "type": "barpolar"
           }
          ],
          "carpet": [
           {
            "aaxis": {
             "endlinecolor": "#2a3f5f",
             "gridcolor": "white",
             "linecolor": "white",
             "minorgridcolor": "white",
             "startlinecolor": "#2a3f5f"
            },
            "baxis": {
             "endlinecolor": "#2a3f5f",
             "gridcolor": "white",
             "linecolor": "white",
             "minorgridcolor": "white",
             "startlinecolor": "#2a3f5f"
            },
            "type": "carpet"
           }
          ],
          "choropleth": [
           {
            "colorbar": {
             "outlinewidth": 0,
             "ticks": ""
            },
            "type": "choropleth"
           }
          ],
          "contour": [
           {
            "autocolorscale": true,
            "colorbar": {
             "outlinewidth": 0,
             "ticks": ""
            },
            "type": "contour"
           }
          ],
          "contourcarpet": [
           {
            "colorbar": {
             "outlinewidth": 0,
             "ticks": ""
            },
            "type": "contourcarpet"
           }
          ],
          "heatmap": [
           {
            "autocolorscale": true,
            "colorbar": {
             "outlinewidth": 0,
             "ticks": ""
            },
            "type": "heatmap"
           }
          ],
          "heatmapgl": [
           {
            "colorbar": {
             "outlinewidth": 0,
             "ticks": ""
            },
            "type": "heatmapgl"
           }
          ],
          "histogram": [
           {
            "marker": {
             "colorbar": {
              "outlinewidth": 0,
              "ticks": ""
             }
            },
            "type": "histogram"
           }
          ],
          "histogram2d": [
           {
            "autocolorscale": true,
            "colorbar": {
             "outlinewidth": 0,
             "ticks": ""
            },
            "type": "histogram2d"
           }
          ],
          "histogram2dcontour": [
           {
            "autocolorscale": true,
            "colorbar": {
             "outlinewidth": 0,
             "ticks": ""
            },
            "type": "histogram2dcontour"
           }
          ],
          "mesh3d": [
           {
            "colorbar": {
             "outlinewidth": 0,
             "ticks": ""
            },
            "type": "mesh3d"
           }
          ],
          "parcoords": [
           {
            "line": {
             "colorbar": {
              "outlinewidth": 0,
              "ticks": ""
             }
            },
            "type": "parcoords"
           }
          ],
          "scatter": [
           {
            "marker": {
             "colorbar": {
              "outlinewidth": 0,
              "ticks": ""
             }
            },
            "type": "scatter"
           }
          ],
          "scatter3d": [
           {
            "marker": {
             "colorbar": {
              "outlinewidth": 0,
              "ticks": ""
             }
            },
            "type": "scatter3d"
           }
          ],
          "scattercarpet": [
           {
            "marker": {
             "colorbar": {
              "outlinewidth": 0,
              "ticks": ""
             }
            },
            "type": "scattercarpet"
           }
          ],
          "scattergeo": [
           {
            "marker": {
             "colorbar": {
              "outlinewidth": 0,
              "ticks": ""
             }
            },
            "type": "scattergeo"
           }
          ],
          "scattergl": [
           {
            "marker": {
             "colorbar": {
              "outlinewidth": 0,
              "ticks": ""
             }
            },
            "type": "scattergl"
           }
          ],
          "scattermapbox": [
           {
            "marker": {
             "colorbar": {
              "outlinewidth": 0,
              "ticks": ""
             }
            },
            "type": "scattermapbox"
           }
          ],
          "scatterpolar": [
           {
            "marker": {
             "colorbar": {
              "outlinewidth": 0,
              "ticks": ""
             }
            },
            "type": "scatterpolar"
           }
          ],
          "scatterpolargl": [
           {
            "marker": {
             "colorbar": {
              "outlinewidth": 0,
              "ticks": ""
             }
            },
            "type": "scatterpolargl"
           }
          ],
          "scatterternary": [
           {
            "marker": {
             "colorbar": {
              "outlinewidth": 0,
              "ticks": ""
             }
            },
            "type": "scatterternary"
           }
          ],
          "surface": [
           {
            "colorbar": {
             "outlinewidth": 0,
             "ticks": ""
            },
            "type": "surface"
           }
          ],
          "table": [
           {
            "cells": {
             "fill": {
              "color": "#EBF0F8"
             },
             "line": {
              "color": "white"
             }
            },
            "header": {
             "fill": {
              "color": "#C8D4E3"
             },
             "line": {
              "color": "white"
             }
            },
            "type": "table"
           }
          ]
         },
         "layout": {
          "annotationdefaults": {
           "arrowcolor": "#506784",
           "arrowhead": 0,
           "arrowwidth": 1
          },
          "colorscale": {
           "diverging": [
            [
             0,
             "#8e0152"
            ],
            [
             0.1,
             "#c51b7d"
            ],
            [
             0.2,
             "#de77ae"
            ],
            [
             0.3,
             "#f1b6da"
            ],
            [
             0.4,
             "#fde0ef"
            ],
            [
             0.5,
             "#f7f7f7"
            ],
            [
             0.6,
             "#e6f5d0"
            ],
            [
             0.7,
             "#b8e186"
            ],
            [
             0.8,
             "#7fbc41"
            ],
            [
             0.9,
             "#4d9221"
            ],
            [
             1,
             "#276419"
            ]
           ],
           "sequential": [
            [
             0,
             "#0508b8"
            ],
            [
             0.0893854748603352,
             "#1910d8"
            ],
            [
             0.1787709497206704,
             "#3c19f0"
            ],
            [
             0.2681564245810056,
             "#6b1cfb"
            ],
            [
             0.3575418994413408,
             "#981cfd"
            ],
            [
             0.44692737430167595,
             "#bf1cfd"
            ],
            [
             0.5363128491620112,
             "#dd2bfd"
            ],
            [
             0.6256983240223464,
             "#f246fe"
            ],
            [
             0.7150837988826816,
             "#fc67fd"
            ],
            [
             0.8044692737430168,
             "#fe88fc"
            ],
            [
             0.8938547486033519,
             "#fea5fd"
            ],
            [
             0.9832402234636871,
             "#febefe"
            ],
            [
             1,
             "#fec3fe"
            ]
           ],
           "sequentialminus": [
            [
             0,
             "#0508b8"
            ],
            [
             0.0893854748603352,
             "#1910d8"
            ],
            [
             0.1787709497206704,
             "#3c19f0"
            ],
            [
             0.2681564245810056,
             "#6b1cfb"
            ],
            [
             0.3575418994413408,
             "#981cfd"
            ],
            [
             0.44692737430167595,
             "#bf1cfd"
            ],
            [
             0.5363128491620112,
             "#dd2bfd"
            ],
            [
             0.6256983240223464,
             "#f246fe"
            ],
            [
             0.7150837988826816,
             "#fc67fd"
            ],
            [
             0.8044692737430168,
             "#fe88fc"
            ],
            [
             0.8938547486033519,
             "#fea5fd"
            ],
            [
             0.9832402234636871,
             "#febefe"
            ],
            [
             1,
             "#fec3fe"
            ]
           ]
          },
          "colorway": [
           "#636efa",
           "#EF553B",
           "#00cc96",
           "#ab63fa",
           "#19d3f3",
           "#e763fa",
           "#FECB52",
           "#FFA15A",
           "#FF6692",
           "#B6E880"
          ],
          "font": {
           "color": "#2a3f5f"
          },
          "geo": {
           "bgcolor": "white",
           "lakecolor": "white",
           "landcolor": "#E5ECF6",
           "showlakes": true,
           "showland": true,
           "subunitcolor": "white"
          },
          "hovermode": "closest",
          "mapbox": {
           "style": "light"
          },
          "paper_bgcolor": "white",
          "plot_bgcolor": "#E5ECF6",
          "polar": {
           "angularaxis": {
            "gridcolor": "white",
            "linecolor": "white",
            "ticks": ""
           },
           "bgcolor": "#E5ECF6",
           "radialaxis": {
            "gridcolor": "white",
            "linecolor": "white",
            "ticks": ""
           }
          },
          "scene": {
           "xaxis": {
            "backgroundcolor": "#E5ECF6",
            "gridcolor": "white",
            "gridwidth": 2,
            "linecolor": "white",
            "showbackground": true,
            "ticks": "",
            "zerolinecolor": "white"
           },
           "yaxis": {
            "backgroundcolor": "#E5ECF6",
            "gridcolor": "white",
            "gridwidth": 2,
            "linecolor": "white",
            "showbackground": true,
            "ticks": "",
            "zerolinecolor": "white"
           },
           "zaxis": {
            "backgroundcolor": "#E5ECF6",
            "gridcolor": "white",
            "gridwidth": 2,
            "linecolor": "white",
            "showbackground": true,
            "ticks": "",
            "zerolinecolor": "white"
           }
          },
          "shapedefaults": {
           "fillcolor": "#506784",
           "line": {
            "width": 0
           },
           "opacity": 0.4
          },
          "ternary": {
           "aaxis": {
            "gridcolor": "white",
            "linecolor": "white",
            "ticks": ""
           },
           "baxis": {
            "gridcolor": "white",
            "linecolor": "white",
            "ticks": ""
           },
           "bgcolor": "#E5ECF6",
           "caxis": {
            "gridcolor": "white",
            "linecolor": "white",
            "ticks": ""
           }
          },
          "title": {
           "x": 0.05
          },
          "xaxis": {
           "automargin": true,
           "gridcolor": "white",
           "linecolor": "white",
           "ticks": "",
           "zerolinecolor": "white",
           "zerolinewidth": 2
          },
          "yaxis": {
           "automargin": true,
           "gridcolor": "white",
           "linecolor": "white",
           "ticks": "",
           "zerolinecolor": "white",
           "zerolinewidth": 2
          }
         }
        },
        "width": 950,
        "xaxis": {
         "title": {
          "text": "time"
         }
        },
        "yaxis": {
         "title": {
          "text": "RSS_anchor1"
         }
        },
        "yaxis2": {
         "matches": "y",
         "title": {
          "text": "RSS_anchor1"
         }
        }
       }
      },
      "text/html": [
       "<div id=\"a3a21693-eb29-414a-8052-a176be1f11b5\" style=\"height: 550px; width: 950px;\" class=\"plotly-graph-div\"></div><script type=\"text/javascript\">require([\"plotly\"], function(Plotly) { window.PLOTLYENV=window.PLOTLYENV || {};window.PLOTLYENV.BASE_URL=\"https://plot.ly\";\n",
       "if (document.getElementById(\"a3a21693-eb29-414a-8052-a176be1f11b5\")) {\n",
       "    Plotly.newPlot(\"a3a21693-eb29-414a-8052-a176be1f11b5\", [{\"hovertemplate\": \"<b>%{hovertext}</b><br><br>target_label=Movement<br>_id=25<br>target_label=Movement<br>_id=25<br>time=%{x}<br>RSS_anchor1=%{y}<extra></extra>\", \"hovertext\": [1.0, 1.0, 1.0, 1.0, 1.0, 1.0, 1.0, 1.0, 1.0, 1.0, 1.0, 1.0, 1.0, 1.0, 1.0, 1.0, 1.0, 1.0, 1.0, 1.0, 1.0, 1.0, 1.0, 1.0], \"legendgroup\": \"target_label=Movement, _id=25\", \"line\": {\"color\": \"#AA0DFE\", \"dash\": \"solid\", \"shape\": \"linear\"}, \"mode\": \"lines\", \"name\": \"target_label=Movement, _id=25\", \"showlegend\": true, \"x\": [0.0, 0.125, 0.25, 0.375, 0.5, 0.625, 0.75, 0.875, 1.0, 1.125, 1.25, 1.375, 1.5, 1.625, 1.75, 1.875, 2.0, 2.125, 2.25, 2.375, 2.5, 2.625, 2.75, 2.875], \"xaxis\": \"x\", \"y\": [-0.57143, -0.7619, -0.9523799999999999, -0.85714, -0.66667, -0.57143, -0.47618999999999995, -0.28570999999999996, -0.28570999999999996, -0.28570999999999996, -0.28570999999999996, -0.2381, -0.2381, -0.2381, -0.33333, -0.047619, -0.14286, -0.42857, -0.2381, -0.19047999999999998, -0.14286, 0.0, 0.047619, 0.047619], \"yaxis\": \"y\", \"type\": \"scatter\", \"uid\": \"ee13c3ea-ebe6-4f3d-a509-533725d32da8\"}, {\"hovertemplate\": \"<b>%{hovertext}</b><br><br>target_label=Movement<br>_id=26<br>target_label=Movement<br>_id=26<br>time=%{x}<br>RSS_anchor1=%{y}<extra></extra>\", \"hovertext\": [1.0, 1.0, 1.0, 1.0, 1.0, 1.0, 1.0, 1.0, 1.0, 1.0, 1.0, 1.0, 1.0, 1.0, 1.0, 1.0, 1.0, 1.0, 1.0, 1.0, 1.0, 1.0, 1.0, 1.0, 1.0, 1.0], \"legendgroup\": \"target_label=Movement, _id=26\", \"line\": {\"color\": \"#AA0DFE\", \"dash\": \"dot\", \"shape\": \"linear\"}, \"mode\": \"lines\", \"name\": \"target_label=Movement, _id=26\", \"showlegend\": true, \"x\": [0.0, 0.125, 0.25, 0.375, 0.5, 0.625, 0.75, 0.875, 1.0, 1.125, 1.25, 1.375, 1.5, 1.625, 1.75, 1.875, 2.0, 2.125, 2.25, 2.375, 2.5, 2.625, 2.75, 2.875, 3.0, 3.125], \"xaxis\": \"x\", \"y\": [-1.0, -1.0, -1.0, -0.80952, -1.0, -0.57143, -0.66667, -0.85714, -0.52381, -0.52381, -0.33333, -0.47618999999999995, -0.57143, -0.28570999999999996, -0.28570999999999996, -0.28570999999999996, -0.19047999999999998, -0.19047999999999998, -0.19047999999999998, -0.33333, -0.047619, -0.2381, -0.33333, -0.42857, -0.2381, -0.14286], \"yaxis\": \"y\", \"type\": \"scatter\", \"uid\": \"437730cb-a148-44a5-a527-5df048bfb7df\"}, {\"hovertemplate\": \"<b>%{hovertext}</b><br><br>target_label=Non-Movement<br>_id=27<br>target_label=Non-Movement<br>_id=27<br>time=%{x}<br>RSS_anchor1=%{y}<extra></extra>\", \"hovertext\": [-1.0, -1.0, -1.0, -1.0, -1.0, -1.0, -1.0, -1.0, -1.0, -1.0, -1.0, -1.0, -1.0, -1.0, -1.0, -1.0, -1.0, -1.0, -1.0, -1.0, -1.0, -1.0, -1.0, -1.0, -1.0, -1.0, -1.0, -1.0, -1.0], \"legendgroup\": \"target_label=Non-Movement, _id=27\", \"line\": {\"color\": \"#3283FE\", \"dash\": \"dash\", \"shape\": \"linear\"}, \"mode\": \"lines\", \"name\": \"target_label=Non-Movement, _id=27\", \"showlegend\": true, \"x\": [0.0, 0.125, 0.25, 0.375, 0.5, 0.625, 0.75, 0.875, 1.0, 1.125, 1.25, 1.375, 1.5, 1.625, 1.75, 1.875, 2.0, 2.125, 2.25, 2.375, 2.5, 2.625, 2.75, 2.875, 3.0, 3.125, 3.25, 3.375, 3.5], \"xaxis\": \"x\", \"y\": [-0.57143, -0.57143, -0.57143, -0.52381, -0.90476, -0.85714, -0.66667, -0.42857, -0.28570999999999996, -0.2381, -0.52381, -0.61905, -0.52381, -0.28570999999999996, -0.38095, -0.57143, -0.80952, -0.52381, -0.57143, -1.0, -0.47618999999999995, -0.9523799999999999, -0.33333, -1.0, -0.28570999999999996, -0.095238, -0.2381, -0.42857, -0.38095], \"yaxis\": \"y2\", \"type\": \"scatter\", \"uid\": \"8be42993-8df3-4473-bb3f-f05f9fa96821\"}, {\"hovertemplate\": \"<b>%{hovertext}</b><br><br>target_label=Non-Movement<br>_id=28<br>target_label=Non-Movement<br>_id=28<br>time=%{x}<br>RSS_anchor1=%{y}<extra></extra>\", \"hovertext\": [-1.0, -1.0, -1.0, -1.0, -1.0, -1.0, -1.0, -1.0, -1.0, -1.0, -1.0, -1.0, -1.0, -1.0, -1.0, -1.0, -1.0, -1.0, -1.0, -1.0, -1.0, -1.0, -1.0, -1.0, -1.0, -1.0, -1.0, -1.0, -1.0], \"legendgroup\": \"target_label=Non-Movement, _id=28\", \"line\": {\"color\": \"#3283FE\", \"dash\": \"longdash\", \"shape\": \"linear\"}, \"mode\": \"lines\", \"name\": \"target_label=Non-Movement, _id=28\", \"showlegend\": true, \"x\": [0.0, 0.125, 0.25, 0.375, 0.5, 0.625, 0.75, 0.875, 1.0, 1.125, 1.25, 1.375, 1.5, 1.625, 1.75, 1.875, 2.0, 2.125, 2.25, 2.375, 2.5, 2.625, 2.75, 2.875, 3.0, 3.125, 3.25, 3.375, 3.5], \"xaxis\": \"x\", \"y\": [-1.0, -1.0, -1.0, -1.0, -0.66667, -0.71429, -0.80952, -0.90476, -0.66667, -0.57143, -0.57143, -0.71429, -1.0, -1.0, -1.0, -1.0, -0.9523799999999999, -0.42857, -0.57143, -0.47618999999999995, -0.42857, -0.19047999999999998, -0.28570999999999996, -0.7619, -0.28570999999999996, -0.71429, -0.57143, -0.47618999999999995, -0.47618999999999995], \"yaxis\": \"y2\", \"type\": \"scatter\", \"uid\": \"f812c214-7c4a-4145-8d4f-97bec7d18223\"}, {\"hovertemplate\": \"<b>%{hovertext}</b><br><br>target_label=Non-Movement<br>_id=29<br>target_label=Non-Movement<br>_id=29<br>time=%{x}<br>RSS_anchor1=%{y}<extra></extra>\", \"hovertext\": [-1.0, -1.0, -1.0, -1.0, -1.0, -1.0, -1.0, -1.0, -1.0, -1.0, -1.0, -1.0, -1.0, -1.0, -1.0, -1.0, -1.0, -1.0, -1.0, -1.0, -1.0, -1.0, -1.0, -1.0, -1.0], \"legendgroup\": \"target_label=Non-Movement, _id=29\", \"line\": {\"color\": \"#3283FE\", \"dash\": \"dashdot\", \"shape\": \"linear\"}, \"mode\": \"lines\", \"name\": \"target_label=Non-Movement, _id=29\", \"showlegend\": true, \"x\": [0.0, 0.125, 0.25, 0.375, 0.5, 0.625, 0.75, 0.875, 1.0, 1.125, 1.25, 1.375, 1.5, 1.625, 1.75, 1.875, 2.0, 2.125, 2.25, 2.375, 2.5, 2.625, 2.75, 2.875, 3.0], \"xaxis\": \"x\", \"y\": [-1.0, -0.66667, -0.66667, -0.85714, -0.71429, -0.71429, -0.61905, -0.52381, -0.57143, -0.57143, -0.85714, -0.9523799999999999, -1.0, -1.0, -0.85714, -0.85714, -0.66667, -0.52381, -0.57143, -0.85714, -0.47618999999999995, -0.42857, -0.28570999999999996, -0.28570999999999996, -0.71429], \"yaxis\": \"y2\", \"type\": \"scatter\", \"uid\": \"5b5ac6df-218c-4ff2-97a0-2ce7d08838cd\"}], {\"height\": 550, \"legend\": {\"tracegroupgap\": 0}, \"margin\": {\"t\": 60}, \"template\": {\"data\": {\"barpolar\": [{\"marker\": {\"line\": {\"color\": \"#E5ECF6\", \"width\": 0.5}}, \"type\": \"barpolar\"}], \"bar\": [{\"marker\": {\"line\": {\"color\": \"#E5ECF6\", \"width\": 0.5}}, \"type\": \"bar\"}], \"carpet\": [{\"aaxis\": {\"endlinecolor\": \"#2a3f5f\", \"gridcolor\": \"white\", \"linecolor\": \"white\", \"minorgridcolor\": \"white\", \"startlinecolor\": \"#2a3f5f\"}, \"baxis\": {\"endlinecolor\": \"#2a3f5f\", \"gridcolor\": \"white\", \"linecolor\": \"white\", \"minorgridcolor\": \"white\", \"startlinecolor\": \"#2a3f5f\"}, \"type\": \"carpet\"}], \"choropleth\": [{\"colorbar\": {\"outlinewidth\": 0, \"ticks\": \"\"}, \"type\": \"choropleth\"}], \"contourcarpet\": [{\"colorbar\": {\"outlinewidth\": 0, \"ticks\": \"\"}, \"type\": \"contourcarpet\"}], \"contour\": [{\"autocolorscale\": true, \"colorbar\": {\"outlinewidth\": 0, \"ticks\": \"\"}, \"type\": \"contour\"}], \"heatmapgl\": [{\"colorbar\": {\"outlinewidth\": 0, \"ticks\": \"\"}, \"type\": \"heatmapgl\"}], \"heatmap\": [{\"autocolorscale\": true, \"colorbar\": {\"outlinewidth\": 0, \"ticks\": \"\"}, \"type\": \"heatmap\"}], \"histogram2dcontour\": [{\"autocolorscale\": true, \"colorbar\": {\"outlinewidth\": 0, \"ticks\": \"\"}, \"type\": \"histogram2dcontour\"}], \"histogram2d\": [{\"autocolorscale\": true, \"colorbar\": {\"outlinewidth\": 0, \"ticks\": \"\"}, \"type\": \"histogram2d\"}], \"histogram\": [{\"marker\": {\"colorbar\": {\"outlinewidth\": 0, \"ticks\": \"\"}}, \"type\": \"histogram\"}], \"mesh3d\": [{\"colorbar\": {\"outlinewidth\": 0, \"ticks\": \"\"}, \"type\": \"mesh3d\"}], \"parcoords\": [{\"line\": {\"colorbar\": {\"outlinewidth\": 0, \"ticks\": \"\"}}, \"type\": \"parcoords\"}], \"scatter3d\": [{\"marker\": {\"colorbar\": {\"outlinewidth\": 0, \"ticks\": \"\"}}, \"type\": \"scatter3d\"}], \"scattercarpet\": [{\"marker\": {\"colorbar\": {\"outlinewidth\": 0, \"ticks\": \"\"}}, \"type\": \"scattercarpet\"}], \"scattergeo\": [{\"marker\": {\"colorbar\": {\"outlinewidth\": 0, \"ticks\": \"\"}}, \"type\": \"scattergeo\"}], \"scattergl\": [{\"marker\": {\"colorbar\": {\"outlinewidth\": 0, \"ticks\": \"\"}}, \"type\": \"scattergl\"}], \"scattermapbox\": [{\"marker\": {\"colorbar\": {\"outlinewidth\": 0, \"ticks\": \"\"}}, \"type\": \"scattermapbox\"}], \"scatterpolargl\": [{\"marker\": {\"colorbar\": {\"outlinewidth\": 0, \"ticks\": \"\"}}, \"type\": \"scatterpolargl\"}], \"scatterpolar\": [{\"marker\": {\"colorbar\": {\"outlinewidth\": 0, \"ticks\": \"\"}}, \"type\": \"scatterpolar\"}], \"scatter\": [{\"marker\": {\"colorbar\": {\"outlinewidth\": 0, \"ticks\": \"\"}}, \"type\": \"scatter\"}], \"scatterternary\": [{\"marker\": {\"colorbar\": {\"outlinewidth\": 0, \"ticks\": \"\"}}, \"type\": \"scatterternary\"}], \"surface\": [{\"colorbar\": {\"outlinewidth\": 0, \"ticks\": \"\"}, \"type\": \"surface\"}], \"table\": [{\"cells\": {\"fill\": {\"color\": \"#EBF0F8\"}, \"line\": {\"color\": \"white\"}}, \"header\": {\"fill\": {\"color\": \"#C8D4E3\"}, \"line\": {\"color\": \"white\"}}, \"type\": \"table\"}]}, \"layout\": {\"annotationdefaults\": {\"arrowcolor\": \"#506784\", \"arrowhead\": 0, \"arrowwidth\": 1}, \"colorscale\": {\"diverging\": [[0, \"#8e0152\"], [0.1, \"#c51b7d\"], [0.2, \"#de77ae\"], [0.3, \"#f1b6da\"], [0.4, \"#fde0ef\"], [0.5, \"#f7f7f7\"], [0.6, \"#e6f5d0\"], [0.7, \"#b8e186\"], [0.8, \"#7fbc41\"], [0.9, \"#4d9221\"], [1, \"#276419\"]], \"sequential\": [[0.0, \"#0508b8\"], [0.0893854748603352, \"#1910d8\"], [0.1787709497206704, \"#3c19f0\"], [0.2681564245810056, \"#6b1cfb\"], [0.3575418994413408, \"#981cfd\"], [0.44692737430167595, \"#bf1cfd\"], [0.5363128491620112, \"#dd2bfd\"], [0.6256983240223464, \"#f246fe\"], [0.7150837988826816, \"#fc67fd\"], [0.8044692737430168, \"#fe88fc\"], [0.8938547486033519, \"#fea5fd\"], [0.9832402234636871, \"#febefe\"], [1.0, \"#fec3fe\"]], \"sequentialminus\": [[0.0, \"#0508b8\"], [0.0893854748603352, \"#1910d8\"], [0.1787709497206704, \"#3c19f0\"], [0.2681564245810056, \"#6b1cfb\"], [0.3575418994413408, \"#981cfd\"], [0.44692737430167595, \"#bf1cfd\"], [0.5363128491620112, \"#dd2bfd\"], [0.6256983240223464, \"#f246fe\"], [0.7150837988826816, \"#fc67fd\"], [0.8044692737430168, \"#fe88fc\"], [0.8938547486033519, \"#fea5fd\"], [0.9832402234636871, \"#febefe\"], [1.0, \"#fec3fe\"]]}, \"colorway\": [\"#636efa\", \"#EF553B\", \"#00cc96\", \"#ab63fa\", \"#19d3f3\", \"#e763fa\", \"#FECB52\", \"#FFA15A\", \"#FF6692\", \"#B6E880\"], \"font\": {\"color\": \"#2a3f5f\"}, \"geo\": {\"bgcolor\": \"white\", \"lakecolor\": \"white\", \"landcolor\": \"#E5ECF6\", \"showlakes\": true, \"showland\": true, \"subunitcolor\": \"white\"}, \"hovermode\": \"closest\", \"mapbox\": {\"style\": \"light\"}, \"paper_bgcolor\": \"white\", \"plot_bgcolor\": \"#E5ECF6\", \"polar\": {\"angularaxis\": {\"gridcolor\": \"white\", \"linecolor\": \"white\", \"ticks\": \"\"}, \"bgcolor\": \"#E5ECF6\", \"radialaxis\": {\"gridcolor\": \"white\", \"linecolor\": \"white\", \"ticks\": \"\"}}, \"scene\": {\"xaxis\": {\"backgroundcolor\": \"#E5ECF6\", \"gridcolor\": \"white\", \"gridwidth\": 2, \"linecolor\": \"white\", \"showbackground\": true, \"ticks\": \"\", \"zerolinecolor\": \"white\"}, \"yaxis\": {\"backgroundcolor\": \"#E5ECF6\", \"gridcolor\": \"white\", \"gridwidth\": 2, \"linecolor\": \"white\", \"showbackground\": true, \"ticks\": \"\", \"zerolinecolor\": \"white\"}, \"zaxis\": {\"backgroundcolor\": \"#E5ECF6\", \"gridcolor\": \"white\", \"gridwidth\": 2, \"linecolor\": \"white\", \"showbackground\": true, \"ticks\": \"\", \"zerolinecolor\": \"white\"}}, \"shapedefaults\": {\"fillcolor\": \"#506784\", \"line\": {\"width\": 0}, \"opacity\": 0.4}, \"ternary\": {\"aaxis\": {\"gridcolor\": \"white\", \"linecolor\": \"white\", \"ticks\": \"\"}, \"baxis\": {\"gridcolor\": \"white\", \"linecolor\": \"white\", \"ticks\": \"\"}, \"bgcolor\": \"#E5ECF6\", \"caxis\": {\"gridcolor\": \"white\", \"linecolor\": \"white\", \"ticks\": \"\"}}, \"title\": {\"x\": 0.05}, \"xaxis\": {\"automargin\": true, \"gridcolor\": \"white\", \"linecolor\": \"white\", \"ticks\": \"\", \"zerolinecolor\": \"white\", \"zerolinewidth\": 2}, \"yaxis\": {\"automargin\": true, \"gridcolor\": \"white\", \"linecolor\": \"white\", \"ticks\": \"\", \"zerolinecolor\": \"white\", \"zerolinewidth\": 2}}}, \"width\": 950, \"grid\": {\"xaxes\": [\"x\"], \"yaxes\": [\"y\", \"y2\"], \"xgap\": 0.1, \"ygap\": 0.1, \"xside\": \"bottom\", \"yside\": \"left\"}, \"yaxis2\": {\"title\": {\"text\": \"RSS_anchor1\"}, \"matches\": \"y\"}, \"annotations\": [{\"showarrow\": false, \"text\": \"target_label=Movement\", \"textangle\": 90, \"x\": 1.01, \"xanchor\": \"center\", \"xref\": \"paper\", \"y\": 0.763157894736842, \"yanchor\": \"middle\", \"yref\": \"paper\"}, {\"showarrow\": false, \"text\": \"target_label=Non-Movement\", \"textangle\": 90, \"x\": 1.01, \"xanchor\": \"center\", \"xref\": \"paper\", \"y\": 0.23684210526315788, \"yanchor\": \"middle\", \"yref\": \"paper\"}], \"xaxis\": {\"title\": {\"text\": \"time\"}}, \"yaxis\": {\"title\": {\"text\": \"RSS_anchor1\"}}}, {\"showLink\": false, \"linkText\": \"Export to plot.ly\", \"plotlyServerURL\": \"https://plot.ly\"}); \n",
       "}\n",
       "});</script>"
      ],
      "text/vnd.plotly.v1+html": [
       "<div id=\"a3a21693-eb29-414a-8052-a176be1f11b5\" style=\"height: 550px; width: 950px;\" class=\"plotly-graph-div\"></div><script type=\"text/javascript\">require([\"plotly\"], function(Plotly) { window.PLOTLYENV=window.PLOTLYENV || {};window.PLOTLYENV.BASE_URL=\"https://plot.ly\";\n",
       "if (document.getElementById(\"a3a21693-eb29-414a-8052-a176be1f11b5\")) {\n",
       "    Plotly.newPlot(\"a3a21693-eb29-414a-8052-a176be1f11b5\", [{\"hovertemplate\": \"<b>%{hovertext}</b><br><br>target_label=Movement<br>_id=25<br>target_label=Movement<br>_id=25<br>time=%{x}<br>RSS_anchor1=%{y}<extra></extra>\", \"hovertext\": [1.0, 1.0, 1.0, 1.0, 1.0, 1.0, 1.0, 1.0, 1.0, 1.0, 1.0, 1.0, 1.0, 1.0, 1.0, 1.0, 1.0, 1.0, 1.0, 1.0, 1.0, 1.0, 1.0, 1.0], \"legendgroup\": \"target_label=Movement, _id=25\", \"line\": {\"color\": \"#AA0DFE\", \"dash\": \"solid\", \"shape\": \"linear\"}, \"mode\": \"lines\", \"name\": \"target_label=Movement, _id=25\", \"showlegend\": true, \"x\": [0.0, 0.125, 0.25, 0.375, 0.5, 0.625, 0.75, 0.875, 1.0, 1.125, 1.25, 1.375, 1.5, 1.625, 1.75, 1.875, 2.0, 2.125, 2.25, 2.375, 2.5, 2.625, 2.75, 2.875], \"xaxis\": \"x\", \"y\": [-0.57143, -0.7619, -0.9523799999999999, -0.85714, -0.66667, -0.57143, -0.47618999999999995, -0.28570999999999996, -0.28570999999999996, -0.28570999999999996, -0.28570999999999996, -0.2381, -0.2381, -0.2381, -0.33333, -0.047619, -0.14286, -0.42857, -0.2381, -0.19047999999999998, -0.14286, 0.0, 0.047619, 0.047619], \"yaxis\": \"y\", \"type\": \"scatter\", \"uid\": \"ee13c3ea-ebe6-4f3d-a509-533725d32da8\"}, {\"hovertemplate\": \"<b>%{hovertext}</b><br><br>target_label=Movement<br>_id=26<br>target_label=Movement<br>_id=26<br>time=%{x}<br>RSS_anchor1=%{y}<extra></extra>\", \"hovertext\": [1.0, 1.0, 1.0, 1.0, 1.0, 1.0, 1.0, 1.0, 1.0, 1.0, 1.0, 1.0, 1.0, 1.0, 1.0, 1.0, 1.0, 1.0, 1.0, 1.0, 1.0, 1.0, 1.0, 1.0, 1.0, 1.0], \"legendgroup\": \"target_label=Movement, _id=26\", \"line\": {\"color\": \"#AA0DFE\", \"dash\": \"dot\", \"shape\": \"linear\"}, \"mode\": \"lines\", \"name\": \"target_label=Movement, _id=26\", \"showlegend\": true, \"x\": [0.0, 0.125, 0.25, 0.375, 0.5, 0.625, 0.75, 0.875, 1.0, 1.125, 1.25, 1.375, 1.5, 1.625, 1.75, 1.875, 2.0, 2.125, 2.25, 2.375, 2.5, 2.625, 2.75, 2.875, 3.0, 3.125], \"xaxis\": \"x\", \"y\": [-1.0, -1.0, -1.0, -0.80952, -1.0, -0.57143, -0.66667, -0.85714, -0.52381, -0.52381, -0.33333, -0.47618999999999995, -0.57143, -0.28570999999999996, -0.28570999999999996, -0.28570999999999996, -0.19047999999999998, -0.19047999999999998, -0.19047999999999998, -0.33333, -0.047619, -0.2381, -0.33333, -0.42857, -0.2381, -0.14286], \"yaxis\": \"y\", \"type\": \"scatter\", \"uid\": \"437730cb-a148-44a5-a527-5df048bfb7df\"}, {\"hovertemplate\": \"<b>%{hovertext}</b><br><br>target_label=Non-Movement<br>_id=27<br>target_label=Non-Movement<br>_id=27<br>time=%{x}<br>RSS_anchor1=%{y}<extra></extra>\", \"hovertext\": [-1.0, -1.0, -1.0, -1.0, -1.0, -1.0, -1.0, -1.0, -1.0, -1.0, -1.0, -1.0, -1.0, -1.0, -1.0, -1.0, -1.0, -1.0, -1.0, -1.0, -1.0, -1.0, -1.0, -1.0, -1.0, -1.0, -1.0, -1.0, -1.0], \"legendgroup\": \"target_label=Non-Movement, _id=27\", \"line\": {\"color\": \"#3283FE\", \"dash\": \"dash\", \"shape\": \"linear\"}, \"mode\": \"lines\", \"name\": \"target_label=Non-Movement, _id=27\", \"showlegend\": true, \"x\": [0.0, 0.125, 0.25, 0.375, 0.5, 0.625, 0.75, 0.875, 1.0, 1.125, 1.25, 1.375, 1.5, 1.625, 1.75, 1.875, 2.0, 2.125, 2.25, 2.375, 2.5, 2.625, 2.75, 2.875, 3.0, 3.125, 3.25, 3.375, 3.5], \"xaxis\": \"x\", \"y\": [-0.57143, -0.57143, -0.57143, -0.52381, -0.90476, -0.85714, -0.66667, -0.42857, -0.28570999999999996, -0.2381, -0.52381, -0.61905, -0.52381, -0.28570999999999996, -0.38095, -0.57143, -0.80952, -0.52381, -0.57143, -1.0, -0.47618999999999995, -0.9523799999999999, -0.33333, -1.0, -0.28570999999999996, -0.095238, -0.2381, -0.42857, -0.38095], \"yaxis\": \"y2\", \"type\": \"scatter\", \"uid\": \"8be42993-8df3-4473-bb3f-f05f9fa96821\"}, {\"hovertemplate\": \"<b>%{hovertext}</b><br><br>target_label=Non-Movement<br>_id=28<br>target_label=Non-Movement<br>_id=28<br>time=%{x}<br>RSS_anchor1=%{y}<extra></extra>\", \"hovertext\": [-1.0, -1.0, -1.0, -1.0, -1.0, -1.0, -1.0, -1.0, -1.0, -1.0, -1.0, -1.0, -1.0, -1.0, -1.0, -1.0, -1.0, -1.0, -1.0, -1.0, -1.0, -1.0, -1.0, -1.0, -1.0, -1.0, -1.0, -1.0, -1.0], \"legendgroup\": \"target_label=Non-Movement, _id=28\", \"line\": {\"color\": \"#3283FE\", \"dash\": \"longdash\", \"shape\": \"linear\"}, \"mode\": \"lines\", \"name\": \"target_label=Non-Movement, _id=28\", \"showlegend\": true, \"x\": [0.0, 0.125, 0.25, 0.375, 0.5, 0.625, 0.75, 0.875, 1.0, 1.125, 1.25, 1.375, 1.5, 1.625, 1.75, 1.875, 2.0, 2.125, 2.25, 2.375, 2.5, 2.625, 2.75, 2.875, 3.0, 3.125, 3.25, 3.375, 3.5], \"xaxis\": \"x\", \"y\": [-1.0, -1.0, -1.0, -1.0, -0.66667, -0.71429, -0.80952, -0.90476, -0.66667, -0.57143, -0.57143, -0.71429, -1.0, -1.0, -1.0, -1.0, -0.9523799999999999, -0.42857, -0.57143, -0.47618999999999995, -0.42857, -0.19047999999999998, -0.28570999999999996, -0.7619, -0.28570999999999996, -0.71429, -0.57143, -0.47618999999999995, -0.47618999999999995], \"yaxis\": \"y2\", \"type\": \"scatter\", \"uid\": \"f812c214-7c4a-4145-8d4f-97bec7d18223\"}, {\"hovertemplate\": \"<b>%{hovertext}</b><br><br>target_label=Non-Movement<br>_id=29<br>target_label=Non-Movement<br>_id=29<br>time=%{x}<br>RSS_anchor1=%{y}<extra></extra>\", \"hovertext\": [-1.0, -1.0, -1.0, -1.0, -1.0, -1.0, -1.0, -1.0, -1.0, -1.0, -1.0, -1.0, -1.0, -1.0, -1.0, -1.0, -1.0, -1.0, -1.0, -1.0, -1.0, -1.0, -1.0, -1.0, -1.0], \"legendgroup\": \"target_label=Non-Movement, _id=29\", \"line\": {\"color\": \"#3283FE\", \"dash\": \"dashdot\", \"shape\": \"linear\"}, \"mode\": \"lines\", \"name\": \"target_label=Non-Movement, _id=29\", \"showlegend\": true, \"x\": [0.0, 0.125, 0.25, 0.375, 0.5, 0.625, 0.75, 0.875, 1.0, 1.125, 1.25, 1.375, 1.5, 1.625, 1.75, 1.875, 2.0, 2.125, 2.25, 2.375, 2.5, 2.625, 2.75, 2.875, 3.0], \"xaxis\": \"x\", \"y\": [-1.0, -0.66667, -0.66667, -0.85714, -0.71429, -0.71429, -0.61905, -0.52381, -0.57143, -0.57143, -0.85714, -0.9523799999999999, -1.0, -1.0, -0.85714, -0.85714, -0.66667, -0.52381, -0.57143, -0.85714, -0.47618999999999995, -0.42857, -0.28570999999999996, -0.28570999999999996, -0.71429], \"yaxis\": \"y2\", \"type\": \"scatter\", \"uid\": \"5b5ac6df-218c-4ff2-97a0-2ce7d08838cd\"}], {\"height\": 550, \"legend\": {\"tracegroupgap\": 0}, \"margin\": {\"t\": 60}, \"template\": {\"data\": {\"barpolar\": [{\"marker\": {\"line\": {\"color\": \"#E5ECF6\", \"width\": 0.5}}, \"type\": \"barpolar\"}], \"bar\": [{\"marker\": {\"line\": {\"color\": \"#E5ECF6\", \"width\": 0.5}}, \"type\": \"bar\"}], \"carpet\": [{\"aaxis\": {\"endlinecolor\": \"#2a3f5f\", \"gridcolor\": \"white\", \"linecolor\": \"white\", \"minorgridcolor\": \"white\", \"startlinecolor\": \"#2a3f5f\"}, \"baxis\": {\"endlinecolor\": \"#2a3f5f\", \"gridcolor\": \"white\", \"linecolor\": \"white\", \"minorgridcolor\": \"white\", \"startlinecolor\": \"#2a3f5f\"}, \"type\": \"carpet\"}], \"choropleth\": [{\"colorbar\": {\"outlinewidth\": 0, \"ticks\": \"\"}, \"type\": \"choropleth\"}], \"contourcarpet\": [{\"colorbar\": {\"outlinewidth\": 0, \"ticks\": \"\"}, \"type\": \"contourcarpet\"}], \"contour\": [{\"autocolorscale\": true, \"colorbar\": {\"outlinewidth\": 0, \"ticks\": \"\"}, \"type\": \"contour\"}], \"heatmapgl\": [{\"colorbar\": {\"outlinewidth\": 0, \"ticks\": \"\"}, \"type\": \"heatmapgl\"}], \"heatmap\": [{\"autocolorscale\": true, \"colorbar\": {\"outlinewidth\": 0, \"ticks\": \"\"}, \"type\": \"heatmap\"}], \"histogram2dcontour\": [{\"autocolorscale\": true, \"colorbar\": {\"outlinewidth\": 0, \"ticks\": \"\"}, \"type\": \"histogram2dcontour\"}], \"histogram2d\": [{\"autocolorscale\": true, \"colorbar\": {\"outlinewidth\": 0, \"ticks\": \"\"}, \"type\": \"histogram2d\"}], \"histogram\": [{\"marker\": {\"colorbar\": {\"outlinewidth\": 0, \"ticks\": \"\"}}, \"type\": \"histogram\"}], \"mesh3d\": [{\"colorbar\": {\"outlinewidth\": 0, \"ticks\": \"\"}, \"type\": \"mesh3d\"}], \"parcoords\": [{\"line\": {\"colorbar\": {\"outlinewidth\": 0, \"ticks\": \"\"}}, \"type\": \"parcoords\"}], \"scatter3d\": [{\"marker\": {\"colorbar\": {\"outlinewidth\": 0, \"ticks\": \"\"}}, \"type\": \"scatter3d\"}], \"scattercarpet\": [{\"marker\": {\"colorbar\": {\"outlinewidth\": 0, \"ticks\": \"\"}}, \"type\": \"scattercarpet\"}], \"scattergeo\": [{\"marker\": {\"colorbar\": {\"outlinewidth\": 0, \"ticks\": \"\"}}, \"type\": \"scattergeo\"}], \"scattergl\": [{\"marker\": {\"colorbar\": {\"outlinewidth\": 0, \"ticks\": \"\"}}, \"type\": \"scattergl\"}], \"scattermapbox\": [{\"marker\": {\"colorbar\": {\"outlinewidth\": 0, \"ticks\": \"\"}}, \"type\": \"scattermapbox\"}], \"scatterpolargl\": [{\"marker\": {\"colorbar\": {\"outlinewidth\": 0, \"ticks\": \"\"}}, \"type\": \"scatterpolargl\"}], \"scatterpolar\": [{\"marker\": {\"colorbar\": {\"outlinewidth\": 0, \"ticks\": \"\"}}, \"type\": \"scatterpolar\"}], \"scatter\": [{\"marker\": {\"colorbar\": {\"outlinewidth\": 0, \"ticks\": \"\"}}, \"type\": \"scatter\"}], \"scatterternary\": [{\"marker\": {\"colorbar\": {\"outlinewidth\": 0, \"ticks\": \"\"}}, \"type\": \"scatterternary\"}], \"surface\": [{\"colorbar\": {\"outlinewidth\": 0, \"ticks\": \"\"}, \"type\": \"surface\"}], \"table\": [{\"cells\": {\"fill\": {\"color\": \"#EBF0F8\"}, \"line\": {\"color\": \"white\"}}, \"header\": {\"fill\": {\"color\": \"#C8D4E3\"}, \"line\": {\"color\": \"white\"}}, \"type\": \"table\"}]}, \"layout\": {\"annotationdefaults\": {\"arrowcolor\": \"#506784\", \"arrowhead\": 0, \"arrowwidth\": 1}, \"colorscale\": {\"diverging\": [[0, \"#8e0152\"], [0.1, \"#c51b7d\"], [0.2, \"#de77ae\"], [0.3, \"#f1b6da\"], [0.4, \"#fde0ef\"], [0.5, \"#f7f7f7\"], [0.6, \"#e6f5d0\"], [0.7, \"#b8e186\"], [0.8, \"#7fbc41\"], [0.9, \"#4d9221\"], [1, \"#276419\"]], \"sequential\": [[0.0, \"#0508b8\"], [0.0893854748603352, \"#1910d8\"], [0.1787709497206704, \"#3c19f0\"], [0.2681564245810056, \"#6b1cfb\"], [0.3575418994413408, \"#981cfd\"], [0.44692737430167595, \"#bf1cfd\"], [0.5363128491620112, \"#dd2bfd\"], [0.6256983240223464, \"#f246fe\"], [0.7150837988826816, \"#fc67fd\"], [0.8044692737430168, \"#fe88fc\"], [0.8938547486033519, \"#fea5fd\"], [0.9832402234636871, \"#febefe\"], [1.0, \"#fec3fe\"]], \"sequentialminus\": [[0.0, \"#0508b8\"], [0.0893854748603352, \"#1910d8\"], [0.1787709497206704, \"#3c19f0\"], [0.2681564245810056, \"#6b1cfb\"], [0.3575418994413408, \"#981cfd\"], [0.44692737430167595, \"#bf1cfd\"], [0.5363128491620112, \"#dd2bfd\"], [0.6256983240223464, \"#f246fe\"], [0.7150837988826816, \"#fc67fd\"], [0.8044692737430168, \"#fe88fc\"], [0.8938547486033519, \"#fea5fd\"], [0.9832402234636871, \"#febefe\"], [1.0, \"#fec3fe\"]]}, \"colorway\": [\"#636efa\", \"#EF553B\", \"#00cc96\", \"#ab63fa\", \"#19d3f3\", \"#e763fa\", \"#FECB52\", \"#FFA15A\", \"#FF6692\", \"#B6E880\"], \"font\": {\"color\": \"#2a3f5f\"}, \"geo\": {\"bgcolor\": \"white\", \"lakecolor\": \"white\", \"landcolor\": \"#E5ECF6\", \"showlakes\": true, \"showland\": true, \"subunitcolor\": \"white\"}, \"hovermode\": \"closest\", \"mapbox\": {\"style\": \"light\"}, \"paper_bgcolor\": \"white\", \"plot_bgcolor\": \"#E5ECF6\", \"polar\": {\"angularaxis\": {\"gridcolor\": \"white\", \"linecolor\": \"white\", \"ticks\": \"\"}, \"bgcolor\": \"#E5ECF6\", \"radialaxis\": {\"gridcolor\": \"white\", \"linecolor\": \"white\", \"ticks\": \"\"}}, \"scene\": {\"xaxis\": {\"backgroundcolor\": \"#E5ECF6\", \"gridcolor\": \"white\", \"gridwidth\": 2, \"linecolor\": \"white\", \"showbackground\": true, \"ticks\": \"\", \"zerolinecolor\": \"white\"}, \"yaxis\": {\"backgroundcolor\": \"#E5ECF6\", \"gridcolor\": \"white\", \"gridwidth\": 2, \"linecolor\": \"white\", \"showbackground\": true, \"ticks\": \"\", \"zerolinecolor\": \"white\"}, \"zaxis\": {\"backgroundcolor\": \"#E5ECF6\", \"gridcolor\": \"white\", \"gridwidth\": 2, \"linecolor\": \"white\", \"showbackground\": true, \"ticks\": \"\", \"zerolinecolor\": \"white\"}}, \"shapedefaults\": {\"fillcolor\": \"#506784\", \"line\": {\"width\": 0}, \"opacity\": 0.4}, \"ternary\": {\"aaxis\": {\"gridcolor\": \"white\", \"linecolor\": \"white\", \"ticks\": \"\"}, \"baxis\": {\"gridcolor\": \"white\", \"linecolor\": \"white\", \"ticks\": \"\"}, \"bgcolor\": \"#E5ECF6\", \"caxis\": {\"gridcolor\": \"white\", \"linecolor\": \"white\", \"ticks\": \"\"}}, \"title\": {\"x\": 0.05}, \"xaxis\": {\"automargin\": true, \"gridcolor\": \"white\", \"linecolor\": \"white\", \"ticks\": \"\", \"zerolinecolor\": \"white\", \"zerolinewidth\": 2}, \"yaxis\": {\"automargin\": true, \"gridcolor\": \"white\", \"linecolor\": \"white\", \"ticks\": \"\", \"zerolinecolor\": \"white\", \"zerolinewidth\": 2}}}, \"width\": 950, \"grid\": {\"xaxes\": [\"x\"], \"yaxes\": [\"y\", \"y2\"], \"xgap\": 0.1, \"ygap\": 0.1, \"xside\": \"bottom\", \"yside\": \"left\"}, \"yaxis2\": {\"title\": {\"text\": \"RSS_anchor1\"}, \"matches\": \"y\"}, \"annotations\": [{\"showarrow\": false, \"text\": \"target_label=Movement\", \"textangle\": 90, \"x\": 1.01, \"xanchor\": \"center\", \"xref\": \"paper\", \"y\": 0.763157894736842, \"yanchor\": \"middle\", \"yref\": \"paper\"}, {\"showarrow\": false, \"text\": \"target_label=Non-Movement\", \"textangle\": 90, \"x\": 1.01, \"xanchor\": \"center\", \"xref\": \"paper\", \"y\": 0.23684210526315788, \"yanchor\": \"middle\", \"yref\": \"paper\"}], \"xaxis\": {\"title\": {\"text\": \"time\"}}, \"yaxis\": {\"title\": {\"text\": \"RSS_anchor1\"}}}, {\"showLink\": false, \"linkText\": \"Export to plot.ly\", \"plotlyServerURL\": \"https://plot.ly\"}); \n",
       "}\n",
       "});</script>"
      ]
     },
     "metadata": {},
     "output_type": "display_data"
    }
   ],
   "source": [
    "df_red = df[df['_id'].isin(np.arange(25, 30))]\n",
    "df_red.to_csv('../data/indoor_movement_red.csv', index = False)\n",
    "\n",
    "# signal visulalization\n",
    "\n",
    "i=1\n",
    "fig = px.line(df_red, x=\"time\", y=\"RSS_anchor{}\".format(i), color=\"target_label\", line_group=\"_id\", \n",
    "              hover_name=\"target\", line_shape=\"linear\", width = 950, height = 550, line_dash = '_id',\n",
    "              facet_row = 'target_label', color_discrete_sequence = px.colors.qualitative.Alphabet)\n",
    "iplot(fig)\n"
   ]
  },
  {
   "cell_type": "code",
   "execution_count": 144,
   "metadata": {},
   "outputs": [
    {
     "data": {
      "application/vnd.plotly.v1+json": {
       "config": {
        "linkText": "Export to plot.ly",
        "plotlyServerURL": "https://plot.ly",
        "showLink": false
       },
       "data": [
        {
         "hovertemplate": "<b>%{hovertext}</b><br><br>target_label=Movement<br>RSS_anchor2=%{x}<br>RSS_anchor3=%{y}<extra></extra>",
         "hovertext": [
          1,
          1,
          1,
          1,
          1,
          1,
          1,
          1,
          1,
          1,
          1,
          1,
          1,
          1,
          1,
          1,
          1,
          1,
          1,
          1,
          1,
          1,
          1,
          1,
          1,
          1,
          1,
          1,
          1,
          1,
          1,
          1,
          1,
          1,
          1,
          1,
          1,
          1,
          1,
          1,
          1,
          1,
          1,
          1,
          1,
          1,
          1,
          1,
          1,
          1
         ],
         "legendgroup": "target_label=Movement",
         "marker": {
          "color": "#2ED9FF",
          "symbol": "circle"
         },
         "mode": "markers",
         "name": "target_label=Movement",
         "showlegend": true,
         "type": "scatter",
         "uid": "98c410ff-5411-41d2-b00e-634d641d57f3",
         "x": [
          -0.36,
          -0.24,
          -0.2,
          -0.16,
          -0.2,
          -0.48,
          -0.4,
          -0.08,
          -0.08,
          -0.12,
          -0.48,
          -0.48,
          -0.2,
          0,
          -0.04,
          -0.08,
          -0.28,
          -0.32,
          -0.36,
          0,
          0.04,
          0.04,
          -0.08,
          -0.68,
          -0.4,
          -0.36,
          -0.76,
          -0.64,
          -0.56,
          -0.44,
          -0.28,
          -0.36,
          -0.24,
          -0.4,
          -0.32,
          -0.2,
          -0.32,
          -0.16,
          -0.12,
          -0.2,
          -0.4,
          -0.08,
          0,
          0.04,
          0.04,
          -0.08,
          -0.2,
          -0.52,
          0,
          0.04
         ],
         "xaxis": "x",
         "y": [
          0.57143,
          0.42857,
          0.14286,
          0.14286,
          0.38095,
          0.2381,
          0.14286,
          -0.2381,
          0,
          0.14286,
          0,
          0,
          0.14286,
          -0.047619,
          0.14286,
          -0.047619,
          0,
          0.047619,
          0.047619,
          -0.14286,
          0.047619,
          -0.42857,
          -0.047619,
          -0.14286,
          0.7619,
          0.71429,
          0.71429,
          0.85714,
          0.7619,
          0.57143,
          0.52381,
          0.19047999999999998,
          -0.14286,
          0.28570999999999996,
          0.28570999999999996,
          0.2381,
          0.14286,
          -0.7619,
          0,
          0.095238,
          -0.047619,
          0.14286,
          -0.14286,
          0.14286,
          0.095238,
          -0.14286,
          -0.14286,
          -0.33333,
          0,
          0
         ],
         "yaxis": "y"
        },
        {
         "alignmentgroup": "True",
         "legendgroup": "target_label=Movement",
         "marker": {
          "color": "#2ED9FF",
          "symbol": "circle"
         },
         "name": "target_label=Movement",
         "offsetgroup": "target_label=Movement",
         "scalegroup": "x",
         "showlegend": false,
         "type": "violin",
         "uid": "ff64ed80-56cd-4f06-9490-9f85a7cb1d17",
         "x": [
          -0.36,
          -0.24,
          -0.2,
          -0.16,
          -0.2,
          -0.48,
          -0.4,
          -0.08,
          -0.08,
          -0.12,
          -0.48,
          -0.48,
          -0.2,
          0,
          -0.04,
          -0.08,
          -0.28,
          -0.32,
          -0.36,
          0,
          0.04,
          0.04,
          -0.08,
          -0.68,
          -0.4,
          -0.36,
          -0.76,
          -0.64,
          -0.56,
          -0.44,
          -0.28,
          -0.36,
          -0.24,
          -0.4,
          -0.32,
          -0.2,
          -0.32,
          -0.16,
          -0.12,
          -0.2,
          -0.4,
          -0.08,
          0,
          0.04,
          0.04,
          -0.08,
          -0.2,
          -0.52,
          0,
          0.04
         ],
         "xaxis": "x",
         "yaxis": "y2"
        },
        {
         "alignmentgroup": "True",
         "hovertemplate": "target_label=Movement<br>RSS_anchor3=%{y}<extra></extra>",
         "legendgroup": "target_label=Movement",
         "marker": {
          "color": "#2ED9FF"
         },
         "name": "target_label=Movement",
         "offsetgroup": "target_label=Movement",
         "opacity": 0.5,
         "showlegend": false,
         "type": "histogram",
         "uid": "e1130b6a-7ed6-4ebd-aa09-4a10093265d8",
         "xaxis": "x2",
         "y": [
          0.57143,
          0.42857,
          0.14286,
          0.14286,
          0.38095,
          0.2381,
          0.14286,
          -0.2381,
          0,
          0.14286,
          0,
          0,
          0.14286,
          -0.047619,
          0.14286,
          -0.047619,
          0,
          0.047619,
          0.047619,
          -0.14286,
          0.047619,
          -0.42857,
          -0.047619,
          -0.14286,
          0.7619,
          0.71429,
          0.71429,
          0.85714,
          0.7619,
          0.57143,
          0.52381,
          0.19047999999999998,
          -0.14286,
          0.28570999999999996,
          0.28570999999999996,
          0.2381,
          0.14286,
          -0.7619,
          0,
          0.095238,
          -0.047619,
          0.14286,
          -0.14286,
          0.14286,
          0.095238,
          -0.14286,
          -0.14286,
          -0.33333,
          0,
          0
         ],
         "yaxis": "y"
        },
        {
         "hovertemplate": "<b>%{hovertext}</b><br><br>target_label=Non-Movement<br>RSS_anchor2=%{x}<br>RSS_anchor3=%{y}<extra></extra>",
         "hovertext": [
          -1,
          -1,
          -1,
          -1,
          -1,
          -1,
          -1,
          -1,
          -1,
          -1,
          -1,
          -1,
          -1,
          -1,
          -1,
          -1,
          -1,
          -1,
          -1,
          -1,
          -1,
          -1,
          -1,
          -1,
          -1,
          -1,
          -1,
          -1,
          -1,
          -1,
          -1,
          -1,
          -1,
          -1,
          -1,
          -1,
          -1,
          -1,
          -1,
          -1,
          -1,
          -1,
          -1,
          -1,
          -1,
          -1,
          -1,
          -1,
          -1,
          -1,
          -1,
          -1,
          -1,
          -1,
          -1,
          -1,
          -1,
          -1,
          -1,
          -1,
          -1,
          -1,
          -1,
          -1,
          -1,
          -1,
          -1,
          -1,
          -1,
          -1,
          -1,
          -1,
          -1,
          -1,
          -1,
          -1,
          -1,
          -1,
          -1,
          -1,
          -1,
          -1,
          -1
         ],
         "legendgroup": "target_label=Non-Movement",
         "marker": {
          "color": "#B10DA1",
          "symbol": "circle"
         },
         "mode": "markers",
         "name": "target_label=Non-Movement",
         "showlegend": true,
         "type": "scatter",
         "uid": "6878f02f-d831-4413-8ec5-ae6dd864219a",
         "x": [
          -0.12,
          -0.16,
          -0.2,
          -0.2,
          -0.08,
          0,
          -0.32,
          -0.56,
          -0.2,
          -0.2,
          -0.2,
          -0.08,
          0.04,
          0.04,
          0.16,
          0.16,
          0.12,
          0.32,
          0.16,
          0.16,
          0.12,
          0,
          0.08,
          -0.16,
          0.04,
          0.04,
          -0.76,
          0.08,
          -0.04,
          -0.44,
          -0.48,
          -0.48,
          -0.48,
          -0.08,
          -0.04,
          -0.32,
          -0.2,
          -0.32,
          -0.24,
          -0.28,
          -0.36,
          -0.56,
          -0.6,
          -0.32,
          -0.12,
          -0.08,
          0.04,
          -0.08,
          -0.2,
          -0.08,
          -0.24,
          -0.36,
          -0.08,
          0.04,
          0.04,
          -0.12,
          0,
          0.04,
          -0.2,
          -0.36,
          -0.2,
          -0.12,
          -0.2,
          -0.24,
          -0.36,
          -0.4,
          -0.4,
          -0.28,
          -0.48,
          -0.32,
          -0.32,
          -0.36,
          -0.64,
          -0.28,
          -0.12,
          -0.12,
          -0.12,
          -0.08,
          -0.2,
          -0.44,
          -0.32,
          -0.52,
          -0.08
         ],
         "xaxis": "x",
         "y": [
          -0.28570999999999996,
          0.14286,
          -0.19047999999999998,
          0,
          -0.66667,
          0.14286,
          0.047619,
          -0.28570999999999996,
          -0.14286,
          0.14286,
          0.047619,
          -0.047619,
          0.2381,
          -0.14286,
          -0.33333,
          0.14286,
          -0.38095,
          0,
          -0.52381,
          -0.19047999999999998,
          0.28570999999999996,
          -0.2381,
          0.14286,
          0.047619,
          0,
          -0.19047999999999998,
          0.047619,
          0.14286,
          0.14286,
          -0.38095,
          0.14286,
          -0.38095,
          -0.14286,
          0,
          0,
          0.095238,
          -0.42857,
          -0.28570999999999996,
          -0.14286,
          -0.33333,
          0,
          0.14286,
          -0.2381,
          -0.14286,
          -0.71429,
          -0.42857,
          -0.095238,
          0.047619,
          -0.14286,
          -0.42857,
          0,
          -0.14286,
          -0.28570999999999996,
          0.14286,
          0.28570999999999996,
          0.14286,
          -0.19047999999999998,
          -0.047619,
          0.19047999999999998,
          0.19047999999999998,
          -0.14286,
          -0.14286,
          0.14286,
          0,
          0,
          0.047619,
          0.2381,
          0.28570999999999996,
          0.2381,
          -0.095238,
          -0.38095,
          0.14286,
          -0.095238,
          0.14286,
          0,
          0.047619,
          -0.14286,
          -0.19047999999999998,
          -0.14286,
          -0.28570999999999996,
          0.14286,
          -0.14286,
          0
         ],
         "yaxis": "y"
        },
        {
         "alignmentgroup": "True",
         "legendgroup": "target_label=Non-Movement",
         "marker": {
          "color": "#B10DA1",
          "symbol": "circle"
         },
         "name": "target_label=Non-Movement",
         "offsetgroup": "target_label=Non-Movement",
         "scalegroup": "x",
         "showlegend": false,
         "type": "violin",
         "uid": "218b892c-5199-4287-951e-3e7b3682cef9",
         "x": [
          -0.12,
          -0.16,
          -0.2,
          -0.2,
          -0.08,
          0,
          -0.32,
          -0.56,
          -0.2,
          -0.2,
          -0.2,
          -0.08,
          0.04,
          0.04,
          0.16,
          0.16,
          0.12,
          0.32,
          0.16,
          0.16,
          0.12,
          0,
          0.08,
          -0.16,
          0.04,
          0.04,
          -0.76,
          0.08,
          -0.04,
          -0.44,
          -0.48,
          -0.48,
          -0.48,
          -0.08,
          -0.04,
          -0.32,
          -0.2,
          -0.32,
          -0.24,
          -0.28,
          -0.36,
          -0.56,
          -0.6,
          -0.32,
          -0.12,
          -0.08,
          0.04,
          -0.08,
          -0.2,
          -0.08,
          -0.24,
          -0.36,
          -0.08,
          0.04,
          0.04,
          -0.12,
          0,
          0.04,
          -0.2,
          -0.36,
          -0.2,
          -0.12,
          -0.2,
          -0.24,
          -0.36,
          -0.4,
          -0.4,
          -0.28,
          -0.48,
          -0.32,
          -0.32,
          -0.36,
          -0.64,
          -0.28,
          -0.12,
          -0.12,
          -0.12,
          -0.08,
          -0.2,
          -0.44,
          -0.32,
          -0.52,
          -0.08
         ],
         "xaxis": "x",
         "yaxis": "y2"
        },
        {
         "alignmentgroup": "True",
         "hovertemplate": "target_label=Non-Movement<br>RSS_anchor3=%{y}<extra></extra>",
         "legendgroup": "target_label=Non-Movement",
         "marker": {
          "color": "#B10DA1"
         },
         "name": "target_label=Non-Movement",
         "offsetgroup": "target_label=Non-Movement",
         "opacity": 0.5,
         "showlegend": false,
         "type": "histogram",
         "uid": "0a7fcbd1-8505-4e38-8c9a-5d54bdd2facb",
         "xaxis": "x2",
         "y": [
          -0.28570999999999996,
          0.14286,
          -0.19047999999999998,
          0,
          -0.66667,
          0.14286,
          0.047619,
          -0.28570999999999996,
          -0.14286,
          0.14286,
          0.047619,
          -0.047619,
          0.2381,
          -0.14286,
          -0.33333,
          0.14286,
          -0.38095,
          0,
          -0.52381,
          -0.19047999999999998,
          0.28570999999999996,
          -0.2381,
          0.14286,
          0.047619,
          0,
          -0.19047999999999998,
          0.047619,
          0.14286,
          0.14286,
          -0.38095,
          0.14286,
          -0.38095,
          -0.14286,
          0,
          0,
          0.095238,
          -0.42857,
          -0.28570999999999996,
          -0.14286,
          -0.33333,
          0,
          0.14286,
          -0.2381,
          -0.14286,
          -0.71429,
          -0.42857,
          -0.095238,
          0.047619,
          -0.14286,
          -0.42857,
          0,
          -0.14286,
          -0.28570999999999996,
          0.14286,
          0.28570999999999996,
          0.14286,
          -0.19047999999999998,
          -0.047619,
          0.19047999999999998,
          0.19047999999999998,
          -0.14286,
          -0.14286,
          0.14286,
          0,
          0,
          0.047619,
          0.2381,
          0.28570999999999996,
          0.2381,
          -0.095238,
          -0.38095,
          0.14286,
          -0.095238,
          0.14286,
          0,
          0.047619,
          -0.14286,
          -0.19047999999999998,
          -0.14286,
          -0.28570999999999996,
          0.14286,
          -0.14286,
          0
         ],
         "yaxis": "y"
        }
       ],
       "layout": {
        "barmode": "overlay",
        "height": 550,
        "legend": {
         "tracegroupgap": 0
        },
        "margin": {
         "t": 60
        },
        "template": {
         "data": {
          "bar": [
           {
            "marker": {
             "line": {
              "color": "#E5ECF6",
              "width": 0.5
             }
            },
            "type": "bar"
           }
          ],
          "barpolar": [
           {
            "marker": {
             "line": {
              "color": "#E5ECF6",
              "width": 0.5
             }
            },
            "type": "barpolar"
           }
          ],
          "carpet": [
           {
            "aaxis": {
             "endlinecolor": "#2a3f5f",
             "gridcolor": "white",
             "linecolor": "white",
             "minorgridcolor": "white",
             "startlinecolor": "#2a3f5f"
            },
            "baxis": {
             "endlinecolor": "#2a3f5f",
             "gridcolor": "white",
             "linecolor": "white",
             "minorgridcolor": "white",
             "startlinecolor": "#2a3f5f"
            },
            "type": "carpet"
           }
          ],
          "choropleth": [
           {
            "colorbar": {
             "outlinewidth": 0,
             "ticks": ""
            },
            "type": "choropleth"
           }
          ],
          "contour": [
           {
            "autocolorscale": true,
            "colorbar": {
             "outlinewidth": 0,
             "ticks": ""
            },
            "type": "contour"
           }
          ],
          "contourcarpet": [
           {
            "colorbar": {
             "outlinewidth": 0,
             "ticks": ""
            },
            "type": "contourcarpet"
           }
          ],
          "heatmap": [
           {
            "autocolorscale": true,
            "colorbar": {
             "outlinewidth": 0,
             "ticks": ""
            },
            "type": "heatmap"
           }
          ],
          "heatmapgl": [
           {
            "colorbar": {
             "outlinewidth": 0,
             "ticks": ""
            },
            "type": "heatmapgl"
           }
          ],
          "histogram": [
           {
            "marker": {
             "colorbar": {
              "outlinewidth": 0,
              "ticks": ""
             }
            },
            "type": "histogram"
           }
          ],
          "histogram2d": [
           {
            "autocolorscale": true,
            "colorbar": {
             "outlinewidth": 0,
             "ticks": ""
            },
            "type": "histogram2d"
           }
          ],
          "histogram2dcontour": [
           {
            "autocolorscale": true,
            "colorbar": {
             "outlinewidth": 0,
             "ticks": ""
            },
            "type": "histogram2dcontour"
           }
          ],
          "mesh3d": [
           {
            "colorbar": {
             "outlinewidth": 0,
             "ticks": ""
            },
            "type": "mesh3d"
           }
          ],
          "parcoords": [
           {
            "line": {
             "colorbar": {
              "outlinewidth": 0,
              "ticks": ""
             }
            },
            "type": "parcoords"
           }
          ],
          "scatter": [
           {
            "marker": {
             "colorbar": {
              "outlinewidth": 0,
              "ticks": ""
             }
            },
            "type": "scatter"
           }
          ],
          "scatter3d": [
           {
            "marker": {
             "colorbar": {
              "outlinewidth": 0,
              "ticks": ""
             }
            },
            "type": "scatter3d"
           }
          ],
          "scattercarpet": [
           {
            "marker": {
             "colorbar": {
              "outlinewidth": 0,
              "ticks": ""
             }
            },
            "type": "scattercarpet"
           }
          ],
          "scattergeo": [
           {
            "marker": {
             "colorbar": {
              "outlinewidth": 0,
              "ticks": ""
             }
            },
            "type": "scattergeo"
           }
          ],
          "scattergl": [
           {
            "marker": {
             "colorbar": {
              "outlinewidth": 0,
              "ticks": ""
             }
            },
            "type": "scattergl"
           }
          ],
          "scattermapbox": [
           {
            "marker": {
             "colorbar": {
              "outlinewidth": 0,
              "ticks": ""
             }
            },
            "type": "scattermapbox"
           }
          ],
          "scatterpolar": [
           {
            "marker": {
             "colorbar": {
              "outlinewidth": 0,
              "ticks": ""
             }
            },
            "type": "scatterpolar"
           }
          ],
          "scatterpolargl": [
           {
            "marker": {
             "colorbar": {
              "outlinewidth": 0,
              "ticks": ""
             }
            },
            "type": "scatterpolargl"
           }
          ],
          "scatterternary": [
           {
            "marker": {
             "colorbar": {
              "outlinewidth": 0,
              "ticks": ""
             }
            },
            "type": "scatterternary"
           }
          ],
          "surface": [
           {
            "colorbar": {
             "outlinewidth": 0,
             "ticks": ""
            },
            "type": "surface"
           }
          ],
          "table": [
           {
            "cells": {
             "fill": {
              "color": "#EBF0F8"
             },
             "line": {
              "color": "white"
             }
            },
            "header": {
             "fill": {
              "color": "#C8D4E3"
             },
             "line": {
              "color": "white"
             }
            },
            "type": "table"
           }
          ]
         },
         "layout": {
          "annotationdefaults": {
           "arrowcolor": "#506784",
           "arrowhead": 0,
           "arrowwidth": 1
          },
          "colorscale": {
           "diverging": [
            [
             0,
             "#8e0152"
            ],
            [
             0.1,
             "#c51b7d"
            ],
            [
             0.2,
             "#de77ae"
            ],
            [
             0.3,
             "#f1b6da"
            ],
            [
             0.4,
             "#fde0ef"
            ],
            [
             0.5,
             "#f7f7f7"
            ],
            [
             0.6,
             "#e6f5d0"
            ],
            [
             0.7,
             "#b8e186"
            ],
            [
             0.8,
             "#7fbc41"
            ],
            [
             0.9,
             "#4d9221"
            ],
            [
             1,
             "#276419"
            ]
           ],
           "sequential": [
            [
             0,
             "#0508b8"
            ],
            [
             0.0893854748603352,
             "#1910d8"
            ],
            [
             0.1787709497206704,
             "#3c19f0"
            ],
            [
             0.2681564245810056,
             "#6b1cfb"
            ],
            [
             0.3575418994413408,
             "#981cfd"
            ],
            [
             0.44692737430167595,
             "#bf1cfd"
            ],
            [
             0.5363128491620112,
             "#dd2bfd"
            ],
            [
             0.6256983240223464,
             "#f246fe"
            ],
            [
             0.7150837988826816,
             "#fc67fd"
            ],
            [
             0.8044692737430168,
             "#fe88fc"
            ],
            [
             0.8938547486033519,
             "#fea5fd"
            ],
            [
             0.9832402234636871,
             "#febefe"
            ],
            [
             1,
             "#fec3fe"
            ]
           ],
           "sequentialminus": [
            [
             0,
             "#0508b8"
            ],
            [
             0.0893854748603352,
             "#1910d8"
            ],
            [
             0.1787709497206704,
             "#3c19f0"
            ],
            [
             0.2681564245810056,
             "#6b1cfb"
            ],
            [
             0.3575418994413408,
             "#981cfd"
            ],
            [
             0.44692737430167595,
             "#bf1cfd"
            ],
            [
             0.5363128491620112,
             "#dd2bfd"
            ],
            [
             0.6256983240223464,
             "#f246fe"
            ],
            [
             0.7150837988826816,
             "#fc67fd"
            ],
            [
             0.8044692737430168,
             "#fe88fc"
            ],
            [
             0.8938547486033519,
             "#fea5fd"
            ],
            [
             0.9832402234636871,
             "#febefe"
            ],
            [
             1,
             "#fec3fe"
            ]
           ]
          },
          "colorway": [
           "#636efa",
           "#EF553B",
           "#00cc96",
           "#ab63fa",
           "#19d3f3",
           "#e763fa",
           "#FECB52",
           "#FFA15A",
           "#FF6692",
           "#B6E880"
          ],
          "font": {
           "color": "#2a3f5f"
          },
          "geo": {
           "bgcolor": "white",
           "lakecolor": "white",
           "landcolor": "#E5ECF6",
           "showlakes": true,
           "showland": true,
           "subunitcolor": "white"
          },
          "hovermode": "closest",
          "mapbox": {
           "style": "light"
          },
          "paper_bgcolor": "white",
          "plot_bgcolor": "#E5ECF6",
          "polar": {
           "angularaxis": {
            "gridcolor": "white",
            "linecolor": "white",
            "ticks": ""
           },
           "bgcolor": "#E5ECF6",
           "radialaxis": {
            "gridcolor": "white",
            "linecolor": "white",
            "ticks": ""
           }
          },
          "scene": {
           "xaxis": {
            "backgroundcolor": "#E5ECF6",
            "gridcolor": "white",
            "gridwidth": 2,
            "linecolor": "white",
            "showbackground": true,
            "ticks": "",
            "zerolinecolor": "white"
           },
           "yaxis": {
            "backgroundcolor": "#E5ECF6",
            "gridcolor": "white",
            "gridwidth": 2,
            "linecolor": "white",
            "showbackground": true,
            "ticks": "",
            "zerolinecolor": "white"
           },
           "zaxis": {
            "backgroundcolor": "#E5ECF6",
            "gridcolor": "white",
            "gridwidth": 2,
            "linecolor": "white",
            "showbackground": true,
            "ticks": "",
            "zerolinecolor": "white"
           }
          },
          "shapedefaults": {
           "fillcolor": "#506784",
           "line": {
            "width": 0
           },
           "opacity": 0.4
          },
          "ternary": {
           "aaxis": {
            "gridcolor": "white",
            "linecolor": "white",
            "ticks": ""
           },
           "baxis": {
            "gridcolor": "white",
            "linecolor": "white",
            "ticks": ""
           },
           "bgcolor": "#E5ECF6",
           "caxis": {
            "gridcolor": "white",
            "linecolor": "white",
            "ticks": ""
           }
          },
          "title": {
           "x": 0.05
          },
          "xaxis": {
           "automargin": true,
           "gridcolor": "white",
           "linecolor": "white",
           "ticks": "",
           "zerolinecolor": "white",
           "zerolinewidth": 2
          },
          "yaxis": {
           "automargin": true,
           "gridcolor": "white",
           "linecolor": "white",
           "ticks": "",
           "zerolinecolor": "white",
           "zerolinewidth": 2
          }
         }
        },
        "violinmode": "overlay",
        "width": 950,
        "xaxis": {
         "domain": [
          0,
          0.74
         ],
         "showgrid": true,
         "title": {
          "text": "RSS_anchor2"
         }
        },
        "xaxis2": {
         "domain": [
          0.745,
          1
         ],
         "showticklabels": false
        },
        "yaxis": {
         "domain": [
          0,
          0.74
         ],
         "showgrid": true,
         "title": {
          "text": "RSS_anchor3"
         }
        },
        "yaxis2": {
         "domain": [
          0.745,
          1
         ],
         "showticklabels": false
        }
       }
      },
      "text/html": [
       "<div id=\"589e21b7-7f26-4e36-876d-3ea033c324c5\" style=\"height: 550px; width: 950px;\" class=\"plotly-graph-div\"></div><script type=\"text/javascript\">require([\"plotly\"], function(Plotly) { window.PLOTLYENV=window.PLOTLYENV || {};window.PLOTLYENV.BASE_URL=\"https://plot.ly\";\n",
       "if (document.getElementById(\"589e21b7-7f26-4e36-876d-3ea033c324c5\")) {\n",
       "    Plotly.newPlot(\"589e21b7-7f26-4e36-876d-3ea033c324c5\", [{\"hovertemplate\": \"<b>%{hovertext}</b><br><br>target_label=Movement<br>RSS_anchor2=%{x}<br>RSS_anchor3=%{y}<extra></extra>\", \"hovertext\": [1.0, 1.0, 1.0, 1.0, 1.0, 1.0, 1.0, 1.0, 1.0, 1.0, 1.0, 1.0, 1.0, 1.0, 1.0, 1.0, 1.0, 1.0, 1.0, 1.0, 1.0, 1.0, 1.0, 1.0, 1.0, 1.0, 1.0, 1.0, 1.0, 1.0, 1.0, 1.0, 1.0, 1.0, 1.0, 1.0, 1.0, 1.0, 1.0, 1.0, 1.0, 1.0, 1.0, 1.0, 1.0, 1.0, 1.0, 1.0, 1.0, 1.0], \"legendgroup\": \"target_label=Movement\", \"marker\": {\"color\": \"#2ED9FF\", \"symbol\": \"circle\"}, \"mode\": \"markers\", \"name\": \"target_label=Movement\", \"showlegend\": true, \"x\": [-0.36, -0.24, -0.2, -0.16, -0.2, -0.48, -0.4, -0.08, -0.08, -0.12, -0.48, -0.48, -0.2, 0.0, -0.04, -0.08, -0.28, -0.32, -0.36, 0.0, 0.04, 0.04, -0.08, -0.68, -0.4, -0.36, -0.76, -0.64, -0.56, -0.44, -0.28, -0.36, -0.24, -0.4, -0.32, -0.2, -0.32, -0.16, -0.12, -0.2, -0.4, -0.08, 0.0, 0.04, 0.04, -0.08, -0.2, -0.52, 0.0, 0.04], \"xaxis\": \"x\", \"y\": [0.57143, 0.42857, 0.14286, 0.14286, 0.38095, 0.2381, 0.14286, -0.2381, 0.0, 0.14286, 0.0, 0.0, 0.14286, -0.047619, 0.14286, -0.047619, 0.0, 0.047619, 0.047619, -0.14286, 0.047619, -0.42857, -0.047619, -0.14286, 0.7619, 0.71429, 0.71429, 0.85714, 0.7619, 0.57143, 0.52381, 0.19047999999999998, -0.14286, 0.28570999999999996, 0.28570999999999996, 0.2381, 0.14286, -0.7619, 0.0, 0.095238, -0.047619, 0.14286, -0.14286, 0.14286, 0.095238, -0.14286, -0.14286, -0.33333, 0.0, 0.0], \"yaxis\": \"y\", \"type\": \"scatter\", \"uid\": \"98c410ff-5411-41d2-b00e-634d641d57f3\"}, {\"alignmentgroup\": \"True\", \"legendgroup\": \"target_label=Movement\", \"marker\": {\"color\": \"#2ED9FF\", \"symbol\": \"circle\"}, \"name\": \"target_label=Movement\", \"offsetgroup\": \"target_label=Movement\", \"scalegroup\": \"x\", \"showlegend\": false, \"x\": [-0.36, -0.24, -0.2, -0.16, -0.2, -0.48, -0.4, -0.08, -0.08, -0.12, -0.48, -0.48, -0.2, 0.0, -0.04, -0.08, -0.28, -0.32, -0.36, 0.0, 0.04, 0.04, -0.08, -0.68, -0.4, -0.36, -0.76, -0.64, -0.56, -0.44, -0.28, -0.36, -0.24, -0.4, -0.32, -0.2, -0.32, -0.16, -0.12, -0.2, -0.4, -0.08, 0.0, 0.04, 0.04, -0.08, -0.2, -0.52, 0.0, 0.04], \"xaxis\": \"x\", \"yaxis\": \"y2\", \"type\": \"violin\", \"uid\": \"ff64ed80-56cd-4f06-9490-9f85a7cb1d17\"}, {\"alignmentgroup\": \"True\", \"hovertemplate\": \"target_label=Movement<br>RSS_anchor3=%{y}<extra></extra>\", \"legendgroup\": \"target_label=Movement\", \"marker\": {\"color\": \"#2ED9FF\"}, \"name\": \"target_label=Movement\", \"offsetgroup\": \"target_label=Movement\", \"opacity\": 0.5, \"showlegend\": false, \"xaxis\": \"x2\", \"y\": [0.57143, 0.42857, 0.14286, 0.14286, 0.38095, 0.2381, 0.14286, -0.2381, 0.0, 0.14286, 0.0, 0.0, 0.14286, -0.047619, 0.14286, -0.047619, 0.0, 0.047619, 0.047619, -0.14286, 0.047619, -0.42857, -0.047619, -0.14286, 0.7619, 0.71429, 0.71429, 0.85714, 0.7619, 0.57143, 0.52381, 0.19047999999999998, -0.14286, 0.28570999999999996, 0.28570999999999996, 0.2381, 0.14286, -0.7619, 0.0, 0.095238, -0.047619, 0.14286, -0.14286, 0.14286, 0.095238, -0.14286, -0.14286, -0.33333, 0.0, 0.0], \"yaxis\": \"y\", \"type\": \"histogram\", \"uid\": \"e1130b6a-7ed6-4ebd-aa09-4a10093265d8\"}, {\"hovertemplate\": \"<b>%{hovertext}</b><br><br>target_label=Non-Movement<br>RSS_anchor2=%{x}<br>RSS_anchor3=%{y}<extra></extra>\", \"hovertext\": [-1.0, -1.0, -1.0, -1.0, -1.0, -1.0, -1.0, -1.0, -1.0, -1.0, -1.0, -1.0, -1.0, -1.0, -1.0, -1.0, -1.0, -1.0, -1.0, -1.0, -1.0, -1.0, -1.0, -1.0, -1.0, -1.0, -1.0, -1.0, -1.0, -1.0, -1.0, -1.0, -1.0, -1.0, -1.0, -1.0, -1.0, -1.0, -1.0, -1.0, -1.0, -1.0, -1.0, -1.0, -1.0, -1.0, -1.0, -1.0, -1.0, -1.0, -1.0, -1.0, -1.0, -1.0, -1.0, -1.0, -1.0, -1.0, -1.0, -1.0, -1.0, -1.0, -1.0, -1.0, -1.0, -1.0, -1.0, -1.0, -1.0, -1.0, -1.0, -1.0, -1.0, -1.0, -1.0, -1.0, -1.0, -1.0, -1.0, -1.0, -1.0, -1.0, -1.0], \"legendgroup\": \"target_label=Non-Movement\", \"marker\": {\"color\": \"#B10DA1\", \"symbol\": \"circle\"}, \"mode\": \"markers\", \"name\": \"target_label=Non-Movement\", \"showlegend\": true, \"x\": [-0.12, -0.16, -0.2, -0.2, -0.08, 0.0, -0.32, -0.56, -0.2, -0.2, -0.2, -0.08, 0.04, 0.04, 0.16, 0.16, 0.12, 0.32, 0.16, 0.16, 0.12, 0.0, 0.08, -0.16, 0.04, 0.04, -0.76, 0.08, -0.04, -0.44, -0.48, -0.48, -0.48, -0.08, -0.04, -0.32, -0.2, -0.32, -0.24, -0.28, -0.36, -0.56, -0.6, -0.32, -0.12, -0.08, 0.04, -0.08, -0.2, -0.08, -0.24, -0.36, -0.08, 0.04, 0.04, -0.12, 0.0, 0.04, -0.2, -0.36, -0.2, -0.12, -0.2, -0.24, -0.36, -0.4, -0.4, -0.28, -0.48, -0.32, -0.32, -0.36, -0.64, -0.28, -0.12, -0.12, -0.12, -0.08, -0.2, -0.44, -0.32, -0.52, -0.08], \"xaxis\": \"x\", \"y\": [-0.28570999999999996, 0.14286, -0.19047999999999998, 0.0, -0.66667, 0.14286, 0.047619, -0.28570999999999996, -0.14286, 0.14286, 0.047619, -0.047619, 0.2381, -0.14286, -0.33333, 0.14286, -0.38095, 0.0, -0.52381, -0.19047999999999998, 0.28570999999999996, -0.2381, 0.14286, 0.047619, 0.0, -0.19047999999999998, 0.047619, 0.14286, 0.14286, -0.38095, 0.14286, -0.38095, -0.14286, 0.0, 0.0, 0.095238, -0.42857, -0.28570999999999996, -0.14286, -0.33333, 0.0, 0.14286, -0.2381, -0.14286, -0.71429, -0.42857, -0.095238, 0.047619, -0.14286, -0.42857, 0.0, -0.14286, -0.28570999999999996, 0.14286, 0.28570999999999996, 0.14286, -0.19047999999999998, -0.047619, 0.19047999999999998, 0.19047999999999998, -0.14286, -0.14286, 0.14286, 0.0, 0.0, 0.047619, 0.2381, 0.28570999999999996, 0.2381, -0.095238, -0.38095, 0.14286, -0.095238, 0.14286, 0.0, 0.047619, -0.14286, -0.19047999999999998, -0.14286, -0.28570999999999996, 0.14286, -0.14286, 0.0], \"yaxis\": \"y\", \"type\": \"scatter\", \"uid\": \"6878f02f-d831-4413-8ec5-ae6dd864219a\"}, {\"alignmentgroup\": \"True\", \"legendgroup\": \"target_label=Non-Movement\", \"marker\": {\"color\": \"#B10DA1\", \"symbol\": \"circle\"}, \"name\": \"target_label=Non-Movement\", \"offsetgroup\": \"target_label=Non-Movement\", \"scalegroup\": \"x\", \"showlegend\": false, \"x\": [-0.12, -0.16, -0.2, -0.2, -0.08, 0.0, -0.32, -0.56, -0.2, -0.2, -0.2, -0.08, 0.04, 0.04, 0.16, 0.16, 0.12, 0.32, 0.16, 0.16, 0.12, 0.0, 0.08, -0.16, 0.04, 0.04, -0.76, 0.08, -0.04, -0.44, -0.48, -0.48, -0.48, -0.08, -0.04, -0.32, -0.2, -0.32, -0.24, -0.28, -0.36, -0.56, -0.6, -0.32, -0.12, -0.08, 0.04, -0.08, -0.2, -0.08, -0.24, -0.36, -0.08, 0.04, 0.04, -0.12, 0.0, 0.04, -0.2, -0.36, -0.2, -0.12, -0.2, -0.24, -0.36, -0.4, -0.4, -0.28, -0.48, -0.32, -0.32, -0.36, -0.64, -0.28, -0.12, -0.12, -0.12, -0.08, -0.2, -0.44, -0.32, -0.52, -0.08], \"xaxis\": \"x\", \"yaxis\": \"y2\", \"type\": \"violin\", \"uid\": \"218b892c-5199-4287-951e-3e7b3682cef9\"}, {\"alignmentgroup\": \"True\", \"hovertemplate\": \"target_label=Non-Movement<br>RSS_anchor3=%{y}<extra></extra>\", \"legendgroup\": \"target_label=Non-Movement\", \"marker\": {\"color\": \"#B10DA1\"}, \"name\": \"target_label=Non-Movement\", \"offsetgroup\": \"target_label=Non-Movement\", \"opacity\": 0.5, \"showlegend\": false, \"xaxis\": \"x2\", \"y\": [-0.28570999999999996, 0.14286, -0.19047999999999998, 0.0, -0.66667, 0.14286, 0.047619, -0.28570999999999996, -0.14286, 0.14286, 0.047619, -0.047619, 0.2381, -0.14286, -0.33333, 0.14286, -0.38095, 0.0, -0.52381, -0.19047999999999998, 0.28570999999999996, -0.2381, 0.14286, 0.047619, 0.0, -0.19047999999999998, 0.047619, 0.14286, 0.14286, -0.38095, 0.14286, -0.38095, -0.14286, 0.0, 0.0, 0.095238, -0.42857, -0.28570999999999996, -0.14286, -0.33333, 0.0, 0.14286, -0.2381, -0.14286, -0.71429, -0.42857, -0.095238, 0.047619, -0.14286, -0.42857, 0.0, -0.14286, -0.28570999999999996, 0.14286, 0.28570999999999996, 0.14286, -0.19047999999999998, -0.047619, 0.19047999999999998, 0.19047999999999998, -0.14286, -0.14286, 0.14286, 0.0, 0.0, 0.047619, 0.2381, 0.28570999999999996, 0.2381, -0.095238, -0.38095, 0.14286, -0.095238, 0.14286, 0.0, 0.047619, -0.14286, -0.19047999999999998, -0.14286, -0.28570999999999996, 0.14286, -0.14286, 0.0], \"yaxis\": \"y\", \"type\": \"histogram\", \"uid\": \"0a7fcbd1-8505-4e38-8c9a-5d54bdd2facb\"}], {\"height\": 550, \"legend\": {\"tracegroupgap\": 0}, \"margin\": {\"t\": 60}, \"template\": {\"data\": {\"barpolar\": [{\"marker\": {\"line\": {\"color\": \"#E5ECF6\", \"width\": 0.5}}, \"type\": \"barpolar\"}], \"bar\": [{\"marker\": {\"line\": {\"color\": \"#E5ECF6\", \"width\": 0.5}}, \"type\": \"bar\"}], \"carpet\": [{\"aaxis\": {\"endlinecolor\": \"#2a3f5f\", \"gridcolor\": \"white\", \"linecolor\": \"white\", \"minorgridcolor\": \"white\", \"startlinecolor\": \"#2a3f5f\"}, \"baxis\": {\"endlinecolor\": \"#2a3f5f\", \"gridcolor\": \"white\", \"linecolor\": \"white\", \"minorgridcolor\": \"white\", \"startlinecolor\": \"#2a3f5f\"}, \"type\": \"carpet\"}], \"choropleth\": [{\"colorbar\": {\"outlinewidth\": 0, \"ticks\": \"\"}, \"type\": \"choropleth\"}], \"contourcarpet\": [{\"colorbar\": {\"outlinewidth\": 0, \"ticks\": \"\"}, \"type\": \"contourcarpet\"}], \"contour\": [{\"autocolorscale\": true, \"colorbar\": {\"outlinewidth\": 0, \"ticks\": \"\"}, \"type\": \"contour\"}], \"heatmapgl\": [{\"colorbar\": {\"outlinewidth\": 0, \"ticks\": \"\"}, \"type\": \"heatmapgl\"}], \"heatmap\": [{\"autocolorscale\": true, \"colorbar\": {\"outlinewidth\": 0, \"ticks\": \"\"}, \"type\": \"heatmap\"}], \"histogram2dcontour\": [{\"autocolorscale\": true, \"colorbar\": {\"outlinewidth\": 0, \"ticks\": \"\"}, \"type\": \"histogram2dcontour\"}], \"histogram2d\": [{\"autocolorscale\": true, \"colorbar\": {\"outlinewidth\": 0, \"ticks\": \"\"}, \"type\": \"histogram2d\"}], \"histogram\": [{\"marker\": {\"colorbar\": {\"outlinewidth\": 0, \"ticks\": \"\"}}, \"type\": \"histogram\"}], \"mesh3d\": [{\"colorbar\": {\"outlinewidth\": 0, \"ticks\": \"\"}, \"type\": \"mesh3d\"}], \"parcoords\": [{\"line\": {\"colorbar\": {\"outlinewidth\": 0, \"ticks\": \"\"}}, \"type\": \"parcoords\"}], \"scatter3d\": [{\"marker\": {\"colorbar\": {\"outlinewidth\": 0, \"ticks\": \"\"}}, \"type\": \"scatter3d\"}], \"scattercarpet\": [{\"marker\": {\"colorbar\": {\"outlinewidth\": 0, \"ticks\": \"\"}}, \"type\": \"scattercarpet\"}], \"scattergeo\": [{\"marker\": {\"colorbar\": {\"outlinewidth\": 0, \"ticks\": \"\"}}, \"type\": \"scattergeo\"}], \"scattergl\": [{\"marker\": {\"colorbar\": {\"outlinewidth\": 0, \"ticks\": \"\"}}, \"type\": \"scattergl\"}], \"scattermapbox\": [{\"marker\": {\"colorbar\": {\"outlinewidth\": 0, \"ticks\": \"\"}}, \"type\": \"scattermapbox\"}], \"scatterpolargl\": [{\"marker\": {\"colorbar\": {\"outlinewidth\": 0, \"ticks\": \"\"}}, \"type\": \"scatterpolargl\"}], \"scatterpolar\": [{\"marker\": {\"colorbar\": {\"outlinewidth\": 0, \"ticks\": \"\"}}, \"type\": \"scatterpolar\"}], \"scatter\": [{\"marker\": {\"colorbar\": {\"outlinewidth\": 0, \"ticks\": \"\"}}, \"type\": \"scatter\"}], \"scatterternary\": [{\"marker\": {\"colorbar\": {\"outlinewidth\": 0, \"ticks\": \"\"}}, \"type\": \"scatterternary\"}], \"surface\": [{\"colorbar\": {\"outlinewidth\": 0, \"ticks\": \"\"}, \"type\": \"surface\"}], \"table\": [{\"cells\": {\"fill\": {\"color\": \"#EBF0F8\"}, \"line\": {\"color\": \"white\"}}, \"header\": {\"fill\": {\"color\": \"#C8D4E3\"}, \"line\": {\"color\": \"white\"}}, \"type\": \"table\"}]}, \"layout\": {\"annotationdefaults\": {\"arrowcolor\": \"#506784\", \"arrowhead\": 0, \"arrowwidth\": 1}, \"colorscale\": {\"diverging\": [[0, \"#8e0152\"], [0.1, \"#c51b7d\"], [0.2, \"#de77ae\"], [0.3, \"#f1b6da\"], [0.4, \"#fde0ef\"], [0.5, \"#f7f7f7\"], [0.6, \"#e6f5d0\"], [0.7, \"#b8e186\"], [0.8, \"#7fbc41\"], [0.9, \"#4d9221\"], [1, \"#276419\"]], \"sequential\": [[0.0, \"#0508b8\"], [0.0893854748603352, \"#1910d8\"], [0.1787709497206704, \"#3c19f0\"], [0.2681564245810056, \"#6b1cfb\"], [0.3575418994413408, \"#981cfd\"], [0.44692737430167595, \"#bf1cfd\"], [0.5363128491620112, \"#dd2bfd\"], [0.6256983240223464, \"#f246fe\"], [0.7150837988826816, \"#fc67fd\"], [0.8044692737430168, \"#fe88fc\"], [0.8938547486033519, \"#fea5fd\"], [0.9832402234636871, \"#febefe\"], [1.0, \"#fec3fe\"]], \"sequentialminus\": [[0.0, \"#0508b8\"], [0.0893854748603352, \"#1910d8\"], [0.1787709497206704, \"#3c19f0\"], [0.2681564245810056, \"#6b1cfb\"], [0.3575418994413408, \"#981cfd\"], [0.44692737430167595, \"#bf1cfd\"], [0.5363128491620112, \"#dd2bfd\"], [0.6256983240223464, \"#f246fe\"], [0.7150837988826816, \"#fc67fd\"], [0.8044692737430168, \"#fe88fc\"], [0.8938547486033519, \"#fea5fd\"], [0.9832402234636871, \"#febefe\"], [1.0, \"#fec3fe\"]]}, \"colorway\": [\"#636efa\", \"#EF553B\", \"#00cc96\", \"#ab63fa\", \"#19d3f3\", \"#e763fa\", \"#FECB52\", \"#FFA15A\", \"#FF6692\", \"#B6E880\"], \"font\": {\"color\": \"#2a3f5f\"}, \"geo\": {\"bgcolor\": \"white\", \"lakecolor\": \"white\", \"landcolor\": \"#E5ECF6\", \"showlakes\": true, \"showland\": true, \"subunitcolor\": \"white\"}, \"hovermode\": \"closest\", \"mapbox\": {\"style\": \"light\"}, \"paper_bgcolor\": \"white\", \"plot_bgcolor\": \"#E5ECF6\", \"polar\": {\"angularaxis\": {\"gridcolor\": \"white\", \"linecolor\": \"white\", \"ticks\": \"\"}, \"bgcolor\": \"#E5ECF6\", \"radialaxis\": {\"gridcolor\": \"white\", \"linecolor\": \"white\", \"ticks\": \"\"}}, \"scene\": {\"xaxis\": {\"backgroundcolor\": \"#E5ECF6\", \"gridcolor\": \"white\", \"gridwidth\": 2, \"linecolor\": \"white\", \"showbackground\": true, \"ticks\": \"\", \"zerolinecolor\": \"white\"}, \"yaxis\": {\"backgroundcolor\": \"#E5ECF6\", \"gridcolor\": \"white\", \"gridwidth\": 2, \"linecolor\": \"white\", \"showbackground\": true, \"ticks\": \"\", \"zerolinecolor\": \"white\"}, \"zaxis\": {\"backgroundcolor\": \"#E5ECF6\", \"gridcolor\": \"white\", \"gridwidth\": 2, \"linecolor\": \"white\", \"showbackground\": true, \"ticks\": \"\", \"zerolinecolor\": \"white\"}}, \"shapedefaults\": {\"fillcolor\": \"#506784\", \"line\": {\"width\": 0}, \"opacity\": 0.4}, \"ternary\": {\"aaxis\": {\"gridcolor\": \"white\", \"linecolor\": \"white\", \"ticks\": \"\"}, \"baxis\": {\"gridcolor\": \"white\", \"linecolor\": \"white\", \"ticks\": \"\"}, \"bgcolor\": \"#E5ECF6\", \"caxis\": {\"gridcolor\": \"white\", \"linecolor\": \"white\", \"ticks\": \"\"}}, \"title\": {\"x\": 0.05}, \"xaxis\": {\"automargin\": true, \"gridcolor\": \"white\", \"linecolor\": \"white\", \"ticks\": \"\", \"zerolinecolor\": \"white\", \"zerolinewidth\": 2}, \"yaxis\": {\"automargin\": true, \"gridcolor\": \"white\", \"linecolor\": \"white\", \"ticks\": \"\", \"zerolinecolor\": \"white\", \"zerolinewidth\": 2}}}, \"width\": 950, \"xaxis\": {\"title\": {\"text\": \"RSS_anchor2\"}, \"domain\": [0, 0.74], \"showgrid\": true}, \"yaxis\": {\"title\": {\"text\": \"RSS_anchor3\"}, \"domain\": [0, 0.74], \"showgrid\": true}, \"yaxis2\": {\"domain\": [0.745, 1], \"showticklabels\": false}, \"xaxis2\": {\"domain\": [0.745, 1], \"showticklabels\": false}, \"barmode\": \"overlay\", \"violinmode\": \"overlay\"}, {\"showLink\": false, \"linkText\": \"Export to plot.ly\", \"plotlyServerURL\": \"https://plot.ly\"}); \n",
       "}\n",
       "});</script>"
      ],
      "text/vnd.plotly.v1+html": [
       "<div id=\"589e21b7-7f26-4e36-876d-3ea033c324c5\" style=\"height: 550px; width: 950px;\" class=\"plotly-graph-div\"></div><script type=\"text/javascript\">require([\"plotly\"], function(Plotly) { window.PLOTLYENV=window.PLOTLYENV || {};window.PLOTLYENV.BASE_URL=\"https://plot.ly\";\n",
       "if (document.getElementById(\"589e21b7-7f26-4e36-876d-3ea033c324c5\")) {\n",
       "    Plotly.newPlot(\"589e21b7-7f26-4e36-876d-3ea033c324c5\", [{\"hovertemplate\": \"<b>%{hovertext}</b><br><br>target_label=Movement<br>RSS_anchor2=%{x}<br>RSS_anchor3=%{y}<extra></extra>\", \"hovertext\": [1.0, 1.0, 1.0, 1.0, 1.0, 1.0, 1.0, 1.0, 1.0, 1.0, 1.0, 1.0, 1.0, 1.0, 1.0, 1.0, 1.0, 1.0, 1.0, 1.0, 1.0, 1.0, 1.0, 1.0, 1.0, 1.0, 1.0, 1.0, 1.0, 1.0, 1.0, 1.0, 1.0, 1.0, 1.0, 1.0, 1.0, 1.0, 1.0, 1.0, 1.0, 1.0, 1.0, 1.0, 1.0, 1.0, 1.0, 1.0, 1.0, 1.0], \"legendgroup\": \"target_label=Movement\", \"marker\": {\"color\": \"#2ED9FF\", \"symbol\": \"circle\"}, \"mode\": \"markers\", \"name\": \"target_label=Movement\", \"showlegend\": true, \"x\": [-0.36, -0.24, -0.2, -0.16, -0.2, -0.48, -0.4, -0.08, -0.08, -0.12, -0.48, -0.48, -0.2, 0.0, -0.04, -0.08, -0.28, -0.32, -0.36, 0.0, 0.04, 0.04, -0.08, -0.68, -0.4, -0.36, -0.76, -0.64, -0.56, -0.44, -0.28, -0.36, -0.24, -0.4, -0.32, -0.2, -0.32, -0.16, -0.12, -0.2, -0.4, -0.08, 0.0, 0.04, 0.04, -0.08, -0.2, -0.52, 0.0, 0.04], \"xaxis\": \"x\", \"y\": [0.57143, 0.42857, 0.14286, 0.14286, 0.38095, 0.2381, 0.14286, -0.2381, 0.0, 0.14286, 0.0, 0.0, 0.14286, -0.047619, 0.14286, -0.047619, 0.0, 0.047619, 0.047619, -0.14286, 0.047619, -0.42857, -0.047619, -0.14286, 0.7619, 0.71429, 0.71429, 0.85714, 0.7619, 0.57143, 0.52381, 0.19047999999999998, -0.14286, 0.28570999999999996, 0.28570999999999996, 0.2381, 0.14286, -0.7619, 0.0, 0.095238, -0.047619, 0.14286, -0.14286, 0.14286, 0.095238, -0.14286, -0.14286, -0.33333, 0.0, 0.0], \"yaxis\": \"y\", \"type\": \"scatter\", \"uid\": \"98c410ff-5411-41d2-b00e-634d641d57f3\"}, {\"alignmentgroup\": \"True\", \"legendgroup\": \"target_label=Movement\", \"marker\": {\"color\": \"#2ED9FF\", \"symbol\": \"circle\"}, \"name\": \"target_label=Movement\", \"offsetgroup\": \"target_label=Movement\", \"scalegroup\": \"x\", \"showlegend\": false, \"x\": [-0.36, -0.24, -0.2, -0.16, -0.2, -0.48, -0.4, -0.08, -0.08, -0.12, -0.48, -0.48, -0.2, 0.0, -0.04, -0.08, -0.28, -0.32, -0.36, 0.0, 0.04, 0.04, -0.08, -0.68, -0.4, -0.36, -0.76, -0.64, -0.56, -0.44, -0.28, -0.36, -0.24, -0.4, -0.32, -0.2, -0.32, -0.16, -0.12, -0.2, -0.4, -0.08, 0.0, 0.04, 0.04, -0.08, -0.2, -0.52, 0.0, 0.04], \"xaxis\": \"x\", \"yaxis\": \"y2\", \"type\": \"violin\", \"uid\": \"ff64ed80-56cd-4f06-9490-9f85a7cb1d17\"}, {\"alignmentgroup\": \"True\", \"hovertemplate\": \"target_label=Movement<br>RSS_anchor3=%{y}<extra></extra>\", \"legendgroup\": \"target_label=Movement\", \"marker\": {\"color\": \"#2ED9FF\"}, \"name\": \"target_label=Movement\", \"offsetgroup\": \"target_label=Movement\", \"opacity\": 0.5, \"showlegend\": false, \"xaxis\": \"x2\", \"y\": [0.57143, 0.42857, 0.14286, 0.14286, 0.38095, 0.2381, 0.14286, -0.2381, 0.0, 0.14286, 0.0, 0.0, 0.14286, -0.047619, 0.14286, -0.047619, 0.0, 0.047619, 0.047619, -0.14286, 0.047619, -0.42857, -0.047619, -0.14286, 0.7619, 0.71429, 0.71429, 0.85714, 0.7619, 0.57143, 0.52381, 0.19047999999999998, -0.14286, 0.28570999999999996, 0.28570999999999996, 0.2381, 0.14286, -0.7619, 0.0, 0.095238, -0.047619, 0.14286, -0.14286, 0.14286, 0.095238, -0.14286, -0.14286, -0.33333, 0.0, 0.0], \"yaxis\": \"y\", \"type\": \"histogram\", \"uid\": \"e1130b6a-7ed6-4ebd-aa09-4a10093265d8\"}, {\"hovertemplate\": \"<b>%{hovertext}</b><br><br>target_label=Non-Movement<br>RSS_anchor2=%{x}<br>RSS_anchor3=%{y}<extra></extra>\", \"hovertext\": [-1.0, -1.0, -1.0, -1.0, -1.0, -1.0, -1.0, -1.0, -1.0, -1.0, -1.0, -1.0, -1.0, -1.0, -1.0, -1.0, -1.0, -1.0, -1.0, -1.0, -1.0, -1.0, -1.0, -1.0, -1.0, -1.0, -1.0, -1.0, -1.0, -1.0, -1.0, -1.0, -1.0, -1.0, -1.0, -1.0, -1.0, -1.0, -1.0, -1.0, -1.0, -1.0, -1.0, -1.0, -1.0, -1.0, -1.0, -1.0, -1.0, -1.0, -1.0, -1.0, -1.0, -1.0, -1.0, -1.0, -1.0, -1.0, -1.0, -1.0, -1.0, -1.0, -1.0, -1.0, -1.0, -1.0, -1.0, -1.0, -1.0, -1.0, -1.0, -1.0, -1.0, -1.0, -1.0, -1.0, -1.0, -1.0, -1.0, -1.0, -1.0, -1.0, -1.0], \"legendgroup\": \"target_label=Non-Movement\", \"marker\": {\"color\": \"#B10DA1\", \"symbol\": \"circle\"}, \"mode\": \"markers\", \"name\": \"target_label=Non-Movement\", \"showlegend\": true, \"x\": [-0.12, -0.16, -0.2, -0.2, -0.08, 0.0, -0.32, -0.56, -0.2, -0.2, -0.2, -0.08, 0.04, 0.04, 0.16, 0.16, 0.12, 0.32, 0.16, 0.16, 0.12, 0.0, 0.08, -0.16, 0.04, 0.04, -0.76, 0.08, -0.04, -0.44, -0.48, -0.48, -0.48, -0.08, -0.04, -0.32, -0.2, -0.32, -0.24, -0.28, -0.36, -0.56, -0.6, -0.32, -0.12, -0.08, 0.04, -0.08, -0.2, -0.08, -0.24, -0.36, -0.08, 0.04, 0.04, -0.12, 0.0, 0.04, -0.2, -0.36, -0.2, -0.12, -0.2, -0.24, -0.36, -0.4, -0.4, -0.28, -0.48, -0.32, -0.32, -0.36, -0.64, -0.28, -0.12, -0.12, -0.12, -0.08, -0.2, -0.44, -0.32, -0.52, -0.08], \"xaxis\": \"x\", \"y\": [-0.28570999999999996, 0.14286, -0.19047999999999998, 0.0, -0.66667, 0.14286, 0.047619, -0.28570999999999996, -0.14286, 0.14286, 0.047619, -0.047619, 0.2381, -0.14286, -0.33333, 0.14286, -0.38095, 0.0, -0.52381, -0.19047999999999998, 0.28570999999999996, -0.2381, 0.14286, 0.047619, 0.0, -0.19047999999999998, 0.047619, 0.14286, 0.14286, -0.38095, 0.14286, -0.38095, -0.14286, 0.0, 0.0, 0.095238, -0.42857, -0.28570999999999996, -0.14286, -0.33333, 0.0, 0.14286, -0.2381, -0.14286, -0.71429, -0.42857, -0.095238, 0.047619, -0.14286, -0.42857, 0.0, -0.14286, -0.28570999999999996, 0.14286, 0.28570999999999996, 0.14286, -0.19047999999999998, -0.047619, 0.19047999999999998, 0.19047999999999998, -0.14286, -0.14286, 0.14286, 0.0, 0.0, 0.047619, 0.2381, 0.28570999999999996, 0.2381, -0.095238, -0.38095, 0.14286, -0.095238, 0.14286, 0.0, 0.047619, -0.14286, -0.19047999999999998, -0.14286, -0.28570999999999996, 0.14286, -0.14286, 0.0], \"yaxis\": \"y\", \"type\": \"scatter\", \"uid\": \"6878f02f-d831-4413-8ec5-ae6dd864219a\"}, {\"alignmentgroup\": \"True\", \"legendgroup\": \"target_label=Non-Movement\", \"marker\": {\"color\": \"#B10DA1\", \"symbol\": \"circle\"}, \"name\": \"target_label=Non-Movement\", \"offsetgroup\": \"target_label=Non-Movement\", \"scalegroup\": \"x\", \"showlegend\": false, \"x\": [-0.12, -0.16, -0.2, -0.2, -0.08, 0.0, -0.32, -0.56, -0.2, -0.2, -0.2, -0.08, 0.04, 0.04, 0.16, 0.16, 0.12, 0.32, 0.16, 0.16, 0.12, 0.0, 0.08, -0.16, 0.04, 0.04, -0.76, 0.08, -0.04, -0.44, -0.48, -0.48, -0.48, -0.08, -0.04, -0.32, -0.2, -0.32, -0.24, -0.28, -0.36, -0.56, -0.6, -0.32, -0.12, -0.08, 0.04, -0.08, -0.2, -0.08, -0.24, -0.36, -0.08, 0.04, 0.04, -0.12, 0.0, 0.04, -0.2, -0.36, -0.2, -0.12, -0.2, -0.24, -0.36, -0.4, -0.4, -0.28, -0.48, -0.32, -0.32, -0.36, -0.64, -0.28, -0.12, -0.12, -0.12, -0.08, -0.2, -0.44, -0.32, -0.52, -0.08], \"xaxis\": \"x\", \"yaxis\": \"y2\", \"type\": \"violin\", \"uid\": \"218b892c-5199-4287-951e-3e7b3682cef9\"}, {\"alignmentgroup\": \"True\", \"hovertemplate\": \"target_label=Non-Movement<br>RSS_anchor3=%{y}<extra></extra>\", \"legendgroup\": \"target_label=Non-Movement\", \"marker\": {\"color\": \"#B10DA1\"}, \"name\": \"target_label=Non-Movement\", \"offsetgroup\": \"target_label=Non-Movement\", \"opacity\": 0.5, \"showlegend\": false, \"xaxis\": \"x2\", \"y\": [-0.28570999999999996, 0.14286, -0.19047999999999998, 0.0, -0.66667, 0.14286, 0.047619, -0.28570999999999996, -0.14286, 0.14286, 0.047619, -0.047619, 0.2381, -0.14286, -0.33333, 0.14286, -0.38095, 0.0, -0.52381, -0.19047999999999998, 0.28570999999999996, -0.2381, 0.14286, 0.047619, 0.0, -0.19047999999999998, 0.047619, 0.14286, 0.14286, -0.38095, 0.14286, -0.38095, -0.14286, 0.0, 0.0, 0.095238, -0.42857, -0.28570999999999996, -0.14286, -0.33333, 0.0, 0.14286, -0.2381, -0.14286, -0.71429, -0.42857, -0.095238, 0.047619, -0.14286, -0.42857, 0.0, -0.14286, -0.28570999999999996, 0.14286, 0.28570999999999996, 0.14286, -0.19047999999999998, -0.047619, 0.19047999999999998, 0.19047999999999998, -0.14286, -0.14286, 0.14286, 0.0, 0.0, 0.047619, 0.2381, 0.28570999999999996, 0.2381, -0.095238, -0.38095, 0.14286, -0.095238, 0.14286, 0.0, 0.047619, -0.14286, -0.19047999999999998, -0.14286, -0.28570999999999996, 0.14286, -0.14286, 0.0], \"yaxis\": \"y\", \"type\": \"histogram\", \"uid\": \"0a7fcbd1-8505-4e38-8c9a-5d54bdd2facb\"}], {\"height\": 550, \"legend\": {\"tracegroupgap\": 0}, \"margin\": {\"t\": 60}, \"template\": {\"data\": {\"barpolar\": [{\"marker\": {\"line\": {\"color\": \"#E5ECF6\", \"width\": 0.5}}, \"type\": \"barpolar\"}], \"bar\": [{\"marker\": {\"line\": {\"color\": \"#E5ECF6\", \"width\": 0.5}}, \"type\": \"bar\"}], \"carpet\": [{\"aaxis\": {\"endlinecolor\": \"#2a3f5f\", \"gridcolor\": \"white\", \"linecolor\": \"white\", \"minorgridcolor\": \"white\", \"startlinecolor\": \"#2a3f5f\"}, \"baxis\": {\"endlinecolor\": \"#2a3f5f\", \"gridcolor\": \"white\", \"linecolor\": \"white\", \"minorgridcolor\": \"white\", \"startlinecolor\": \"#2a3f5f\"}, \"type\": \"carpet\"}], \"choropleth\": [{\"colorbar\": {\"outlinewidth\": 0, \"ticks\": \"\"}, \"type\": \"choropleth\"}], \"contourcarpet\": [{\"colorbar\": {\"outlinewidth\": 0, \"ticks\": \"\"}, \"type\": \"contourcarpet\"}], \"contour\": [{\"autocolorscale\": true, \"colorbar\": {\"outlinewidth\": 0, \"ticks\": \"\"}, \"type\": \"contour\"}], \"heatmapgl\": [{\"colorbar\": {\"outlinewidth\": 0, \"ticks\": \"\"}, \"type\": \"heatmapgl\"}], \"heatmap\": [{\"autocolorscale\": true, \"colorbar\": {\"outlinewidth\": 0, \"ticks\": \"\"}, \"type\": \"heatmap\"}], \"histogram2dcontour\": [{\"autocolorscale\": true, \"colorbar\": {\"outlinewidth\": 0, \"ticks\": \"\"}, \"type\": \"histogram2dcontour\"}], \"histogram2d\": [{\"autocolorscale\": true, \"colorbar\": {\"outlinewidth\": 0, \"ticks\": \"\"}, \"type\": \"histogram2d\"}], \"histogram\": [{\"marker\": {\"colorbar\": {\"outlinewidth\": 0, \"ticks\": \"\"}}, \"type\": \"histogram\"}], \"mesh3d\": [{\"colorbar\": {\"outlinewidth\": 0, \"ticks\": \"\"}, \"type\": \"mesh3d\"}], \"parcoords\": [{\"line\": {\"colorbar\": {\"outlinewidth\": 0, \"ticks\": \"\"}}, \"type\": \"parcoords\"}], \"scatter3d\": [{\"marker\": {\"colorbar\": {\"outlinewidth\": 0, \"ticks\": \"\"}}, \"type\": \"scatter3d\"}], \"scattercarpet\": [{\"marker\": {\"colorbar\": {\"outlinewidth\": 0, \"ticks\": \"\"}}, \"type\": \"scattercarpet\"}], \"scattergeo\": [{\"marker\": {\"colorbar\": {\"outlinewidth\": 0, \"ticks\": \"\"}}, \"type\": \"scattergeo\"}], \"scattergl\": [{\"marker\": {\"colorbar\": {\"outlinewidth\": 0, \"ticks\": \"\"}}, \"type\": \"scattergl\"}], \"scattermapbox\": [{\"marker\": {\"colorbar\": {\"outlinewidth\": 0, \"ticks\": \"\"}}, \"type\": \"scattermapbox\"}], \"scatterpolargl\": [{\"marker\": {\"colorbar\": {\"outlinewidth\": 0, \"ticks\": \"\"}}, \"type\": \"scatterpolargl\"}], \"scatterpolar\": [{\"marker\": {\"colorbar\": {\"outlinewidth\": 0, \"ticks\": \"\"}}, \"type\": \"scatterpolar\"}], \"scatter\": [{\"marker\": {\"colorbar\": {\"outlinewidth\": 0, \"ticks\": \"\"}}, \"type\": \"scatter\"}], \"scatterternary\": [{\"marker\": {\"colorbar\": {\"outlinewidth\": 0, \"ticks\": \"\"}}, \"type\": \"scatterternary\"}], \"surface\": [{\"colorbar\": {\"outlinewidth\": 0, \"ticks\": \"\"}, \"type\": \"surface\"}], \"table\": [{\"cells\": {\"fill\": {\"color\": \"#EBF0F8\"}, \"line\": {\"color\": \"white\"}}, \"header\": {\"fill\": {\"color\": \"#C8D4E3\"}, \"line\": {\"color\": \"white\"}}, \"type\": \"table\"}]}, \"layout\": {\"annotationdefaults\": {\"arrowcolor\": \"#506784\", \"arrowhead\": 0, \"arrowwidth\": 1}, \"colorscale\": {\"diverging\": [[0, \"#8e0152\"], [0.1, \"#c51b7d\"], [0.2, \"#de77ae\"], [0.3, \"#f1b6da\"], [0.4, \"#fde0ef\"], [0.5, \"#f7f7f7\"], [0.6, \"#e6f5d0\"], [0.7, \"#b8e186\"], [0.8, \"#7fbc41\"], [0.9, \"#4d9221\"], [1, \"#276419\"]], \"sequential\": [[0.0, \"#0508b8\"], [0.0893854748603352, \"#1910d8\"], [0.1787709497206704, \"#3c19f0\"], [0.2681564245810056, \"#6b1cfb\"], [0.3575418994413408, \"#981cfd\"], [0.44692737430167595, \"#bf1cfd\"], [0.5363128491620112, \"#dd2bfd\"], [0.6256983240223464, \"#f246fe\"], [0.7150837988826816, \"#fc67fd\"], [0.8044692737430168, \"#fe88fc\"], [0.8938547486033519, \"#fea5fd\"], [0.9832402234636871, \"#febefe\"], [1.0, \"#fec3fe\"]], \"sequentialminus\": [[0.0, \"#0508b8\"], [0.0893854748603352, \"#1910d8\"], [0.1787709497206704, \"#3c19f0\"], [0.2681564245810056, \"#6b1cfb\"], [0.3575418994413408, \"#981cfd\"], [0.44692737430167595, \"#bf1cfd\"], [0.5363128491620112, \"#dd2bfd\"], [0.6256983240223464, \"#f246fe\"], [0.7150837988826816, \"#fc67fd\"], [0.8044692737430168, \"#fe88fc\"], [0.8938547486033519, \"#fea5fd\"], [0.9832402234636871, \"#febefe\"], [1.0, \"#fec3fe\"]]}, \"colorway\": [\"#636efa\", \"#EF553B\", \"#00cc96\", \"#ab63fa\", \"#19d3f3\", \"#e763fa\", \"#FECB52\", \"#FFA15A\", \"#FF6692\", \"#B6E880\"], \"font\": {\"color\": \"#2a3f5f\"}, \"geo\": {\"bgcolor\": \"white\", \"lakecolor\": \"white\", \"landcolor\": \"#E5ECF6\", \"showlakes\": true, \"showland\": true, \"subunitcolor\": \"white\"}, \"hovermode\": \"closest\", \"mapbox\": {\"style\": \"light\"}, \"paper_bgcolor\": \"white\", \"plot_bgcolor\": \"#E5ECF6\", \"polar\": {\"angularaxis\": {\"gridcolor\": \"white\", \"linecolor\": \"white\", \"ticks\": \"\"}, \"bgcolor\": \"#E5ECF6\", \"radialaxis\": {\"gridcolor\": \"white\", \"linecolor\": \"white\", \"ticks\": \"\"}}, \"scene\": {\"xaxis\": {\"backgroundcolor\": \"#E5ECF6\", \"gridcolor\": \"white\", \"gridwidth\": 2, \"linecolor\": \"white\", \"showbackground\": true, \"ticks\": \"\", \"zerolinecolor\": \"white\"}, \"yaxis\": {\"backgroundcolor\": \"#E5ECF6\", \"gridcolor\": \"white\", \"gridwidth\": 2, \"linecolor\": \"white\", \"showbackground\": true, \"ticks\": \"\", \"zerolinecolor\": \"white\"}, \"zaxis\": {\"backgroundcolor\": \"#E5ECF6\", \"gridcolor\": \"white\", \"gridwidth\": 2, \"linecolor\": \"white\", \"showbackground\": true, \"ticks\": \"\", \"zerolinecolor\": \"white\"}}, \"shapedefaults\": {\"fillcolor\": \"#506784\", \"line\": {\"width\": 0}, \"opacity\": 0.4}, \"ternary\": {\"aaxis\": {\"gridcolor\": \"white\", \"linecolor\": \"white\", \"ticks\": \"\"}, \"baxis\": {\"gridcolor\": \"white\", \"linecolor\": \"white\", \"ticks\": \"\"}, \"bgcolor\": \"#E5ECF6\", \"caxis\": {\"gridcolor\": \"white\", \"linecolor\": \"white\", \"ticks\": \"\"}}, \"title\": {\"x\": 0.05}, \"xaxis\": {\"automargin\": true, \"gridcolor\": \"white\", \"linecolor\": \"white\", \"ticks\": \"\", \"zerolinecolor\": \"white\", \"zerolinewidth\": 2}, \"yaxis\": {\"automargin\": true, \"gridcolor\": \"white\", \"linecolor\": \"white\", \"ticks\": \"\", \"zerolinecolor\": \"white\", \"zerolinewidth\": 2}}}, \"width\": 950, \"xaxis\": {\"title\": {\"text\": \"RSS_anchor2\"}, \"domain\": [0, 0.74], \"showgrid\": true}, \"yaxis\": {\"title\": {\"text\": \"RSS_anchor3\"}, \"domain\": [0, 0.74], \"showgrid\": true}, \"yaxis2\": {\"domain\": [0.745, 1], \"showticklabels\": false}, \"xaxis2\": {\"domain\": [0.745, 1], \"showticklabels\": false}, \"barmode\": \"overlay\", \"violinmode\": \"overlay\"}, {\"showLink\": false, \"linkText\": \"Export to plot.ly\", \"plotlyServerURL\": \"https://plot.ly\"}); \n",
       "}\n",
       "});</script>"
      ]
     },
     "metadata": {},
     "output_type": "display_data"
    }
   ],
   "source": [
    "px.scatter(df_red, x=\"RSS_anchor2\", y=\"RSS_anchor3\", color=\"target_label\", \n",
    "              hover_name=\"target\", width = 950, height = 550, marginal_x = 'violin' , \n",
    "           marginal_y = 'histogram', color_discrete_sequence = px.colors.qualitative.Alphabet[-7:-5]\n",
    "              )"
   ]
  },
  {
   "cell_type": "code",
   "execution_count": 147,
   "metadata": {},
   "outputs": [
    {
     "name": "stdout",
     "output_type": "stream",
     "text": [
      "Solving environment: done\n",
      "\n",
      "\n",
      "==> WARNING: A newer version of conda exists. <==\n",
      "  current version: 4.5.12\n",
      "  latest version: 4.6.14\n",
      "\n",
      "Please update conda by running\n",
      "\n",
      "    $ conda update -n base -c defaults conda\n",
      "\n",
      "\n",
      "\n",
      "## Package Plan ##\n",
      "\n",
      "  environment location: /home/redowan/anaconda3\n",
      "\n",
      "  added / updated specs: \n",
      "    - umap-learn\n",
      "\n",
      "\n",
      "The following packages will be downloaded:\n",
      "\n",
      "    package                    |            build\n",
      "    ---------------------------|-----------------\n",
      "    conda-4.6.14               |           py37_0         2.1 MB  conda-forge\n",
      "    umap-learn-0.3.8           |           py37_0          61 KB  conda-forge\n",
      "    ------------------------------------------------------------\n",
      "                                           Total:         2.1 MB\n",
      "\n",
      "The following NEW packages will be INSTALLED:\n",
      "\n",
      "    umap-learn: 0.3.8-py37_0  conda-forge\n",
      "\n",
      "The following packages will be UPDATED:\n",
      "\n",
      "    conda:      4.5.12-py37_0             --> 4.6.14-py37_0 conda-forge\n",
      "\n",
      "\n",
      "Downloading and Extracting Packages\n",
      "conda-4.6.14         | 2.1 MB    | ##################################### | 100% \n",
      "umap-learn-0.3.8     | 61 KB     | ##################################### | 100% \n",
      "Preparing transaction: failed\n",
      "\n",
      "# >>>>>>>>>>>>>>>>>>>>>> ERROR REPORT <<<<<<<<<<<<<<<<<<<<<<\n",
      "\n",
      "    Traceback (most recent call last):\n",
      "      File \"/home/redowan/anaconda3/lib/python3.7/site-packages/conda/exceptions.py\", line 819, in __call__\n",
      "        return func(*args, **kwargs)\n",
      "      File \"/home/redowan/anaconda3/lib/python3.7/site-packages/conda/cli/main.py\", line 78, in _main\n",
      "        exit_code = do_call(args, p)\n",
      "      File \"/home/redowan/anaconda3/lib/python3.7/site-packages/conda/cli/conda_argparse.py\", line 77, in do_call\n",
      "        exit_code = getattr(module, func_name)(args, parser)\n",
      "      File \"/home/redowan/anaconda3/lib/python3.7/site-packages/conda/cli/main_install.py\", line 11, in execute\n",
      "        install(args, parser, 'install')\n",
      "      File \"/home/redowan/anaconda3/lib/python3.7/site-packages/conda/cli/install.py\", line 253, in install\n",
      "        handle_txn(unlink_link_transaction, prefix, args, newenv)\n",
      "      File \"/home/redowan/anaconda3/lib/python3.7/site-packages/conda/cli/install.py\", line 282, in handle_txn\n",
      "        unlink_link_transaction.execute()\n",
      "      File \"/home/redowan/anaconda3/lib/python3.7/site-packages/conda/core/link.py\", line 223, in execute\n",
      "        self.verify()\n",
      "      File \"/home/redowan/anaconda3/lib/python3.7/site-packages/conda/common/io.py\", line 46, in decorated\n",
      "        return f(*args, **kwds)\n",
      "      File \"/home/redowan/anaconda3/lib/python3.7/site-packages/conda/core/link.py\", line 200, in verify\n",
      "        self.prepare()\n",
      "      File \"/home/redowan/anaconda3/lib/python3.7/site-packages/conda/core/link.py\", line 192, in prepare\n",
      "        stp.remove_specs, stp.update_specs)\n",
      "      File \"/home/redowan/anaconda3/lib/python3.7/site-packages/conda/core/link.py\", line 282, in _prepare\n",
      "        mkdir_p(transaction_context['temp_dir'])\n",
      "      File \"/home/redowan/anaconda3/lib/python3.7/site-packages/conda/gateways/disk/__init__.py\", line 60, in mkdir_p\n",
      "        makedirs(path)\n",
      "      File \"/home/redowan/anaconda3/lib/python3.7/os.py\", line 221, in makedirs\n",
      "        mkdir(name, mode)\n",
      "    PermissionError: [Errno 13] Permission denied: '/home/redowan/anaconda3/.condatmp'\n",
      "\n",
      "`$ /home/redowan/anaconda3/bin/conda install -c conda-forge umap-learn -y`\n",
      "\n",
      "  environment variables:\n",
      "                 CIO_TEST=<not set>\n",
      "        CONDA_DEFAULT_ENV=base\n",
      "                CONDA_EXE=/home/redowan/anaconda3/bin/conda\n",
      "             CONDA_PREFIX=/home/redowan/anaconda3\n",
      "    CONDA_PROMPT_MODIFIER=\n",
      "         CONDA_PYTHON_EXE=/home/redowan/anaconda3/bin/python\n",
      "               CONDA_ROOT=/home/redowan/anaconda3\n",
      "              CONDA_SHLVL=1\n",
      "                     PATH=/home/redowan/anaconda3/bin:/home/redowan/anaconda3/bin:/home/redowan/\n",
      "                          .local/bin:/usr/local/sbin:/usr/local/bin:/usr/sbin:/usr/bin:/sbin:/bi\n",
      "                          n:/usr/games:/usr/local/games:/snap/bin\n",
      "       REQUESTS_CA_BUNDLE=<not set>\n",
      "            SSL_CERT_FILE=<not set>\n",
      "               WINDOWPATH=1\n",
      "\n",
      "     active environment : base\n",
      "    active env location : /home/redowan/anaconda3\n",
      "            shell level : 1\n",
      "       user config file : /home/redowan/.condarc\n",
      " populated config files : \n",
      "          conda version : 4.5.12\n",
      "    conda-build version : 3.17.6\n",
      "         python version : 3.7.1.final.0\n",
      "       base environment : /home/redowan/anaconda3  (read only)\n",
      "           channel URLs : https://conda.anaconda.org/conda-forge/linux-64\n",
      "                          https://conda.anaconda.org/conda-forge/noarch\n",
      "                          https://repo.anaconda.com/pkgs/main/linux-64\n",
      "                          https://repo.anaconda.com/pkgs/main/noarch\n",
      "                          https://repo.anaconda.com/pkgs/free/linux-64\n",
      "                          https://repo.anaconda.com/pkgs/free/noarch\n",
      "                          https://repo.anaconda.com/pkgs/r/linux-64\n",
      "                          https://repo.anaconda.com/pkgs/r/noarch\n",
      "                          https://repo.anaconda.com/pkgs/pro/linux-64\n",
      "                          https://repo.anaconda.com/pkgs/pro/noarch\n",
      "          package cache : /home/redowan/anaconda3/pkgs\n",
      "                          /home/redowan/.conda/pkgs\n",
      "       envs directories : /home/redowan/.conda/envs\n",
      "                          /home/redowan/anaconda3/envs\n",
      "               platform : linux-64\n",
      "             user-agent : conda/4.5.12 requests/2.21.0 CPython/3.7.1 Linux/4.15.0-47-generic ubuntu/18.04 glibc/2.27\n",
      "                UID:GID : 1000:1000\n",
      "             netrc file : None\n",
      "           offline mode : False\n",
      "\n",
      "\n",
      "An unexpected error has occurred. Conda has prepared the above report.\n",
      "Upload successful.\n"
     ]
    }
   ],
   "source": [
    "! conda install -c conda-forge umap-learn -y"
   ]
  },
  {
   "cell_type": "code",
   "execution_count": null,
   "metadata": {},
   "outputs": [],
   "source": []
  }
 ],
 "metadata": {
  "kernelspec": {
   "display_name": "Python 3",
   "language": "python",
   "name": "python3"
  },
  "language_info": {
   "codemirror_mode": {
    "name": "ipython",
    "version": 3
   },
   "file_extension": ".py",
   "mimetype": "text/x-python",
   "name": "python",
   "nbconvert_exporter": "python",
   "pygments_lexer": "ipython3",
   "version": "3.7.1"
  }
 },
 "nbformat": 4,
 "nbformat_minor": 2
}
